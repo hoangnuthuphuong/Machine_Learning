{
  "nbformat": 4,
  "nbformat_minor": 0,
  "metadata": {
    "colab": {
      "provenance": [],
      "collapsed_sections": [
        "uSpmydl3tzQw",
        "wPknnMtzt4_I",
        "IeWb4VGfumAt",
        "oHhL4V7twCc-"
      ],
      "authorship_tag": "ABX9TyMj5KMjEV3igQM0KN5oJe59",
      "include_colab_link": true
    },
    "kernelspec": {
      "name": "python3",
      "display_name": "Python 3"
    },
    "language_info": {
      "name": "python"
    }
  },
  "cells": [
    {
      "cell_type": "markdown",
      "metadata": {
        "id": "view-in-github",
        "colab_type": "text"
      },
      "source": [
        "<a href=\"https://colab.research.google.com/github/hoangnuthuphuong/Machine_Learning/blob/main/C4_BaiTapTaiLop1.ipynb\" target=\"_parent\"><img src=\"https://colab.research.google.com/assets/colab-badge.svg\" alt=\"Open In Colab\"/></a>"
      ]
    },
    {
      "cell_type": "markdown",
      "source": [
        "# **Xây dựng mô hình hồi quy Logistic với thuật toán Gradient descent, yêu cầu:**\n",
        "- Hoàn thiện bảng phân tích Toán - Python (gửi lại file word đã điền đầy đủ trong phần trả lời bài tập)\n",
        "- Xây dựng chương trình hoàn chỉnh (gửi code trong phần trả lời bài tập)\n",
        "- Sử dụng tập tin dữ liệu được cung cấp trong bài tập"
      ],
      "metadata": {
        "id": "uSpmydl3tzQw"
      }
    },
    {
      "cell_type": "code",
      "source": [
        "# Các thư viện\n",
        "import numpy as  np\n",
        "import os\n",
        "from matplotlib import pyplot as plt"
      ],
      "metadata": {
        "id": "JzyffUszSjWa"
      },
      "execution_count": 53,
      "outputs": []
    },
    {
      "cell_type": "code",
      "source": [
        "# Kết nối với drive \n",
        "from google.colab import drive\n",
        "drive.mount('/content/gdrive')"
      ],
      "metadata": {
        "colab": {
          "base_uri": "https://localhost:8080/"
        },
        "id": "zvVFzWDEuIPX",
        "outputId": "e01382e5-5aae-4fac-8de6-c15616139533"
      },
      "execution_count": 54,
      "outputs": [
        {
          "output_type": "stream",
          "name": "stdout",
          "text": [
            "Drive already mounted at /content/gdrive; to attempt to forcibly remount, call drive.mount(\"/content/gdrive\", force_remount=True).\n"
          ]
        }
      ]
    },
    {
      "cell_type": "markdown",
      "source": [
        "# **Hoàn thiện bảng phân tích Toán - Python**"
      ],
      "metadata": {
        "id": "wPknnMtzt4_I"
      }
    },
    {
      "cell_type": "markdown",
      "source": [
        "**1.** Tập dữ liệu $𝐷 =  {(𝑥_𝑖, 𝑦_𝑖)| 𝑥_𝑖   ∈ 𝑅^𝑛, 𝑦_𝑖   ∈  {0,1}, ∀𝑖 = ̅1̅̅,̅𝑚̅̅    }.$\n",
        "\n",
        "Lấy ra $𝑋 =  {𝑥_𝑖| 𝑥_𝑖   ∈ 𝑅^𝑛, ∀𝑖 = ̅1̅̅,̅𝑚̅̅ }$ và $𝑦 = {𝑦_𝑖| 𝑦_𝑖   ∈  {0,1}, ∀𝑖 =   ̅ ̅1̅,𝑚̅ }$ từ tập D.\n",
        "Ghi chú:\n",
        "- 𝑋 ∈ 𝑅𝑚×𝑛\n",
        "- 𝑦 ∈ {0,1}𝑚×1\n",
        "\n",
        "**2.** Chuyển đổi không gian của X từ $𝑅^𝑛$ sang $𝑅^{𝑛+1}$ bằng cách thêm 1 cột chứa các giá trị 1 vào bên trái ma trận X.\n",
        "\n",
        "-\tTạo vector (ma trận 𝑚 × 1) chứa các số $1, 𝑥_0$ = \n",
        "$\\begin{bmatrix}\n",
        "x_{01} = 1\\\\\n",
        "⋮\t\\\\\n",
        "x_{0m} = 1\n",
        "\\end{bmatrix}$\n",
        "\n",
        "-\tTạo ma trận X mới: $𝑋 = [𝑥_0, 𝑋]$\n",
        "Ghi chú: lúc này $𝑋 ∈ 𝑅^{𝑚×𝑛}$ (ngầm hiểu $n = n + 1$)\n",
        "\n"
      ],
      "metadata": {
        "id": "-xhJBuYbRMc6"
      }
    },
    {
      "cell_type": "code",
      "execution_count": 55,
      "metadata": {
        "id": "VnazqH3CPpiV"
      },
      "outputs": [],
      "source": [
        "def readData(filePath: str, filename: str):\n",
        "    data = np.loadtxt(os.path.join(filePath, filename), delimiter = ',')\n",
        "    X = data[:,:-1]\n",
        "    y = data[:, -1]\n",
        "    m = X.shape[0]\n",
        "    n = X.shape[1]\n",
        "    X = np.reshape(X, (m,n))\n",
        "    y = np.reshape(y, (m,1))\n",
        "    # Tạo vector (ma trận 𝑚 × 1) chứa các số 1\n",
        "    x0 = np.ones((m,1))\n",
        "    # Thêm cột x0 vào bên trái ma trận X\n",
        "    X = np.column_stack([x0, X])\n",
        "    return X, y"
      ]
    },
    {
      "cell_type": "markdown",
      "source": [
        "**3.** Về lý thuyết ta có:\n",
        "$h_w(x)= \\frac{1}{1+ 𝑒^{−(𝑤_0.𝑥_0+ 𝑤_1𝑥_1+ ⋯+ 𝑤_𝑛𝑥_𝑛)}}$ (1)\n",
        "hay\n",
        "$h_w(x)= \\frac{1}{1+ 𝑒^{−𝑤^T𝑥}}$ (2)\n",
        "với: \n",
        "$𝑤 ∈ 𝑅^{𝑛×1}, 𝑥  ∈  𝑅^{𝑛×1}$\n",
        "\n",
        "Viết lại (1) và (2) dưới dạng phép toán ma trận\n",
        "$h_w(x)= \\frac{1}{1+ 𝑒^{−Xw}}$ (3)\n",
        "Ghi chú:\n",
        "- $𝑋 ∈ 𝑅^{𝑚×𝑛}, 𝑤 ∈ 𝑅^{𝑛×1} → 𝑋.𝑤 ∈ 𝑅^{𝑚×1}$\n",
        "- $ℎ_𝑤(𝑋) ∈ 𝑅^{𝑚×1}$\n",
        "\n",
        "- Hãy lập trình Python tính giá trị h phương trình (gợi ý: hàm **np.exp()** – tính số mũ)\n",
        "\n"
      ],
      "metadata": {
        "id": "1G-JE4hPZgaX"
      }
    },
    {
      "cell_type": "code",
      "source": [
        "def sigmoid(X, w):\n",
        "    result = 1/(1 + np.exp(-np.dot(X, w)))\n",
        "    return result"
      ],
      "metadata": {
        "id": "71LD2VgIXY4y"
      },
      "execution_count": 56,
      "outputs": []
    },
    {
      "cell_type": "markdown",
      "source": [
        "**4.** Hàm mất mát:\n",
        "$J(w)=-\\frac{1}{m} \\sum_{i=1}^m[y_i.log(h_w(x_i))+ (1-y_i).log(1-h_w(x_i))]$   (4)\n",
        "\n",
        "$𝐽(𝑤) = − \\frac{1}{m} ∑_{i=1}^m[𝑦^𝑇.log(ℎ_w(𝑋)) + (1 - 𝑦)^T.𝑙𝑜𝑔(1 − ℎ_w(𝑋))]$  (5)\n",
        "\n",
        "Ghi chú:\n",
        "-\t$𝑦 ∈ 𝑅^{𝑚×1}  →  𝑦^𝑇 ∈ 𝑅{1×𝑚}$\n",
        "-\t$ℎ_𝑤(𝑋) ∈ 𝑅^{𝑚×1}  →  log(ℎ_𝑤(𝑋)) ∈ 𝑅^{𝑚×1}$\n",
        "-\t$(1 − 𝑦) ∈ 𝑅^{𝑚×1} → (1 − 𝑦)^𝑇 ∈ 𝑅^{1×𝑚}\n",
        "-\t$(1 − ℎ_𝑤(𝑋)) ∈ 𝑅^{𝑚×1} → 𝑙𝑜𝑔(1 − $ℎ_𝑤(𝑋)) ∈ 𝑅^{𝑚×1}$\n",
        "-\t$𝐽(𝑤) ∈ 𝑅$\n",
        "\n",
        "-Hãy viết mã lệnh tính J(w) theo công thức (5)"
      ],
      "metadata": {
        "id": "8yLg8vXXbPHw"
      }
    },
    {
      "cell_type": "code",
      "source": [
        "def loss(X, y, w):\n",
        "    m = y.shape[0]\n",
        "    result = (-1/m)*np.sum(np.dot(y.T, np.log(sigmoid(X, w))) + np.dot((1 - y).T, np.log(1 - sigmoid(X, w))))\n",
        "    return result"
      ],
      "metadata": {
        "id": "cdCbS6q7ehl9"
      },
      "execution_count": 57,
      "outputs": []
    },
    {
      "cell_type": "markdown",
      "source": [
        "**5.** Theo lý thuyết, công thức tính đạo hàm riêng là:\n",
        "$𝜕𝐽(𝑤) =  \\frac{1}{m} ∑_{i=1}^m (ℎ_w (𝑥_i) − 𝑦_i).x_i$ (6)\n",
        "\n",
        "Viết lại (6) theo phép toán ma trận:\n",
        "$∇𝐽(𝑤) = \\frac{1}{m}∑𝑋^𝑇(ℎ_w(𝑋)−𝑦)$ (7)\n",
        "\n",
        "Ghi chú:\n",
        "- $ℎ_𝑤(𝑋) ∈ 𝑅^{𝑚×1}, 𝑦 ∈ 𝑅^{𝑚×1} → (ℎ_𝑤(𝑋) − 𝑦) ∈ 𝑅^{𝑚×1}$\n",
        "- $𝑋 ∈ 𝑅^{𝑚×𝑛} →  𝑋^𝑇 ∈ 𝑅{𝑛×𝑚}$\n",
        "- $∇𝐽(𝑤) ∈ 𝑅^{𝑛×1}$ chính là cùng kích thước ma trận w\n"
      ],
      "metadata": {
        "id": "tz3YeYwtnIkL"
      }
    },
    {
      "cell_type": "code",
      "source": [
        "def gradient(X, y, w):\n",
        "    m = X.shape[0]\n",
        "    result = (1/m)*np.dot(X.T, sigmoid(X, w) - y)\n",
        "    return result"
      ],
      "metadata": {
        "id": "CCgt3qrWfVRj"
      },
      "execution_count": 58,
      "outputs": []
    },
    {
      "cell_type": "markdown",
      "source": [
        "**6.** Theo thuật toán Gradient descent, các trọng số được cập nhật theo công\n",
        "thức \n",
        "$𝑤_i = 𝑤_i − 𝛼\\frac{𝜕𝐽(𝑤)}{𝜕𝑤𝑖}, ∀𝑖$\t(8)\n",
        "\n",
        "Viết lại (8) dưới dạng phép toán ma trận:\n",
        "\n",
        "$𝑤 = 𝑤 − 𝛼. ∇𝐽(𝑤)$\t(9)\n",
        "\n",
        "Ghi chú:\n",
        "- $𝑤 ∈ 𝑅^{𝑛×1}, ∇𝐽(𝑤) ∈ 𝑅^{𝑛×1} → 𝑤 − 𝛼. ∇𝐽(𝑤) ∈ 𝑅^{𝑛×1}$\n",
        "\n",
        "Hãy viết mã lệnh tính w theo công thức (9)"
      ],
      "metadata": {
        "id": "dYM6jgf8rABg"
      }
    },
    {
      "cell_type": "code",
      "source": [
        "def gradientDescent(X, y, w, alpha, n_iters):\n",
        "    w_optimal = w.copy()\n",
        "    J_history = []\n",
        "    for i in range(n_iters):\n",
        "        w_optimal = w_optimal - alpha*gradient(X, y, w_optimal)\n",
        "        J_history.append(loss(X, y, w_optimal))\n",
        "    return w_optimal, J_history"
      ],
      "metadata": {
        "id": "mvBG0VfDrsiB"
      },
      "execution_count": 59,
      "outputs": []
    },
    {
      "cell_type": "markdown",
      "source": [
        "# **Xây dựng chương trình hồi quy Logistic hoàn chỉnh**"
      ],
      "metadata": {
        "id": "IeWb4VGfumAt"
      }
    },
    {
      "cell_type": "code",
      "source": [
        "def readData(filePath: str, filename: str):\n",
        "    data = np.loadtxt(os.path.join(filePath, filename), delimiter = ',')\n",
        "    X = data[:,:-1]\n",
        "    y = data[:, -1]\n",
        "    m = X.shape[0]\n",
        "    n = X.shape[1]\n",
        "    X = np.reshape(X, (m,n))\n",
        "    y = np.reshape(y, (m,1))\n",
        "    # Tạo vector (ma trận 𝑚 × 1) chứa các số 1\n",
        "    x0 = np.ones((m,1))\n",
        "    # Thêm cột x0 vào bên trái ma trận X\n",
        "    X = np.column_stack([x0, X])\n",
        "    return X, y"
      ],
      "metadata": {
        "id": "GhjxW0Gjuvdk"
      },
      "execution_count": 60,
      "outputs": []
    },
    {
      "cell_type": "code",
      "source": [
        "def sigmoid(X, w):\n",
        "    result = 1/(1 + np.exp(-np.dot(X, w)))\n",
        "    return result"
      ],
      "metadata": {
        "id": "fftltwj6uzM2"
      },
      "execution_count": 61,
      "outputs": []
    },
    {
      "cell_type": "code",
      "source": [
        "def loss(X, y, w):\n",
        "    m = y.shape[0]\n",
        "    result = (-1/m)*np.sum(np.dot(y.T, np.log(sigmoid(X, w))) + np.dot((1 - y).T, np.log(1 - sigmoid(X, w))))\n",
        "    return result\n",
        "    "
      ],
      "metadata": {
        "id": "zbO7elbgu1Il"
      },
      "execution_count": 62,
      "outputs": []
    },
    {
      "cell_type": "code",
      "source": [
        "def gradient(X, y, w):\n",
        "    m = X.shape[0]\n",
        "    result = (1/m)*np.dot(X.T, sigmoid(X, w) - y)\n",
        "    return result"
      ],
      "metadata": {
        "id": "l96zTYO1vC2Z"
      },
      "execution_count": 63,
      "outputs": []
    },
    {
      "cell_type": "code",
      "source": [
        "def gradientDescent(X, y, w, alpha, n_iters):\n",
        "    w_optimal = w.copy()\n",
        "    J_history = []\n",
        "    for i in range(n_iters):\n",
        "        w_optimal = w_optimal - alpha*gradient(X, y, w_optimal)\n",
        "        J_history.append(loss(X, y, w_optimal))\n",
        "    return w_optimal, J_history"
      ],
      "metadata": {
        "id": "3gajEr0WvGyH"
      },
      "execution_count": 64,
      "outputs": []
    },
    {
      "cell_type": "code",
      "source": [
        "def featureVectorScaling(data):\n",
        "    avg = np.mean(data)\n",
        "    sln = data.max()\n",
        "    snn = data.min()\n",
        "    data_scl = (data - avg)/(sln - snn)\n",
        "    print(data_scl[1])\n",
        "    return data_scl"
      ],
      "metadata": {
        "id": "z6FEU6NnvHWW"
      },
      "execution_count": null,
      "outputs": []
    },
    {
      "cell_type": "code",
      "source": [
        "def normalizeData(X):\n",
        "    X_scl = X[:, 0]\n",
        "    for i in range(1, X.shape[1]):\n",
        "        scl = featureVectorScaling(X[:, i])\n",
        "        X_scl = np.column_stack([X_scl, scl])\n",
        "    return X_scl"
      ],
      "metadata": {
        "id": "ejym04wOvKv_"
      },
      "execution_count": null,
      "outputs": []
    },
    {
      "cell_type": "code",
      "source": [
        "# Mô tả dữ liệu bằng plot \n",
        "def visualizeDataAndModel(X, y, w_optimal):\n",
        "    fig = plt.figure()\n",
        "    plt.plot(X[:,1], y, 'g^')\n",
        "    plt.plot(X[:, 1], np.dot(X, w_optimal), 'r-')\n",
        "    plt.legend(['Raw Data', 'Linear regression'])\n",
        "    plt.ylabel('Profit in $10,000')\n",
        "    plt.xlabel('Population of City in 10,000s')\n",
        "    plt.show()"
      ],
      "metadata": {
        "id": "Gdku_iMGznlp"
      },
      "execution_count": 65,
      "outputs": []
    },
    {
      "cell_type": "code",
      "source": [
        "def main():\n",
        "    X, y = readData('/content/gdrive/MyDrive/Classroom/Học máy 1 Phần cơ sở', 'ex2data1.txt')\n",
        "    X_scl = normalizeData(X)\n",
        "    n = X_scl.shape[1]\n",
        "    w = np.zeros((n, 1))\n",
        "    alpha = 0.01\n",
        "    n_iters = 2000\n",
        "    w_opt, J_hist = gradientDescent(X_scl, y, w, alpha, n_iters)\n",
        "    print(\"Kết quả : \")\n",
        "    print('Trọng số tối ưu là:\\n', w_opt)\n",
        "    print('Giá trị Loss tối ưu: ', J_hist[-1])\n",
        "    visualizeDataAndModel(X, y, w)\n",
        "\n",
        "if __name__ == \"__main__\":\n",
        "    main()"
      ],
      "metadata": {
        "colab": {
          "base_uri": "https://localhost:8080/",
          "height": 418
        },
        "id": "Bb7RMoOXvLKQ",
        "outputId": "52864503-8db4-4536-808f-b7f859db86d4"
      },
      "execution_count": 66,
      "outputs": [
        {
          "output_type": "stream",
          "name": "stdout",
          "text": [
            "-0.5067801656080071\n",
            "-0.3270580397857178\n",
            "Kết quả : \n",
            "Trọng số tối ưu là:\n",
            " [[0.41683919]\n",
            " [1.31218868]\n",
            " [1.15423699]]\n",
            "Giá trị Loss tối ưu:  0.5186665295508813\n"
          ]
        },
        {
          "output_type": "display_data",
          "data": {
            "text/plain": [
              "<Figure size 432x288 with 1 Axes>"
            ],
            "image/png": "[encoded data removed]"
          },
          "metadata": {
            "needs_background": "light"
          }
        }
      ]
    },
    {
      "cell_type": "markdown",
      "source": [
        "# **Xây dựng chương trình hồi quy Logistic - OOP**\n",
        "Ghi chú: Áp dụng 2 phương pháp chuẩn hóa dữ liệu:\n",
        "-\tMean normalization\n",
        "-\tMax-Min normalization\n"
      ],
      "metadata": {
        "id": "oHhL4V7twCc-"
      }
    },
    {
      "cell_type": "code",
      "source": [
        "class Regression:\n",
        "    def __init__(self):\n",
        "        pass\n",
        "    def loss(self, X, y, w):\n",
        "        pass"
      ],
      "metadata": {
        "id": "FSBBn3OYwaR2"
      },
      "execution_count": null,
      "outputs": []
    },
    {
      "cell_type": "code",
      "source": [
        "class LogisticRegression(Regression):\n",
        "    def __init__(self):\n",
        "        pass\n",
        "    \n",
        "    def __sigmoid(self, X, w):\n",
        "        result = 1/(1 + np.exp(-np.dot(X, w)))\n",
        "        return result\n",
        "\n",
        "    def loss(self, X, y, w):\n",
        "        m = y.shape[0]\n",
        "        result = (-1/m)*np.sum(np.dot(y.T, np.log(self.__sigmoid(X, w))) + np.dot((1 - y).T, np.log(1 - self.__sigmoid(X, w))))\n",
        "        return result\n",
        "\n",
        "    def gradient(self, X, y, w):\n",
        "        m = X.shape[0]\n",
        "        result = (1/m)*np.dot(X.T, self.__sigmoid(X, w) - y)\n",
        "        return result\n",
        "\n",
        "    def gradientDescent(self,X, y, w, alpha, n_iters):\n",
        "        w_optimal = w.copy()\n",
        "        J_history = []\n",
        "        for i in range(n_iters):\n",
        "            w_optimal = w_optimal - alpha*self.gradient(X, y, w_optimal)\n",
        "            J_history.append(self.loss(X, y, w_optimal))\n",
        "        return w_optimal, J_history"
      ],
      "metadata": {
        "id": "bGTgtnIbweWd"
      },
      "execution_count": null,
      "outputs": []
    },
    {
      "cell_type": "code",
      "source": [
        "class DataNorm:\n",
        "    def __init__(self):\n",
        "        pass\n",
        "    def readData(self, filePath: str, filename: str):\n",
        "        data = np.loadtxt(os.path.join(filePath, filename), delimiter = ',')\n",
        "        X = data[:,:-1]\n",
        "        y = data[:, -1]\n",
        "        m = X.shape[0]\n",
        "        n = X.shape[1]\n",
        "        X = np.reshape(X, (m,n))\n",
        "        y = np.reshape(y, (m,1))\n",
        "        #Them cot x0 = 1 vao X\n",
        "        x0 = np.ones((m,1))\n",
        "        X = np.column_stack([x0, X])\n",
        "        return X, y\n",
        "    def normalizeData(self, A):\n",
        "        pass"
      ],
      "metadata": {
        "id": "yKt4ysWpwg4K"
      },
      "execution_count": null,
      "outputs": []
    },
    {
      "cell_type": "code",
      "source": [
        "class MaxMinNorm(DataNorm):\n",
        "    def __init__(self):\n",
        "        pass\n",
        "    \n",
        "    def __MaxMinScaling(self, data):\n",
        "        avg = np.mean(data)\n",
        "        sln = data.max()\n",
        "        snn = data.min()\n",
        "        data_scl = (data - avg)/(sln - snn)\n",
        "        print(data_scl[1])\n",
        "        return data_scl\n",
        "    \n",
        "    def normalizeData(self, X):\n",
        "        X_scl = X[:, 0]\n",
        "        for i in range(1, X.shape[1]):\n",
        "            scl = self.__MaxMinScaling(X[:, i])\n",
        "            X_scl = np.column_stack([X_scl, scl])\n",
        "        return X_scl"
      ],
      "metadata": {
        "id": "RPgpZ2kuwl0W"
      },
      "execution_count": null,
      "outputs": []
    },
    {
      "cell_type": "code",
      "source": [
        "def main():\n",
        "    data = MaxMinNorm()\n",
        "    X, y = readData('/content/gdrive/MyDrive/Classroom/Học máy 1 Phần cơ sở', 'ex2data1.txt')\n",
        "    X_scl = data.normalizeData(X)\n",
        "    n = X_scl.shape[1]\n",
        "    w = np.zeros((n, 1))\n",
        "    alpha = 0.01\n",
        "    n_iters = 2000\n",
        "    model = LogisticRegression()\n",
        "    w_opt, J_hist = model.gradientDescent(X_scl, y, w, alpha, n_iters)\n",
        "    print(\"Kết quả : \")\n",
        "    print('Trọng số tối ưu là:\\n', w_opt)\n",
        "    print('Giá trị Loss tối ưu: ', J_hist[-1])\n",
        "    visualizeDataAndModel(X, y, w)\n",
        "\n",
        "if __name__ == \"__main__\":\n",
        "    main()"
      ],
      "metadata": {
        "colab": {
          "base_uri": "https://localhost:8080/",
          "height": 418
        },
        "id": "86JPNLoKwn1W",
        "outputId": "ef113fcc-a7c9-4032-ae30-63f70ff499cb"
      },
      "execution_count": 67,
      "outputs": [
        {
          "output_type": "stream",
          "name": "stdout",
          "text": [
            "-0.5067801656080071\n",
            "-0.3270580397857178\n",
            "Kết quả : \n",
            "Trọng số tối ưu là:\n",
            " [[0.41683919]\n",
            " [1.31218868]\n",
            " [1.15423699]]\n",
            "Giá trị Loss tối ưu:  0.5186665295508813\n"
          ]
        },
        {
          "output_type": "display_data",
          "data": {
            "text/plain": [
              "<Figure size 432x288 with 1 Axes>"
            ],
            "image/png": "[encoded data removed]"
          },
          "metadata": {
            "needs_background": "light"
          }
        }
      ]
    },
    {
      "cell_type": "code",
      "source": [],
      "metadata": {
        "id": "tjPoLo71xFGk"
      },
      "execution_count": null,
      "outputs": []
    }
  ]
}