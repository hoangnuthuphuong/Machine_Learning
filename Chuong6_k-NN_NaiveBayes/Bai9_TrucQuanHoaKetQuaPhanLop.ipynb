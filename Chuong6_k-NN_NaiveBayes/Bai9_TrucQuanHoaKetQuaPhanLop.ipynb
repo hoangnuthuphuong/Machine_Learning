{
  "nbformat": 4,
  "nbformat_minor": 0,
  "metadata": {
    "colab": {
      "provenance": [],
      "authorship_tag": "ABX9TyNWXcwDH6B2MIOYnuCacTGw",
      "include_colab_link": true
    },
    "kernelspec": {
      "name": "python3",
      "display_name": "Python 3"
    },
    "language_info": {
      "name": "python"
    }
  },
  "cells": [
    {
      "cell_type": "markdown",
      "metadata": {
        "id": "view-in-github",
        "colab_type": "text"
      },
      "source": [
        "<a href=\"https://colab.research.google.com/github/hoangnuthuphuong/Machine_Learning/blob/main/Chuong6_k-NN_NaiveBayes/Bai9_TrucQuanHoaKetQuaPhanLop.ipynb\" target=\"_parent\"><img src=\"https://colab.research.google.com/assets/colab-badge.svg\" alt=\"Open In Colab\"/></a>"
      ]
    },
    {
      "cell_type": "markdown",
      "source": [
        "#**Bài 9: TRỰC QUAN HÓA KẾT QUẢ PHÂN LỚP**\n",
        "\n",
        "**1. Trực quan hóa giá trị xác suất của dự đoán**\n",
        "\n",
        "Khi thực hiện phân lớp dữ liệu, kết quả ngoài nhãn lớp dự đoán thì mô hình còn cho ra giá trị xác suất thể hiện độ chắc chắn về kết quả nhãn lớp dự đoán. Trực quan hóa các giá trị xác suất này cho chúng ta cái nhìn rõ hơn về hiệu năng dự đoán của mô hình phân lớp.\n",
        "\n"
      ],
      "metadata": {
        "id": "8ZffI6a8mDkm"
      }
    },
    {
      "cell_type": "markdown",
      "source": [
        "##**Ví dụ 1 – trực quan kết quả phân lớp nhị phân:** Xây dựng mô hình phân lớp\n",
        "LogisticRegression trên tập dữ liệu Breast Cancer. Vẽ đường cong xác suất dữ đoán của mô hình\n",
        "phân lớp nêu trên."
      ],
      "metadata": {
        "id": "tXTs2fMru4DF"
      }
    },
    {
      "cell_type": "code",
      "execution_count": 1,
      "metadata": {
        "colab": {
          "base_uri": "https://localhost:8080/",
          "height": 453
        },
        "id": "u-c6-9wzl_NZ",
        "outputId": "de10ec2a-4b22-40f5-ee7a-c90810abf4b1"
      },
      "outputs": [
        {
          "output_type": "stream",
          "name": "stdout",
          "text": [
            "X shape:  (569, 30) ; y shape:  (569,)\n",
            "{0: 212, 1: 357}\n"
          ]
        },
        {
          "output_type": "stream",
          "name": "stderr",
          "text": [
            "/usr/local/lib/python3.7/dist-packages/sklearn/linear_model/_logistic.py:818: ConvergenceWarning: lbfgs failed to converge (status=1):\n",
            "STOP: TOTAL NO. of ITERATIONS REACHED LIMIT.\n",
            "\n",
            "Increase the number of iterations (max_iter) or scale the data as shown in:\n",
            "    https://scikit-learn.org/stable/modules/preprocessing.html\n",
            "Please also refer to the documentation for alternative solver options:\n",
            "    https://scikit-learn.org/stable/modules/linear_model.html#logistic-regression\n",
            "  extra_warning_msg=_LOGISTIC_SOLVER_CONVERGENCE_MSG,\n"
          ]
        },
        {
          "output_type": "display_data",
          "data": {
            "text/plain": [
              "<Figure size 432x288 with 1 Axes>"
            ],
            "image/png": "[encoded data removed]"
          },
          "metadata": {
            "needs_background": "light"
          }
        }
      ],
      "source": [
        "import numpy as np\n",
        "from sklearn import datasets\n",
        "from sklearn.linear_model import LogisticRegression\n",
        "from sklearn.model_selection import train_test_split\n",
        "import matplotlib.pyplot as plt\n",
        "from sklearn.calibration import CalibrationDisplay\n",
        "#B1: Đọc dữ liệu bài toán phân lớp nhị phân\n",
        "bc = datasets.load_breast_cancer()\n",
        "X = bc.data\n",
        "y = bc.target\n",
        "print('X shape: ', X.shape, '; y shape: ', y.shape)\n",
        "#Xác định số lượng mẫu của từng nhãn lớp - balanced dataset?\n",
        "unique, counts = np.unique(y, return_counts=True)\n",
        "result = dict(zip(unique, counts))\n",
        "print(result)\n",
        "#B2: Phân chia train - test\n",
        "X_train, X_test, y_train, y_test = train_test_split(X, y,\n",
        "random_state=15,\n",
        "shuffle=True,\n",
        "test_size=0.30)\n",
        "#B3: Khởi tạo và huấn luyện mô hình\n",
        "lg_model = LogisticRegression()\n",
        "lg_model.fit(X_train, y_train)\n",
        "#B4: Vẽ đường cong xác suất dự đoán\n",
        "y_prob = lg_model.predict_proba(X_test)[:,1]\n",
        "disp = CalibrationDisplay.from_predictions(y_test, y_prob,name='Logistic')\n",
        "plt.show()"
      ]
    },
    {
      "cell_type": "markdown",
      "source": [
        "###**SỬ DỤNG HÀM**"
      ],
      "metadata": {
        "id": "TGMSa490umvo"
      }
    },
    {
      "cell_type": "code",
      "source": [
        "import numpy as np\n",
        "from sklearn import datasets\n",
        "from scipy import optimize\n",
        "from sklearn.linear_model import LogisticRegression\n",
        "from sklearn.model_selection import train_test_split\n",
        "import matplotlib.pyplot as plt\n",
        "from sklearn.calibration import CalibrationDisplay"
      ],
      "metadata": {
        "id": "mFC9pauTnWY1"
      },
      "execution_count": 2,
      "outputs": []
    },
    {
      "cell_type": "code",
      "source": [
        "def readData():\n",
        "  bc = datasets.load_breast_cancer()\n",
        "  X = bc.data\n",
        "  y = bc.target\n",
        "  print('X shape: ', X.shape, '; y shape: ', y.shape)\n",
        "  return X,y"
      ],
      "metadata": {
        "id": "7bSD3ldFnZNd"
      },
      "execution_count": 3,
      "outputs": []
    },
    {
      "cell_type": "code",
      "source": [
        "def soluongmau(unique, counts):\n",
        "  #Xác định số lượng mẫu của từng nhãn lớp - balanced dataset?\n",
        "  unique, counts = np.unique(y, return_counts=True)\n",
        "  result = dict(zip(unique, counts))\n",
        "  print(result)\n",
        "  return result"
      ],
      "metadata": {
        "id": "aMEi5l61nkzO"
      },
      "execution_count": 4,
      "outputs": []
    },
    {
      "cell_type": "code",
      "source": [
        "def normScaling(X, y):\n",
        "    for col in range(1, X.shape[1]):\n",
        "        temp = X[:, col]\n",
        "        X[:, col] = (temp - np.min(temp)) / (np.max(temp) - np.min(temp))\n",
        "    return X,y"
      ],
      "metadata": {
        "id": "Fan8fx9UpMPl"
      },
      "execution_count": 5,
      "outputs": []
    },
    {
      "cell_type": "code",
      "source": [
        "def standardScaling(X, y):\n",
        "    for col in range(1, X.shape[1]):\n",
        "        temp = X[:, col]\n",
        "        X[:, col] = (temp - np.mean(temp)) / (np.std(temp))\n",
        "    return X,y"
      ],
      "metadata": {
        "id": "IWkVcSxmoPIt"
      },
      "execution_count": 6,
      "outputs": []
    },
    {
      "cell_type": "code",
      "source": [
        "def costFunction(w, X, y):\n",
        "    m = X.shape[0]\n",
        "    h_w = 1 / (1 + np.exp(- np.dot(X, w)))\n",
        "    J_w = (-1/m) * (np.dot(y, np.log(h_w)) + np.dot((1-y), np.log(1-h_w)))\n",
        "    return J_w"
      ],
      "metadata": {
        "id": "-4tlCFvJpRLN"
      },
      "execution_count": 7,
      "outputs": []
    },
    {
      "cell_type": "code",
      "source": [
        "def logisticRegression(X, y, w_init, method, iterations):\n",
        "    result = optimize.minimize(fun=costFunction, x0=w_init, args=(X,y),\n",
        "                               method= method,\n",
        "                               options={\"maxiter\":iterations})\n",
        "    return result.x, result.fun"
      ],
      "metadata": {
        "id": "VLwqHuDPpTXl"
      },
      "execution_count": 8,
      "outputs": []
    },
    {
      "cell_type": "code",
      "source": [
        "def visualizeData(X,y):\n",
        "    y_prob = lg_model.predict_proba(X_test)[:,1]\n",
        "    disp = CalibrationDisplay.from_predictions(y_test, y_prob,name='Logistic')\n",
        "    plt.show()"
      ],
      "metadata": {
        "id": "sZk2ouyctO4K"
      },
      "execution_count": 9,
      "outputs": []
    },
    {
      "cell_type": "code",
      "source": [
        "def main():\n",
        "    #B1: Đọc dữ liệu bài toán phân lớp nhị phân\n",
        "    X, y = readData()\n",
        "\n",
        "    #B2: Phân chia train - test\n",
        "    X_train, X_test, y_train, y_test = train_test_split(X, y,\n",
        "                                                        random_state=15,\n",
        "                                                        shuffle=True,\n",
        "                                                        test_size=0.30)\n",
        "\n",
        "    # số lượng mẫu của từng nhãn lớp - balanced dataset\n",
        "    print(\"\\nsố lượng mẫu của từng nhãn lớp\")\n",
        "    soluongmau(unique, counts)\n",
        "\n",
        "    #Chuẩn hóa dữ liệu\n",
        "    X_train, y_train = standardScaling(X_train, y_train)\n",
        "    X_test, y_test = standardScaling(X_test, y_test)\n",
        "\n",
        "    #B3: Khởi tạo và huấn luyện mô hình\n",
        "    lg_model = LogisticRegression()\n",
        "    lg_model.fit(X_train, y_train)\n",
        "\n",
        "    #B4: Vẽ đường cong xác suất dự đoán\n",
        "    visualizeData(X, y)\n",
        "\n",
        "if __name__ == \"__main__\":\n",
        "    main()"
      ],
      "metadata": {
        "colab": {
          "base_uri": "https://localhost:8080/",
          "height": 487
        },
        "id": "cbUjkwRPrFv_",
        "outputId": "ff347cac-f9a0-414d-c304-0a12b1170e2b"
      },
      "execution_count": 10,
      "outputs": [
        {
          "output_type": "stream",
          "name": "stdout",
          "text": [
            "X shape:  (569, 30) ; y shape:  (569,)\n",
            "\n",
            "số lượng mẫu của từng nhãn lớp\n",
            "{0: 212, 1: 357}\n"
          ]
        },
        {
          "output_type": "stream",
          "name": "stderr",
          "text": [
            "/usr/local/lib/python3.7/dist-packages/sklearn/linear_model/_logistic.py:818: ConvergenceWarning: lbfgs failed to converge (status=1):\n",
            "STOP: TOTAL NO. of ITERATIONS REACHED LIMIT.\n",
            "\n",
            "Increase the number of iterations (max_iter) or scale the data as shown in:\n",
            "    https://scikit-learn.org/stable/modules/preprocessing.html\n",
            "Please also refer to the documentation for alternative solver options:\n",
            "    https://scikit-learn.org/stable/modules/linear_model.html#logistic-regression\n",
            "  extra_warning_msg=_LOGISTIC_SOLVER_CONVERGENCE_MSG,\n"
          ]
        },
        {
          "output_type": "display_data",
          "data": {
            "text/plain": [
              "<Figure size 432x288 with 1 Axes>"
            ],
            "image/png": "[encoded data removed]"
          },
          "metadata": {
            "needs_background": "light"
          }
        }
      ]
    },
    {
      "cell_type": "markdown",
      "source": [
        "##**Ví dụ 2 – trực quan hóa kết quả phân lớp nhị phân:** \n",
        "Xây dựng mô hình phân lớp LogisticRegression trên tập dữ liệu Breast Cancer. Vẽ đường cong xác suất dữ đoán của mô hình phân lớp nêu trên."
      ],
      "metadata": {
        "id": "6jiaNLpEt_fa"
      }
    },
    {
      "cell_type": "markdown",
      "source": [
        "###**CHƯƠNG TRÌNH**"
      ],
      "metadata": {
        "id": "Ok0pEC7S3mmc"
      }
    },
    {
      "cell_type": "code",
      "source": [
        "import numpy as np\n",
        "from sklearn import datasets\n",
        "from sklearn.linear_model import LogisticRegression\n",
        "from sklearn.naive_bayes import GaussianNB\n",
        "from sklearn.model_selection import train_test_split\n",
        "import matplotlib.pyplot as plt\n",
        "from matplotlib.gridspec import GridSpec\n",
        "from sklearn.calibration import CalibrationDisplay\n",
        "#B1: Đọc dữ liệu bài toán phân lớp nhị phân\n",
        "bc = datasets.load_breast_cancer()\n",
        "X = bc.data\n",
        "y = bc.target\n",
        "print('X shape: ', X.shape, '; y shape: ', y.shape)\n",
        "#Xác định số lượng mẫu của từng nhãn lớp - balanced dataset?\n",
        "unique, counts = np.unique(y, return_counts=True)\n",
        "result = dict(zip(unique, counts))\n",
        "print(result)\n",
        "#B2: Phân chia train - test\n",
        "X_train, X_test, y_train, y_test = train_test_split(X, y,\n",
        "random_state=15,\n",
        "shuffle=True,\n",
        "test_size=0.30)\n",
        "#B3: Khởi tạo và huấn luyện mô hình\n",
        "lg_model = LogisticRegression()\n",
        "lg_model.fit(X_train, y_train)\n",
        "gnb_model = GaussianNB()\n",
        "gnb_model.fit(X_train, y_train)\n",
        "#Tạo list chứa 2 mô hình trên\n",
        "clf_list = [(lg_model, 'Logistic'), (gnb_model, 'Naive Bayes')]\n",
        "#B4: Vẽ đường cong xác suất dự đoán\n",
        "fig = plt.figure(figsize=(5, 5))\n",
        "gs = GridSpec(2, 2)\n",
        "colors = plt.cm.get_cmap(\"Dark2\")\n",
        "ax_calibration_curve = fig.add_subplot(gs[:2, :2])\n",
        "calibration_displays = {}\n",
        "for i, (clf, name) in enumerate(clf_list):\n",
        "  display = CalibrationDisplay.from_estimator(clf,X_test,y_test,n_bins=10,name=name,ax=ax_calibration_curve,color=colors(i),)\n",
        "  calibration_displays[name] = display\n",
        "ax_calibration_curve.grid()\n",
        "ax_calibration_curve.set_title(\"Calibration plots\")\n",
        "plt.tight_layout()\n",
        "plt.show()"
      ],
      "metadata": {
        "colab": {
          "base_uri": "https://localhost:8080/",
          "height": 543
        },
        "id": "waL6GaO7sJDA",
        "outputId": "3b2b959d-f84f-4b72-8e20-fd95fb969d97"
      },
      "execution_count": 11,
      "outputs": [
        {
          "output_type": "stream",
          "name": "stdout",
          "text": [
            "X shape:  (569, 30) ; y shape:  (569,)\n",
            "{0: 212, 1: 357}\n"
          ]
        },
        {
          "output_type": "stream",
          "name": "stderr",
          "text": [
            "/usr/local/lib/python3.7/dist-packages/sklearn/linear_model/_logistic.py:818: ConvergenceWarning: lbfgs failed to converge (status=1):\n",
            "STOP: TOTAL NO. of ITERATIONS REACHED LIMIT.\n",
            "\n",
            "Increase the number of iterations (max_iter) or scale the data as shown in:\n",
            "    https://scikit-learn.org/stable/modules/preprocessing.html\n",
            "Please also refer to the documentation for alternative solver options:\n",
            "    https://scikit-learn.org/stable/modules/linear_model.html#logistic-regression\n",
            "  extra_warning_msg=_LOGISTIC_SOLVER_CONVERGENCE_MSG,\n"
          ]
        },
        {
          "output_type": "display_data",
          "data": {
            "text/plain": [
              "<Figure size 360x360 with 1 Axes>"
            ],
            "image/png": "[encoded data removed]"
          },
          "metadata": {
            "needs_background": "light"
          }
        }
      ]
    },
    {
      "cell_type": "markdown",
      "source": [
        "###**SỬ DỤNG HÀM**"
      ],
      "metadata": {
        "id": "4hHxIReQyEz8"
      }
    },
    {
      "cell_type": "code",
      "source": [
        "import numpy as np\n",
        "from sklearn import datasets\n",
        "from sklearn.linear_model import LogisticRegression\n",
        "from sklearn.naive_bayes import GaussianNB\n",
        "from sklearn.model_selection import train_test_split\n",
        "import matplotlib.pyplot as plt\n",
        "from matplotlib.gridspec import GridSpec\n",
        "from sklearn.calibration import CalibrationDisplay"
      ],
      "metadata": {
        "id": "R2D4P6dduQpA"
      },
      "execution_count": 12,
      "outputs": []
    },
    {
      "cell_type": "code",
      "source": [
        "def readData():\n",
        "  bc = datasets.load_breast_cancer()\n",
        "  X = bc.data\n",
        "  y = bc.target\n",
        "  print('X shape: ', X.shape, '; y shape: ', y.shape)\n",
        "  return X,y"
      ],
      "metadata": {
        "id": "AoZIpqXKvJ-6"
      },
      "execution_count": 13,
      "outputs": []
    },
    {
      "cell_type": "code",
      "source": [
        "def soluongmau(unique, counts):\n",
        "  #Xác định số lượng mẫu của từng nhãn lớp - balanced dataset?\n",
        "  unique, counts = np.unique(y, return_counts=True)\n",
        "  result = dict(zip(unique, counts))\n",
        "  print(result)\n",
        "  return result"
      ],
      "metadata": {
        "id": "XKPjCVG9vMYL"
      },
      "execution_count": 14,
      "outputs": []
    },
    {
      "cell_type": "code",
      "source": [
        "def visualizeData(X,y):\n",
        "    fig = plt.figure(figsize=(5, 5))\n",
        "    gs = GridSpec(2, 2)\n",
        "    colors = plt.cm.get_cmap(\"Dark2\")\n",
        "    ax_calibration_curve = fig.add_subplot(gs[:2, :2])\n",
        "    calibration_displays = {}\n",
        "    for i, (clf, name) in enumerate(clf_list):\n",
        "        display = CalibrationDisplay.from_estimator(\n",
        "            clf,\n",
        "            X_test,\n",
        "            y_test,\n",
        "            n_bins=10,\n",
        "            name=name,\n",
        "            ax=ax_calibration_curve,\n",
        "            color=colors(i),\n",
        "        )\n",
        "calibration_displays[name] = display\n",
        "ax_calibration_curve.grid()\n",
        "ax_calibration_curve.set_title(\"Calibration plots\")\n",
        "plt.tight_layout()\n",
        "plt.show()"
      ],
      "metadata": {
        "colab": {
          "base_uri": "https://localhost:8080/",
          "height": 34
        },
        "id": "Bo0Dk9mGv_gM",
        "outputId": "d978d8bc-10b3-41e6-c4fe-054b5aae4c9f"
      },
      "execution_count": 15,
      "outputs": [
        {
          "output_type": "display_data",
          "data": {
            "text/plain": [
              "<Figure size 432x288 with 0 Axes>"
            ]
          },
          "metadata": {}
        }
      ]
    },
    {
      "cell_type": "code",
      "source": [
        "def main():\n",
        "    #B1: Đọc dữ liệu bài toán phân lớp nhị phân\n",
        "    X, y = readData()\n",
        "\n",
        "    #B2: Phân chia train - test\n",
        "    X_train, X_test, y_train, y_test = train_test_split(X, y,\n",
        "                                                        random_state=15,\n",
        "                                                        shuffle=True,\n",
        "                                                        test_size=0.30)\n",
        "\n",
        "    # số lượng mẫu của từng nhãn lớp - balanced dataset\n",
        "    print(\"\\nSỐ LƯỢNG MẪU CỦA TỪNG NHÃN LỚP:\")\n",
        "    soluongmau(unique, counts)\n",
        "\n",
        "    #Chuẩn hóa dữ liệu\n",
        "    X_train, y_train = standardScaling(X_train, y_train)\n",
        "    X_test, y_test = standardScaling(X_test, y_test)\n",
        "\n",
        "    #B3: Khởi tạo và huấn luyện mô hình\n",
        "    lg_model = LogisticRegression()\n",
        "    lg_model.fit(X_train, y_train)\n",
        "\n",
        "    #Tạo list chứa 2 mô hình trên\n",
        "    clf_list = [(lg_model, 'Logistic'), (gnb_model, 'Naive Bayes')]\n",
        "\n",
        "    #B4: Vẽ đường cong xác suất dự đoán\n",
        "    visualizeData(X, y)\n",
        "\n",
        "if __name__ == \"__main__\":\n",
        "    main()"
      ],
      "metadata": {
        "colab": {
          "base_uri": "https://localhost:8080/",
          "height": 542
        },
        "id": "vPYhbqj_wVmi",
        "outputId": "0d527c4a-1657-466c-b319-7b1aebb0dd45"
      },
      "execution_count": 16,
      "outputs": [
        {
          "output_type": "stream",
          "name": "stdout",
          "text": [
            "X shape:  (569, 30) ; y shape:  (569,)\n",
            "\n",
            "SỐ LƯỢNG MẪU CỦA TỪNG NHÃN LỚP:\n",
            "{0: 212, 1: 357}\n"
          ]
        },
        {
          "output_type": "stream",
          "name": "stderr",
          "text": [
            "/usr/local/lib/python3.7/dist-packages/sklearn/linear_model/_logistic.py:818: ConvergenceWarning: lbfgs failed to converge (status=1):\n",
            "STOP: TOTAL NO. of ITERATIONS REACHED LIMIT.\n",
            "\n",
            "Increase the number of iterations (max_iter) or scale the data as shown in:\n",
            "    https://scikit-learn.org/stable/modules/preprocessing.html\n",
            "Please also refer to the documentation for alternative solver options:\n",
            "    https://scikit-learn.org/stable/modules/linear_model.html#logistic-regression\n",
            "  extra_warning_msg=_LOGISTIC_SOLVER_CONVERGENCE_MSG,\n"
          ]
        },
        {
          "output_type": "display_data",
          "data": {
            "text/plain": [
              "<Figure size 360x360 with 1 Axes>"
            ],
            "image/png": "[encoded data removed]"
          },
          "metadata": {
            "needs_background": "light"
          }
        }
      ]
    },
    {
      "cell_type": "code",
      "source": [],
      "metadata": {
        "id": "RtgMlCMkxtu-"
      },
      "execution_count": 16,
      "outputs": []
    },
    {
      "cell_type": "markdown",
      "source": [
        "## **2. Đường Precision & Recall**\n",
        "Đường Precision – Recall chỉ ra mức độ ‘trao đổi – tradeoff’ giữa cặp giá trị Precision và Recall tại mỗi mức ngưỡng khác nhau. Phần diện tích dưới đường cong này càng lớn thì chỉ số\n",
        "Precision và Recall càng cao (ám chỉ giá trị false positive và false negative tương ứng càng thấp).Trong khuôn khổ bài hướng dẫn này, chúng ta tìm hiểu cách vẽ đường Precision – Recall của mô hình phân lớp nhị phân.\n",
        "\n",
        "**Lưu ý:** đường Precision – Recall thường được dùng khi tập dữ lieuj mất cân bằng về nhãn lớp.\n"
      ],
      "metadata": {
        "id": "rWaefo8gyR8_"
      }
    },
    {
      "cell_type": "markdown",
      "source": [
        "### **CHƯƠNG TRÌNH**"
      ],
      "metadata": {
        "id": "0-iFfbnA3frA"
      }
    },
    {
      "cell_type": "code",
      "source": [
        "import numpy as np\n",
        "from sklearn import datasets\n",
        "from sklearn.linear_model import LogisticRegression\n",
        "from sklearn.naive_bayes import GaussianNB\n",
        "from sklearn.model_selection import train_test_split\n",
        "from sklearn.metrics import precision_recall_curve\n",
        "import matplotlib.pyplot as plt\n",
        "#B1: Đọc dữ liệu bài toán phân lớp nhị phân\n",
        "bc = datasets.load_breast_cancer()\n",
        "X = bc.data\n",
        "y = bc.target\n",
        "print('X shape: ', X.shape, '; y shape: ', y.shape)\n",
        "#Xác định số lượng mẫu của từng nhãn lớp - balanced dataset?\n",
        "unique, counts = np.unique(y, return_counts=True)\n",
        "result = dict(zip(unique, counts))\n",
        "print(result)\n",
        "#B2: Phân chia train - test\n",
        "X_train, X_test, y_train, y_test = train_test_split(X, y,\n",
        "random_state=15,\n",
        "shuffle=True,\n",
        "test_size=0.30)\n",
        "#B3: Khởi tạo và huấn luyện mô hình\n",
        "lg_model = LogisticRegression()\n",
        "lg_model.fit(X_train, y_train)\n",
        "gnb_model = GaussianNB()\n",
        "gnb_model.fit(X_train, y_train)\n",
        "#B4: Lấy xác suất dự đoán của mô hình\n",
        "lg_probs = lg_model.predict_proba(X_test)\n",
        "gnb_probs = gnb_model.predict_proba(X_test)\n",
        "#Chỉ lấy xác suất dự đoán với nhãn positive\n",
        "lg_probs = lg_probs[:,1]\n",
        "gnb_probs = gnb_probs[:,1]\n",
        "#B5: Lấy nhãn lớp dự đoán và giá trị precision & recall tương ứng\n",
        "lg_pre, lg_rec, _ = precision_recall_curve(y_test, lg_probs)\n",
        "gnb_pre, gnb_rec, _ = precision_recall_curve(y_test, gnb_probs)\n",
        "#B6: Vẽ đường precision - recall\n",
        "no_model = len(y_test[y_test==1])/len(y_test)\n",
        "plt.plot([0,1], [no_model, no_model], linestyle = '--', label='No model')\n",
        "plt.plot(lg_rec, lg_pre, marker ='.', label='Logistic')\n",
        "plt.plot(gnb_rec, gnb_pre, marker='o', label='Naive Bayes')\n",
        "plt.xlabel('Recall')\n",
        "plt.ylabel('Precision')\n",
        "plt.legend()\n",
        "plt.show()"
      ],
      "metadata": {
        "colab": {
          "base_uri": "https://localhost:8080/",
          "height": 453
        },
        "id": "BLmpXpxgymHj",
        "outputId": "fcd0f8bb-8586-4f56-f64d-c3852558404d"
      },
      "execution_count": 17,
      "outputs": [
        {
          "output_type": "stream",
          "name": "stdout",
          "text": [
            "X shape:  (569, 30) ; y shape:  (569,)\n",
            "{0: 212, 1: 357}\n"
          ]
        },
        {
          "output_type": "stream",
          "name": "stderr",
          "text": [
            "/usr/local/lib/python3.7/dist-packages/sklearn/linear_model/_logistic.py:818: ConvergenceWarning: lbfgs failed to converge (status=1):\n",
            "STOP: TOTAL NO. of ITERATIONS REACHED LIMIT.\n",
            "\n",
            "Increase the number of iterations (max_iter) or scale the data as shown in:\n",
            "    https://scikit-learn.org/stable/modules/preprocessing.html\n",
            "Please also refer to the documentation for alternative solver options:\n",
            "    https://scikit-learn.org/stable/modules/linear_model.html#logistic-regression\n",
            "  extra_warning_msg=_LOGISTIC_SOLVER_CONVERGENCE_MSG,\n"
          ]
        },
        {
          "output_type": "display_data",
          "data": {
            "text/plain": [
              "<Figure size 432x288 with 1 Axes>"
            ],
            "image/png": "[encoded data removed]"
          },
          "metadata": {
            "needs_background": "light"
          }
        }
      ]
    },
    {
      "cell_type": "markdown",
      "source": [
        "###**SỬ DỤNG HÀM**"
      ],
      "metadata": {
        "id": "v5nBkJ5cyvsd"
      }
    },
    {
      "cell_type": "code",
      "source": [
        "import numpy as np\n",
        "from sklearn import datasets\n",
        "from sklearn.linear_model import LogisticRegression\n",
        "from sklearn.naive_bayes import GaussianNB\n",
        "from sklearn.model_selection import train_test_split\n",
        "from sklearn.metrics import precision_recall_curve\n",
        "import matplotlib.pyplot as plt"
      ],
      "metadata": {
        "id": "CDZkZDctyqoM"
      },
      "execution_count": 18,
      "outputs": []
    },
    {
      "cell_type": "code",
      "source": [
        "#B1: Đọc dữ liệu bài toán phân lớp nhị phân\n",
        "def readData():\n",
        "  bc = datasets.load_breast_cancer()\n",
        "  X = bc.data\n",
        "  y = bc.target\n",
        "  print('X shape: ', X.shape, '; y shape: ', y.shape)\n",
        "  return X,y"
      ],
      "metadata": {
        "id": "83AOvzFpy1wl"
      },
      "execution_count": 19,
      "outputs": []
    },
    {
      "cell_type": "code",
      "source": [
        "#Xác định số lượng mẫu của từng nhãn lớp - balanced dataset?\n",
        "def soluongmau(unique, counts):\n",
        "  unique, counts = np.unique(y, return_counts=True)\n",
        "  result = dict(zip(unique, counts))\n",
        "  print(result)\n",
        "  return result"
      ],
      "metadata": {
        "id": "lCc-Xm7Wy2U9"
      },
      "execution_count": 20,
      "outputs": []
    },
    {
      "cell_type": "code",
      "source": [
        "#B2: Phân chia train - test\n",
        "def train_test():\n",
        "  X_train, X_test, y_train, y_test = train_test_split(X, y,random_state=15,shuffle=True,test_size=0.30)\n",
        "  return X_train, X_test, y_train, y_test\n"
      ],
      "metadata": {
        "id": "4ktqXbDh12sI"
      },
      "execution_count": 21,
      "outputs": []
    },
    {
      "cell_type": "code",
      "source": [
        "#B3: Khởi tạo và huấn luyện mô hình\n",
        "def model_training():\n",
        "  lg_model = LogisticRegression()\n",
        "  lg_model.fit(X_train, y_train)\n",
        "  gnb_model = GaussianNB()\n",
        "  gnb_model.fit(X_train, y_train)\n",
        "  return lg_model, gnb_model"
      ],
      "metadata": {
        "id": "BLEdesNY2N4U"
      },
      "execution_count": 22,
      "outputs": []
    },
    {
      "cell_type": "code",
      "source": [
        "#B4: Lấy xác suất dự đoán của mô hình\n",
        "def probs():\n",
        "  lg_probs = lg_model.predict_proba(X_test)\n",
        "  gnb_probs = gnb_model.predict_proba(X_test)\n",
        "  #Chỉ lấy xác suất dự đoán với nhãn positive\n",
        "  lg_probs = lg_probs[:,1]\n",
        "  gnb_probs = gnb_probs[:,1]\n",
        "  return lg_probs,gnb_probs"
      ],
      "metadata": {
        "id": "S_0ihCIZ1TMT"
      },
      "execution_count": 23,
      "outputs": []
    },
    {
      "cell_type": "code",
      "source": [
        "#B6: Vẽ đường precision - recall\n",
        "def visualizeData():\n",
        "  no_model = len(y_test[y_test==1])/len(y_test)\n",
        "  plt.plot([0,1], [no_model, no_model], linestyle = '--', label='No model')\n",
        "  plt.plot(lg_rec, lg_pre, marker ='.', label='Logistic') \n",
        "  plt.plot(gnb_rec, gnb_pre, marker='o', label='Naive Bayes')\n",
        "  plt.xlabel('Recall')\n",
        "  plt.ylabel('Precision')\n",
        "  plt.legend()\n",
        "  plt.show()"
      ],
      "metadata": {
        "id": "dRzRunDc3WDq"
      },
      "execution_count": 24,
      "outputs": []
    },
    {
      "cell_type": "code",
      "source": [
        "def main():\n",
        "    #B1: Đọc dữ liệu bài toán phân lớp nhị phân\n",
        "    X, y = readData()\n",
        "\n",
        "    #B2: Phân chia train - test\n",
        "    X_train, X_test, y_train, y_test = train_test()\n",
        "\n",
        "    # số lượng mẫu của từng nhãn lớp - balanced dataset\n",
        "    print(\"\\nSỐ LƯỢNG MẪU CỦA TỪNG NHÃN LỚP:\")\n",
        "    soluongmau(unique, counts)\n",
        "\n",
        "    #Chuẩn hóa dữ liệu\n",
        "    X_train, y_train = standardScaling(X_train, y_train)\n",
        "    X_test, y_test = standardScaling(X_test, y_test)\n",
        "\n",
        "    #B3: Khởi tạo và huấn luyện mô hình\n",
        "    lg_model, gnb_model = model_training()\n",
        "\n",
        "    #B4: Lấy xác suất dự đoán của mô hình\n",
        "    lg_probs,gnb_probs = probs()\n",
        "    print(\"\\nXÁC XUẤT DỰ ĐOÁN CỦA MÔ HÌNH LOGISTIC REGRESSION\\n\",lg_probs)\n",
        "    print(\"\\nXÁC XUẤT DỰ ĐOÁN CỦA MÔ HÌNH LOGISTIC GAUSIAN NB\\n\",gnb_probs)\n",
        "\n",
        "    #B5: Lấy nhãn lớp dự đoán và giá trị precision & recall tương ứng\n",
        "    lg_pre, lg_rec, _ = precision_recall_curve(y_test, lg_probs)\n",
        "    gnb_pre, gnb_rec, _ = precision_recall_curve(y_test, gnb_probs)\n",
        "\n",
        "    #B6: Vẽ đường precision - recall\n",
        "    visualizeData()\n",
        "\n",
        "\n",
        "if __name__ == \"__main__\":\n",
        "    main()"
      ],
      "metadata": {
        "colab": {
          "base_uri": "https://localhost:8080/",
          "height": 1000
        },
        "id": "_kaHx50J36vu",
        "outputId": "3d659f0b-0429-44bd-89ff-054c14554128"
      },
      "execution_count": 25,
      "outputs": [
        {
          "output_type": "stream",
          "name": "stdout",
          "text": [
            "X shape:  (569, 30) ; y shape:  (569,)\n",
            "\n",
            "SỐ LƯỢNG MẪU CỦA TỪNG NHÃN LỚP:\n",
            "{0: 212, 1: 357}\n",
            "\n",
            "XÁC XUẤT DỰ ĐOÁN CỦA MÔ HÌNH LOGISTIC REGRESSION\n",
            " [9.93992499e-01 9.99107726e-01 1.28216914e-04 9.73820761e-01\n",
            " 9.94822976e-01 1.46265400e-04 9.50157969e-01 9.79747783e-01\n",
            " 8.44044533e-01 9.98556165e-01 4.10293986e-10 2.61110068e-04\n",
            " 9.99473170e-01 9.99671928e-01 9.98162015e-01 9.81133522e-01\n",
            " 9.03504573e-01 4.70642458e-01 9.97129737e-01 9.96901866e-01\n",
            " 9.93352229e-01 9.17793806e-01 9.97820738e-01 9.67423742e-01\n",
            " 9.94894480e-01 7.04030537e-03 7.70030210e-01 2.46101029e-01\n",
            " 9.99764727e-01 1.24497650e-28 9.99527042e-01 3.44740436e-01\n",
            " 9.80821996e-01 8.93037346e-01 9.98767675e-01 8.67667596e-01\n",
            " 9.89176472e-01 4.83293602e-01 9.99848537e-01 9.97319404e-01\n",
            " 3.36352674e-02 4.25316844e-01 5.71772340e-03 4.34504418e-02\n",
            " 3.06456620e-11 6.83012540e-01 9.51841954e-01 9.96046837e-01\n",
            " 9.59437994e-01 2.37202581e-04 1.85026041e-13 9.93148790e-01\n",
            " 9.99788213e-01 9.90463983e-01 9.97546114e-01 9.93574293e-01\n",
            " 9.98484828e-01 4.49888517e-01 2.28869562e-01 9.96616908e-01\n",
            " 8.17266637e-01 2.65327152e-07 1.26791982e-02 5.03112066e-01\n",
            " 1.71615611e-22 9.90998006e-01 1.00777295e-03 1.68289861e-08\n",
            " 9.99229554e-01 2.24968197e-09 1.32683008e-02 9.99756453e-01\n",
            " 9.93427879e-01 9.95079844e-01 9.97523484e-01 9.85851378e-01\n",
            " 7.24169689e-02 3.73785581e-05 3.48523820e-01 9.99712095e-01\n",
            " 9.80969467e-01 9.78463624e-01 9.97007089e-01 9.43409659e-01\n",
            " 9.96642397e-01 9.21639240e-01 9.99956486e-01 9.99026129e-01\n",
            " 9.95502983e-01 6.52272188e-07 9.98893930e-01 5.49061017e-01\n",
            " 9.94472523e-01 5.41946926e-08 9.60301370e-01 1.42695981e-04\n",
            " 9.99916394e-01 3.11402785e-01 9.81793966e-01 9.61523718e-01\n",
            " 1.35615951e-01 5.20390188e-01 9.98139893e-01 9.33311600e-01\n",
            " 9.69628834e-01 3.96639154e-17 3.99259281e-01 6.36592680e-01\n",
            " 9.99415246e-01 5.39347466e-12 5.77946681e-03 8.71585330e-06\n",
            " 1.65587786e-03 9.99665292e-01 5.64769832e-06 9.80314618e-01\n",
            " 2.32653405e-07 9.99426511e-01 9.98575736e-01 7.63611762e-03\n",
            " 6.10811786e-09 7.96932742e-10 9.97551055e-01 9.99880683e-01\n",
            " 9.90444485e-01 6.09712809e-18 9.96266036e-01 9.99842196e-01\n",
            " 9.94186036e-01 9.99676549e-01 7.69372988e-02 9.99899189e-01\n",
            " 1.11796154e-09 9.42525524e-01 1.59498928e-08 4.17003168e-01\n",
            " 1.83128503e-04 3.34306913e-09 8.14561708e-01 9.46903334e-01\n",
            " 3.42541442e-09 1.04802296e-01 3.74469951e-02 9.12605020e-01\n",
            " 9.92026297e-01 9.89858794e-01 5.60078138e-01 4.10958628e-04\n",
            " 9.47400950e-01 9.71579432e-01 2.48859731e-04 5.83453002e-13\n",
            " 9.97721334e-01 2.10140637e-04 9.99557883e-01 9.74817739e-01\n",
            " 9.22741656e-01 4.19375624e-01 9.54114551e-01 9.65796329e-01\n",
            " 3.19805311e-10 1.15543369e-06 9.97595741e-01 1.91022276e-03\n",
            " 1.16730017e-02 9.99153881e-01 6.90346397e-01 9.97245878e-01\n",
            " 9.95247607e-01 9.45881905e-01 2.42971223e-09]\n",
            "\n",
            "XÁC XUẤT DỰ ĐOÁN CỦA MÔ HÌNH LOGISTIC GAUSIAN NB\n",
            " [1.00000000e+000 1.00000000e+000 5.20877737e-020 9.99999970e-001\n",
            " 1.00000000e+000 3.33541025e-041 1.00000000e+000 1.00000000e+000\n",
            " 9.99999642e-001 1.00000000e+000 1.26590165e-090 5.75417729e-017\n",
            " 1.00000000e+000 1.00000000e+000 1.00000000e+000 1.00000000e+000\n",
            " 9.99999739e-001 9.99999064e-001 1.00000000e+000 1.00000000e+000\n",
            " 1.00000000e+000 9.99673577e-001 1.00000000e+000 1.00000000e+000\n",
            " 4.59760255e-001 2.75301734e-023 1.00000000e+000 2.50343460e-005\n",
            " 1.00000000e+000 1.76508167e-236 1.00000000e+000 9.99447260e-001\n",
            " 1.00000000e+000 9.99614580e-001 1.00000000e+000 1.00000000e+000\n",
            " 1.00000000e+000 9.99970916e-001 1.00000000e+000 1.00000000e+000\n",
            " 3.55211626e-013 9.98833173e-001 1.68682334e-020 1.41027607e-012\n",
            " 1.90153247e-102 9.99999745e-001 1.00000000e+000 1.00000000e+000\n",
            " 1.00000000e+000 1.29124425e-040 2.76620511e-111 1.00000000e+000\n",
            " 1.00000000e+000 1.00000000e+000 1.00000000e+000 1.00000000e+000\n",
            " 1.00000000e+000 9.84991938e-001 5.23771762e-010 1.00000000e+000\n",
            " 2.24066059e-001 2.29947832e-051 1.17048631e-012 9.99999999e-001\n",
            " 4.72138291e-213 1.00000000e+000 9.60840125e-004 1.30277025e-077\n",
            " 1.00000000e+000 2.30713952e-054 8.70417228e-001 1.00000000e+000\n",
            " 1.00000000e+000 9.99999999e-001 1.00000000e+000 9.99999801e-001\n",
            " 3.60155468e-008 2.52039822e-042 7.21828230e-027 1.00000000e+000\n",
            " 1.00000000e+000 1.00000000e+000 1.00000000e+000 9.99999194e-001\n",
            " 1.00000000e+000 1.00000000e+000 1.00000000e+000 1.00000000e+000\n",
            " 1.00000000e+000 2.73715349e-028 1.00000000e+000 5.81331320e-001\n",
            " 1.00000000e+000 1.96574605e-065 1.00000000e+000 2.28654877e-014\n",
            " 1.00000000e+000 2.66640053e-033 9.99999683e-001 1.00000000e+000\n",
            " 3.70555203e-008 9.98289150e-001 1.00000000e+000 1.00000000e+000\n",
            " 1.00000000e+000 1.09516562e-099 1.00000000e+000 9.99994890e-001\n",
            " 1.00000000e+000 3.06647035e-115 1.65832068e-001 1.01126726e-020\n",
            " 1.67286020e-007 1.00000000e+000 1.92325203e-040 9.99999978e-001\n",
            " 3.46616331e-031 1.00000000e+000 9.99999853e-001 9.99679332e-001\n",
            " 9.53794885e-061 4.99026608e-056 1.00000000e+000 1.00000000e+000\n",
            " 1.00000000e+000 2.97909095e-164 1.00000000e+000 9.99999198e-001\n",
            " 1.00000000e+000 1.00000000e+000 6.61622921e-001 1.00000000e+000\n",
            " 3.39535529e-063 1.00000000e+000 4.10776642e-060 3.06195768e-007\n",
            " 2.03654014e-018 2.72784649e-086 1.00000000e+000 1.00000000e+000\n",
            " 3.34648162e-081 1.18968126e-009 2.59026699e-022 9.99997170e-001\n",
            " 1.00000000e+000 1.00000000e+000 1.66627620e-002 1.42173061e-011\n",
            " 9.99999998e-001 1.00000000e+000 7.08454662e-021 9.71426204e-102\n",
            " 9.99999999e-001 2.00050517e-005 1.00000000e+000 1.00000000e+000\n",
            " 1.00000000e+000 9.99999999e-001 9.99769517e-001 9.99999992e-001\n",
            " 5.56514146e-078 1.22696755e-057 1.00000000e+000 2.37185092e-010\n",
            " 2.78550725e-002 1.00000000e+000 8.92173636e-001 1.00000000e+000\n",
            " 1.00000000e+000 1.00000000e+000 2.15859593e-077]\n"
          ]
        },
        {
          "output_type": "stream",
          "name": "stderr",
          "text": [
            "/usr/local/lib/python3.7/dist-packages/sklearn/linear_model/_logistic.py:818: ConvergenceWarning: lbfgs failed to converge (status=1):\n",
            "STOP: TOTAL NO. of ITERATIONS REACHED LIMIT.\n",
            "\n",
            "Increase the number of iterations (max_iter) or scale the data as shown in:\n",
            "    https://scikit-learn.org/stable/modules/preprocessing.html\n",
            "Please also refer to the documentation for alternative solver options:\n",
            "    https://scikit-learn.org/stable/modules/linear_model.html#logistic-regression\n",
            "  extra_warning_msg=_LOGISTIC_SOLVER_CONVERGENCE_MSG,\n"
          ]
        },
        {
          "output_type": "display_data",
          "data": {
            "text/plain": [
              "<Figure size 432x288 with 1 Axes>"
            ],
            "image/png": "[encoded data removed]"
          },
          "metadata": {
            "needs_background": "light"
          }
        }
      ]
    },
    {
      "cell_type": "code",
      "source": [],
      "metadata": {
        "id": "f9WK5n8C5MAX"
      },
      "execution_count": 25,
      "outputs": []
    },
    {
      "cell_type": "markdown",
      "source": [
        "##**3. Chỉ số True Positive Rate & False Positive Rate**\n",
        "\n",
        "Để vẽ đường cong ROC - Receiver Operating Characteristic, 2 chỉ số sau cần được tính:\n",
        "$$TPR = \\frac{TP}{TP + FN}$$\n",
        "\n",
        "$$FPR = \\frac{FP}{FP + TN}$$"
      ],
      "metadata": {
        "id": "gSSOOEmP6qaH"
      }
    },
    {
      "cell_type": "markdown",
      "source": [
        "##**4. Đường ROC**\n",
        "Đường ROC thường được áp dụng đối với tập dữ liệu có số lượng nhãn lớp cân bằng. Tham khảo thêm về [ROC](https://en.wikipedia.org/wiki/Receiver_operating_characteristic).\n",
        "\n",
        "Ví dụ: Vẽ đường ROC của 2 mô hình phân lớp nhị phân:"
      ],
      "metadata": {
        "id": "r-xiyaPZ7HiU"
      }
    },
    {
      "cell_type": "markdown",
      "source": [
        "##**CHƯƠNG TRÌNH**"
      ],
      "metadata": {
        "id": "4qjcvilQ7akE"
      }
    },
    {
      "cell_type": "code",
      "source": [
        "import numpy as np\n",
        "from sklearn import datasets\n",
        "from sklearn.linear_model import LogisticRegression\n",
        "from sklearn.naive_bayes import GaussianNB\n",
        "from sklearn.model_selection import train_test_split\n",
        "from sklearn.metrics import roc_curve, roc_auc_score\n",
        "import matplotlib.pyplot as plt\n",
        "#B1: Đọc dữ liệu bài toán phân lớp nhị phân\n",
        "bc = datasets.load_breast_cancer()\n",
        "X = bc.data\n",
        "y = bc.target\n",
        "print('X shape: ', X.shape, '; y shape: ', y.shape)\n",
        "#Xác định số lượng mẫu của từng nhãn lớp - balanced dataset?\n",
        "unique, counts = np.unique(y, return_counts=True)\n",
        "result = dict(zip(unique, counts))\n",
        "print(result)\n",
        "#B2: Phân chia train - test\n",
        "X_train, X_test, y_train, y_test = train_test_split(X, y,\n",
        "random_state=15,\n",
        "shuffle=True,\n",
        "test_size=0.30)\n",
        "#B3: Khởi tạo và huấn luyện mô hình\n",
        "lg_model = LogisticRegression()\n",
        "lg_model.fit(X_train, y_train)\n",
        "gnb_model = GaussianNB()\n",
        "gnb_model.fit(X_train, y_train)\n",
        "#B4: Lấy xác suất dự đoán nhãn positive của mô hình\n",
        "lg_probs = lg_model.predict_proba(X_test)[:,1]\n",
        "gnb_probs = gnb_model.predict_proba(X_test)[:,1]\n",
        "#B5: Tính ROC score\n",
        "lg_auc = roc_auc_score(y_test, lg_probs)\n",
        "gnb_auc = roc_auc_score(y_test, gnb_probs)\n",
        "print('Mô hình Logistic Regression - ROC AUC: ', lg_auc)\n",
        "print('Mô hình Naive Bayes - ROC AUC: ', gnb_auc)\n",
        "#B6: Vẽ đường ROC\n",
        "lg_fpr, lg_tpr, _ = roc_curve(y_test, lg_probs)\n",
        "gnb_fpr, gnb_tpr, _ = roc_curve(y_test, gnb_probs)\n",
        "plt.plot(lg_fpr, lg_tpr, marker ='.', label='Logistic')\n",
        "plt.plot(gnb_fpr, gnb_tpr, marker='3', label='Naive Bayes')\n",
        "plt.xlabel('False Positive Rate')\n",
        "plt.ylabel('True Positive Rate')\n",
        "plt.legend()\n",
        "plt.show()"
      ],
      "metadata": {
        "colab": {
          "base_uri": "https://localhost:8080/",
          "height": 487
        },
        "id": "s15hhAIR7Fs0",
        "outputId": "cf7411c6-4f97-4c07-a0bf-d94bb4b09e10"
      },
      "execution_count": 26,
      "outputs": [
        {
          "output_type": "stream",
          "name": "stdout",
          "text": [
            "X shape:  (569, 30) ; y shape:  (569,)\n",
            "{0: 212, 1: 357}\n",
            "Mô hình Logistic Regression - ROC AUC:  0.983392122281011\n",
            "Mô hình Naive Bayes - ROC AUC:  0.9801587301587302\n"
          ]
        },
        {
          "output_type": "stream",
          "name": "stderr",
          "text": [
            "/usr/local/lib/python3.7/dist-packages/sklearn/linear_model/_logistic.py:818: ConvergenceWarning: lbfgs failed to converge (status=1):\n",
            "STOP: TOTAL NO. of ITERATIONS REACHED LIMIT.\n",
            "\n",
            "Increase the number of iterations (max_iter) or scale the data as shown in:\n",
            "    https://scikit-learn.org/stable/modules/preprocessing.html\n",
            "Please also refer to the documentation for alternative solver options:\n",
            "    https://scikit-learn.org/stable/modules/linear_model.html#logistic-regression\n",
            "  extra_warning_msg=_LOGISTIC_SOLVER_CONVERGENCE_MSG,\n"
          ]
        },
        {
          "output_type": "display_data",
          "data": {
            "text/plain": [
              "<Figure size 432x288 with 1 Axes>"
            ],
            "image/png": "[encoded data removed]"
          },
          "metadata": {
            "needs_background": "light"
          }
        }
      ]
    },
    {
      "cell_type": "code",
      "source": [],
      "metadata": {
        "id": "FEDRdVa97BT9"
      },
      "execution_count": null,
      "outputs": []
    }
  ]
}