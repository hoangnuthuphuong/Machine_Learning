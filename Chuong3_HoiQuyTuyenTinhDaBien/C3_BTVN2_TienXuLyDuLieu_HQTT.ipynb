{
  "nbformat": 4,
  "nbformat_minor": 0,
  "metadata": {
    "colab": {
      "provenance": [],
      "authorship_tag": "ABX9TyMt89TTnGrbngaQXroLpgcA",
      "include_colab_link": true
    },
    "kernelspec": {
      "name": "python3",
      "display_name": "Python 3"
    },
    "language_info": {
      "name": "python"
    }
  },
  "cells": [
    {
      "cell_type": "markdown",
      "metadata": {
        "id": "view-in-github",
        "colab_type": "text"
      },
      "source": [
        "<a href=\"https://colab.research.google.com/github/hoangnuthuphuong/Machine_Learning/blob/main/Chuong3_HoiQuyTuyenTinhDaBien/C3_BTVN2_TienXuLyDuLieu_HQTT.ipynb\" target=\"_parent\"><img src=\"https://colab.research.google.com/assets/colab-badge.svg\" alt=\"Open In Colab\"/></a>"
      ]
    },
    {
      "cell_type": "markdown",
      "source": [
        "**Phương pháp điều chỉnh giá trị dữ liệu (data scaling)**.\n",
        "Một cách tổng quát, phương pháp điều chỉnh dữ liệu (data scaling) có thể xem là:\n",
        "\n",
        "$f(X): R^{m×n} → R^{m×n}$\n",
        "\n",
        "Với hàm f(x) có nhiều định nghĩa khác nhau như:\n",
        "- **Chuẩn hóa dữ liệu (Data normalization)** là thao tác đưa các giá trị của tập dữ liệu ban đầu về khoảng [0,1]: $x_i =\\frac{x_i−min}{max − min}$ (Trong scikit-learn, hàm tương đương là **MinMaxScaler**);\n",
        "- **Chuẩn hóa dữ liệu theo phương pháp điều chỉnh hướng tâm (center scaling)** được định nghĩa là: $x_i =\\frac{x_i− x̅}{δ}$ với $\\frac{1}{m} \\sum_{i=1}^m x_i$\n",
        " và $δ = √\\frac{∑{(x_i−x̅)}^2}{m}$ (Trong scikit-learn, hàm tương đương là **StandardScaler**)"
      ],
      "metadata": {
        "id": "Rsx2DHedHL2F"
      }
    },
    {
      "cell_type": "markdown",
      "source": [
        "**Quy tắc điều chỉnh dữ liệu khi sử dụng sklearn là:**\n",
        "- Bước 1: Khởi tạo bộ điều chỉnh dữ liệu\n",
        "- Bước 2: Đưa dữ liệu vào bộ điều chỉnh thông qua hàm **fit()**\n",
        "- Bước 3: Thực hiện điều chỉnh dữ liệu bằng hàm **transform()**"
      ],
      "metadata": {
        "id": "R-6abil7uDYZ"
      }
    },
    {
      "cell_type": "markdown",
      "source": [
        "# **Xây dựng mô hình HQTT đa biến với thuật toán tối ưu là Gradient Descent có sử dụng phương pháp tiền xử lý dữ liệu do sklearn cung cấp.**"
      ],
      "metadata": {
        "id": "nSHBbGlhwHro"
      }
    },
    {
      "cell_type": "code",
      "execution_count": 87,
      "metadata": {
        "id": "y6tcGWs7FTsw"
      },
      "outputs": [],
      "source": [
        "import os\n",
        "import numpy as np\n",
        "import pandas as pd \n",
        "from matplotlib import pyplot as plt\n",
        "from sklearn.preprocessing import MinMaxScaler\n"
      ]
    },
    {
      "cell_type": "code",
      "source": [
        "from google.colab import drive\n",
        "drive.mount('/content/drive')"
      ],
      "metadata": {
        "colab": {
          "base_uri": "https://localhost:8080/"
        },
        "id": "V8aOKWAEu4K-",
        "outputId": "17af0d9d-5487-4347-a906-160fd4075b3b"
      },
      "execution_count": 88,
      "outputs": [
        {
          "output_type": "stream",
          "name": "stdout",
          "text": [
            "Drive already mounted at /content/drive; to attempt to forcibly remount, call drive.mount(\"/content/drive\", force_remount=True).\n"
          ]
        }
      ]
    },
    {
      "cell_type": "code",
      "source": [
        "# Hàm đọc dữ liệu từ tập tin \n",
        "def readData(folder, filename):\n",
        "    # Trích xuất tệp dữ liệu gốc\n",
        "    data = np.loadtxt(os.path.join(folder, filename), delimiter=',')\n",
        "    print('Original data shape', data.shape)\n",
        "    X = data[:,:-1]\n",
        "    print('X shape: ', X.shape)\n",
        "    y = data[:,-1]\n",
        "    print('y shape: ', y.shape)\n",
        "    m = X.shape[0]\n",
        "    print('Number of training examples m = ', m)\n",
        "    x0 = np.ones((m,1))\n",
        "    X = np.hstack([x0, X]) \n",
        "    print('Modified X shape: ', X.shape)\n",
        "    y = np.reshape(y, (m,1))\n",
        "    print('Modified y shape: ', y.shape)\n",
        "    return X, y\n",
        "\n"
      ],
      "metadata": {
        "id": "Ulzhau9Zwyx_"
      },
      "execution_count": 89,
      "outputs": []
    },
    {
      "cell_type": "code",
      "source": [
        "# Hàm mất mát \n",
        "def computeLoss(X, y, w):\n",
        "    m = y.shape[0]\n",
        "    J = 0\n",
        "    h = np.dot(X, w)\n",
        "    J = (1/(2*m))*np.sum(np.square(h - y))\n",
        "    return J"
      ],
      "metadata": {
        "id": "zoUB9NHuw_7D"
      },
      "execution_count": 90,
      "outputs": []
    },
    {
      "cell_type": "code",
      "source": [
        "# Hàm Gradient Descent\n",
        "def gradientDescent(X, y, w, alpha, n):\n",
        "    m = y.shape[0]\n",
        "    J_history = []\n",
        "    w_optimal = w.copy()\n",
        "    print('w_optimal shape: ', w_optimal.shape)\n",
        "    for i in range(n):\n",
        "        h = np.dot(X, w_optimal)\n",
        "        error = h - y\n",
        "        w_optimal = w_optimal - (alpha/m)*np.dot(X.T, error)\n",
        "        J_history.append(computeLoss(X, y, w_optimal))\n",
        "    return w_optimal, J_history"
      ],
      "metadata": {
        "id": "J2s9bFMCxEYX"
      },
      "execution_count": 91,
      "outputs": []
    },
    {
      "cell_type": "markdown",
      "source": [
        "**Các hàm tiền xử lý dữ liệu**"
      ],
      "metadata": {
        "id": "RMiolzEc_eK6"
      }
    },
    {
      "cell_type": "code",
      "source": [
        "# Hàm scale dữ liệu bằng MinMaxScaler\n",
        "def scaleData_MinMaxScaler(X, y):\n",
        "    #Khởi tạo bộ điều chỉnh dữ liệu\n",
        "    scaler = MinMaxScaler()\n",
        "    #Phải thực hiện thao tác fit(data) trước khi điều chỉnh dữ liệu\n",
        "    scaler.fit(data)\n",
        "    #Thực hiện điều chỉnh dữ liệu\n",
        "    data_scl = scaler.transform(data)\n",
        "    print('Kích thước của tập dữ liệu: ', data.shape)\n",
        "    print('10 Giá trị đầu của tập dữ liệu: ')\n",
        "    print(data[:10])\n",
        "    print('Lấy ra tập dữ liệu X, y')\n",
        "    X_scl, y_scl = data[:,:-1], data[:, -1]\n",
        "    print('Kích thước tập X: ', X.shape)\n",
        "    print('Kích thước vector y: ', y.shape)\n",
        "    return X_scl, y_scl\n"
      ],
      "metadata": {
        "id": "vnzJ56DayDnj"
      },
      "execution_count": 98,
      "outputs": []
    },
    {
      "cell_type": "code",
      "source": [
        "# Hàm scale dữ liệu bằng MinMaxScaler\n",
        "from sklearn.preprocessing import StandardScaler\n",
        "\n",
        "def scaleData_StandardScaler(X, y):\n",
        "    #Khởi tạo bộ điều chỉnh dữ liệu\n",
        "    scaler = StandardScaler()\n",
        "    #Phải thực hiện thao tác fit(data) trước khi điều chỉnh dữ liệu\n",
        "    scaler.fit(data)\n",
        "    #Thực hiện điều chỉnh dữ liệu\n",
        "    data_scl = scaler.transform(data)\n",
        "    print('Kích thước của tập dữ liệu: ', data.shape)\n",
        "    print('10 Giá trị đầu của tập dữ liệu: ')\n",
        "    print(data[:10])\n",
        "    print('Lấy ra tập dữ liệu X, y')\n",
        "    X_scl, y_scl = data[:,:-1], data[:, -1]\n",
        "    print('Kích thước tập X: ', X.shape)\n",
        "    print('Kích thước vector y: ', y.shape)\n",
        "    return X_scl, y_scl\n"
      ],
      "metadata": {
        "id": "p97CpAmF_mm9"
      },
      "execution_count": 100,
      "outputs": []
    },
    {
      "cell_type": "markdown",
      "source": [
        "# **KẾT QUẢ TIỀN XỬ LÝ DỮ LIỆU BẰNG MinMaxScaler**"
      ],
      "metadata": {
        "id": "E81rXpB8AMdI"
      }
    },
    {
      "cell_type": "code",
      "source": [
        "def main():\n",
        "    n = 1500\n",
        "    alpha = 0.01\n",
        "    X, y = readData(\"/content/drive/MyDrive/Classroom/Học máy 1 Phần cơ sở\", \"ex1data1.txt\")\n",
        "    X_scl, y_scl = scaleData_MinMaxScaler(X, y)\n",
        "    print('X scl: ', X_scl[1,:])\n",
        "    print('y scl: ', y_scl[1])\n",
        "    w = np.zeros((X_scl.shape[1], 1))\n",
        "    w, J_history = gradientDescent(X_scl, y_scl, w, alpha, n)\n",
        "    print(\"Optimal weights are: \", w)\n",
        "    print(\"Loss function: \", J_history[-1])\n",
        "\n",
        "if __name__ == '__main__':\n",
        "    main()"
      ],
      "metadata": {
        "colab": {
          "base_uri": "https://localhost:8080/"
        },
        "id": "6K10fqGhzgUX",
        "outputId": "a38d3c02-48cb-43f8-9ffc-b7bf0c722b5e"
      },
      "execution_count": 99,
      "outputs": [
        {
          "output_type": "stream",
          "name": "stdout",
          "text": [
            "Original data shape (97, 2)\n",
            "X shape:  (97, 1)\n",
            "y shape:  (97,)\n",
            "Number of training examples m =  97\n",
            "Modified X shape:  (97, 2)\n",
            "Modified y shape:  (97, 1)\n",
            "Kích thước của tập dữ liệu:  (97, 2)\n",
            "10 Giá trị đầu của tập dữ liệu: \n",
            "[[0.06306437 0.75566299]\n",
            " [0.02915679 0.44025019]\n",
            " [0.20328829 0.60917261]\n",
            " [0.11506104 0.54177958]\n",
            " [0.0484918  0.35426071]\n",
            " [0.19538778 0.54297238]\n",
            " [0.14261095 0.26200532]\n",
            " [0.20675241 0.54722171]\n",
            " [0.08496108 0.34588876]\n",
            " [0.00161271 0.24218625]]\n",
            "Lấy ra tập dữ liệu X, y\n",
            "Kích thước tập X:  (97, 2)\n",
            "Kích thước vector y:  (97, 1)\n",
            "X scl:  [0.02915679]\n",
            "y scl:  0.44025018917014874\n",
            "w_optimal shape:  (1, 1)\n",
            "Optimal weights are:  [[1.17911909 0.68695624 0.95053888 0.84538035 0.55278024 0.84724157\n",
            "  0.40882705 0.85387214 0.53971685 0.37790183 0.34507469 1.05773312\n",
            "  0.33942707 0.5761908  0.1975724  0.36023776 0.46445987 0.18853331\n",
            "  0.36831659 0.46937463 0.33846738 1.42194922 0.40386575 0.45763736\n",
            "  0.33520445 1.47260911 0.94117466 0.56577383 1.01044667 1.56037693\n",
            "  0.08495855 0.50469696 0.86166597 0.26348959 0.53645391 0.42127391\n",
            "  0.39533907 0.35325239 0.74435139 0.47566204 0.18828902 0.38342149\n",
            "  0.4691478  0.29786968 0.54745833 0.21677314 0.45450819 0.26316969\n",
            "  0.62147062 0.21512132 0.54854016 0.26291377 0.40534891 0.4466213\n",
            "  0.23870056 0.07326199 0.29990538 0.42371094 0.38638198 0.47081707\n",
            "  0.45658461 0.11271447 1.19871999 0.85701293 1.14782745 0.44005471\n",
            "  0.49001665 0.60815714 0.21508642 1.37687297 0.54443967 0.39007533\n",
            "  0.23027275 0.35024537 0.         0.17317888 0.38185109 0.48752727\n",
            "  0.54866812 0.27559329 0.18380815 0.16779474 0.19538722 0.59466916\n",
            "  0.46671659 0.40261525 0.55131453 0.2098314  0.16475806 0.32001811\n",
            "  0.26323367 0.40577931 0.57485887 0.27148117 0.16432416 0.6825882\n",
            "  0.19180672]]\n",
            "Loss function:  4.385726150246424\n"
          ]
        }
      ]
    },
    {
      "cell_type": "markdown",
      "source": [
        "# **KẾT QUẢ TIỀN XỬ LÝ DỮ LIỆU BẰNG StandardScaler**"
      ],
      "metadata": {
        "id": "SnHq9mtSAskl"
      }
    },
    {
      "cell_type": "code",
      "source": [
        "def main():\n",
        "    n = 1500\n",
        "    alpha = 0.01\n",
        "    X, y = readData(\"/content/drive/MyDrive/Classroom/Học máy 1 Phần cơ sở\", \"ex1data1.txt\")\n",
        "    X_scl, y_scl = scaleData_StandardScaler(X, y)\n",
        "    print('X scl: ', X_scl[1,:])\n",
        "    print('y scl: ', y_scl[1])\n",
        "    w = np.zeros((X_scl.shape[1], 1))\n",
        "    w, J_history = gradientDescent(X_scl, y_scl, w, alpha, n)\n",
        "    print(\"Optimal weights are: \", w)\n",
        "    print(\"Loss function: \", J_history[-1])\n",
        "\n",
        "if __name__ == '__main__':\n",
        "    main()"
      ],
      "metadata": {
        "colab": {
          "base_uri": "https://localhost:8080/"
        },
        "id": "9fCY6VS1AwGJ",
        "outputId": "82b8a602-aef3-42ca-e65c-f6b424fdbc5e"
      },
      "execution_count": 101,
      "outputs": [
        {
          "output_type": "stream",
          "name": "stdout",
          "text": [
            "Original data shape (97, 2)\n",
            "X shape:  (97, 1)\n",
            "y shape:  (97,)\n",
            "Number of training examples m =  97\n",
            "Modified X shape:  (97, 2)\n",
            "Modified y shape:  (97, 1)\n",
            "Kích thước của tập dữ liệu:  (97, 2)\n",
            "10 Giá trị đầu của tập dữ liệu: \n",
            "[[0.06306437 0.75566299]\n",
            " [0.02915679 0.44025019]\n",
            " [0.20328829 0.60917261]\n",
            " [0.11506104 0.54177958]\n",
            " [0.0484918  0.35426071]\n",
            " [0.19538778 0.54297238]\n",
            " [0.14261095 0.26200532]\n",
            " [0.20675241 0.54722171]\n",
            " [0.08496108 0.34588876]\n",
            " [0.00161271 0.24218625]]\n",
            "Lấy ra tập dữ liệu X, y\n",
            "Kích thước tập X:  (97, 2)\n",
            "Kích thước vector y:  (97, 1)\n",
            "X scl:  [0.02915679]\n",
            "y scl:  0.44025018917014874\n",
            "w_optimal shape:  (1, 1)\n",
            "Optimal weights are:  [[1.17911909 0.68695624 0.95053888 0.84538035 0.55278024 0.84724157\n",
            "  0.40882705 0.85387214 0.53971685 0.37790183 0.34507469 1.05773312\n",
            "  0.33942707 0.5761908  0.1975724  0.36023776 0.46445987 0.18853331\n",
            "  0.36831659 0.46937463 0.33846738 1.42194922 0.40386575 0.45763736\n",
            "  0.33520445 1.47260911 0.94117466 0.56577383 1.01044667 1.56037693\n",
            "  0.08495855 0.50469696 0.86166597 0.26348959 0.53645391 0.42127391\n",
            "  0.39533907 0.35325239 0.74435139 0.47566204 0.18828902 0.38342149\n",
            "  0.4691478  0.29786968 0.54745833 0.21677314 0.45450819 0.26316969\n",
            "  0.62147062 0.21512132 0.54854016 0.26291377 0.40534891 0.4466213\n",
            "  0.23870056 0.07326199 0.29990538 0.42371094 0.38638198 0.47081707\n",
            "  0.45658461 0.11271447 1.19871999 0.85701293 1.14782745 0.44005471\n",
            "  0.49001665 0.60815714 0.21508642 1.37687297 0.54443967 0.39007533\n",
            "  0.23027275 0.35024537 0.         0.17317888 0.38185109 0.48752727\n",
            "  0.54866812 0.27559329 0.18380815 0.16779474 0.19538722 0.59466916\n",
            "  0.46671659 0.40261525 0.55131453 0.2098314  0.16475806 0.32001811\n",
            "  0.26323367 0.40577931 0.57485887 0.27148117 0.16432416 0.6825882\n",
            "  0.19180672]]\n",
            "Loss function:  4.385726150246424\n"
          ]
        }
      ]
    },
    {
      "cell_type": "code",
      "source": [],
      "metadata": {
        "id": "LRNhi2wsBA8e"
      },
      "execution_count": null,
      "outputs": []
    }
  ]
}