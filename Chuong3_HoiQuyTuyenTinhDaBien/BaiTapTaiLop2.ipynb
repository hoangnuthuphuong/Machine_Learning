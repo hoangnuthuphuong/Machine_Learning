{
  "nbformat": 4,
  "nbformat_minor": 0,
  "metadata": {
    "colab": {
      "provenance": [],
      "collapsed_sections": [],
      "authorship_tag": "ABX9TyPDs4X5gm7p3IFM5Vt5tIRR",
      "include_colab_link": true
    },
    "kernelspec": {
      "name": "python3",
      "display_name": "Python 3"
    },
    "language_info": {
      "name": "python"
    }
  },
  "cells": [
    {
      "cell_type": "markdown",
      "metadata": {
        "id": "view-in-github",
        "colab_type": "text"
      },
      "source": [
        "<a href=\"https://colab.research.google.com/github/hoangnuthuphuong/Machine_Learning/blob/main/Chuong3_HoiQuyTuyenTinhDaBien/BaiTapTaiLop2.ipynb\" target=\"_parent\"><img src=\"https://colab.research.google.com/assets/colab-badge.svg\" alt=\"Open In Colab\"/></a>"
      ]
    },
    {
      "cell_type": "code",
      "source": [
        "# Thư viện cần dùng \n",
        "import numpy as np"
      ],
      "metadata": {
        "id": "2osGdlbXnCxV"
      },
      "execution_count": 1,
      "outputs": []
    },
    {
      "cell_type": "markdown",
      "source": [
        "$X =\n",
        "\\begin{bmatrix}\n",
        "1 & 2 & 3 & 4 & 5\\\\\n",
        "6 & 7 & 8 & 9 & 2 \\\\\n",
        "4 & 5 & 7 & 2 & 1\n",
        "\\end{bmatrix}$\n",
        "\n",
        "**1.** Hãy chuyển ma trận X sang kích thước (5, 3)\n"
      ],
      "metadata": {
        "id": "ZiPSbuN9l0B-"
      }
    },
    {
      "cell_type": "code",
      "source": [
        "X = np.array([[1, 2, 3, 4, 5],\n",
        "              [6, 7, 8, 9, 2],\n",
        "              [4, 5, 7, 2, 1]])\n",
        "X = np.reshape(X, (5, 3))\n",
        "print('dimension: ', X.ndim)\n",
        "print('X shape: ', X.shape)\n",
        "print(X)"
      ],
      "metadata": {
        "colab": {
          "base_uri": "https://localhost:8080/"
        },
        "id": "Z0V9I7tVnMnk",
        "outputId": "3e21e640-73ab-4f09-b307-b4fcfc62a80f"
      },
      "execution_count": 2,
      "outputs": [
        {
          "output_type": "stream",
          "name": "stdout",
          "text": [
            "dimension:  2\n",
            "X shape:  (5, 3)\n",
            "[[1 2 3]\n",
            " [4 5 6]\n",
            " [7 8 9]\n",
            " [2 4 5]\n",
            " [7 2 1]]\n"
          ]
        }
      ]
    },
    {
      "cell_type": "markdown",
      "source": [
        "**2.** Hãy tạo vector cột sau:\n",
        "\n",
        "$w= \n",
        "\\begin{bmatrix}\n",
        "2\\\\\n",
        "4\\\\\n",
        "2\n",
        "\\end{bmatrix}$"
      ],
      "metadata": {
        "id": "ZhCfY3_enlPG"
      }
    },
    {
      "cell_type": "code",
      "source": [
        "# Tạo vector trọng số w (3, 1)\n",
        "w = np.reshape([2, 4, 2], (3, 1))\n",
        "print('dimension: ', w.ndim)\n",
        "print('w shape: ', w.shape)\n",
        "print(w)"
      ],
      "metadata": {
        "colab": {
          "base_uri": "https://localhost:8080/"
        },
        "id": "3OeXqTsFoG5g",
        "outputId": "fdd251c2-58f3-46e3-e805-119546a43268"
      },
      "execution_count": 3,
      "outputs": [
        {
          "output_type": "stream",
          "name": "stdout",
          "text": [
            "dimension:  2\n",
            "w shape:  (3, 1)\n",
            "[[2]\n",
            " [4]\n",
            " [2]]\n"
          ]
        }
      ]
    },
    {
      "cell_type": "markdown",
      "source": [
        "**3.** Về lý thuyết, ta có: $ℎ_𝑤(𝑥) = 𝑤𝑋$\n",
        "Tuy nhiên, với trường hợp cụ thể của X và w ở câu 2 & 3 thì giả thuyết $ℎ_𝑤(𝑥)$ được viết lại như sau: $ℎ_𝑤(𝑥) = 𝑋𝑤$\n",
        "\n",
        "\n",
        "* Hãy viết mã lệnh tính $ℎ_𝑤(𝑥)$\n",
        "* Xác định chiều (ndim), kích thước (shape) và in kết quả $ℎ_𝑤(𝑥)$ ra màn hình\n"
      ],
      "metadata": {
        "id": "36q4rsipoirI"
      }
    },
    {
      "cell_type": "code",
      "source": [
        "# h = X.w\n",
        "h = np.dot(X, w)\n",
        "print('dimension: ', h.ndim)\n",
        "print(h.shape)\n",
        "print(h)"
      ],
      "metadata": {
        "colab": {
          "base_uri": "https://localhost:8080/"
        },
        "id": "aSYBy_rIqJHH",
        "outputId": "5e89ce48-910d-403a-fca9-ba3b1cf76c7a"
      },
      "execution_count": 11,
      "outputs": [
        {
          "output_type": "stream",
          "name": "stdout",
          "text": [
            "dimension:  2\n",
            "(5, 1)\n",
            "[[16]\n",
            " [40]\n",
            " [64]\n",
            " [30]\n",
            " [24]]\n"
          ]
        }
      ]
    },
    {
      "cell_type": "markdown",
      "source": [
        "**4.** Từ công thức\n",
        "$J(w)= \\frac {1} {2m}$ $\\sum_{i=1}^m (h_w(x_i)-y_i)^2$\n",
        "Chuyển sang công thức viết theo dạng ma trận, ta có công thức tương đương sau\n",
        "$J(w) = \\frac {1} {2m} \\sum(X.w-y)$ Hãy viết mã lệnh tính J(w) theo công thức tương đương"
      ],
      "metadata": {
        "id": "1-N7Kw9sqqT2"
      }
    },
    {
      "cell_type": "code",
      "source": [
        "# Tao vector y (5, 1)\n",
        "y= np.reshape([1,2, 3, 2, 1], (5, 1))\n",
        "\n",
        "# Tính Xw - y hay h - y\n",
        "hieu = h - y\n",
        "print('dimension: ', hieu.ndim)\n",
        "print(hieu.shape)\n",
        "print(hieu)"
      ],
      "metadata": {
        "colab": {
          "base_uri": "https://localhost:8080/"
        },
        "id": "r7E3RdeEugvo",
        "outputId": "3678d40f-8c77-4134-c033-ff8973e203ff"
      },
      "execution_count": 13,
      "outputs": [
        {
          "output_type": "stream",
          "name": "stdout",
          "text": [
            "dimension:  2\n",
            "(5, 1)\n",
            "[[15]\n",
            " [38]\n",
            " [61]\n",
            " [28]\n",
            " [23]]\n"
          ]
        }
      ]
    },
    {
      "cell_type": "markdown",
      "source": [
        "**5.** Theo lý thuyết, công thức tính đạo hàm riêng là: $\\frac{∂J(w)} {∂w_i} = \\frac{1}{m} \\sum_{i=1}^m (h_w(x_i)-y_i).x_i$ (3) Chuyển sang công thức viết theo dạng\n",
        "ma trận, ta có công thức tương đương sau: $∇J(w) = \\frac{1}{m} \\sum X^T . (Xw-y)$  (4)\n",
        "\n",
        "* Hãy viết mã lệnh tính ∇J(w) theo công thức\n",
        "(4)"
      ],
      "metadata": {
        "id": "HUCLWfhewzP7"
      }
    },
    {
      "cell_type": "code",
      "execution_count": 14,
      "metadata": {
        "colab": {
          "base_uri": "https://localhost:8080/"
        },
        "id": "C3hHlnJvkdWW",
        "outputId": "466c66f8-014c-4f86-92b6-cb6684f6935e"
      },
      "outputs": [
        {
          "output_type": "stream",
          "name": "stdout",
          "text": [
            "dimension:  2\n",
            "(3, 1)\n",
            "[[811]\n",
            " [866]\n",
            " [985]]\n"
          ]
        }
      ],
      "source": [
        "# Ở câu trên ta đã có hieu = Xw - y\n",
        "# (h-y).X = (5x1).(5x3) --> (h - y).XT = (5x1).(3x5) \n",
        "h2 = np.dot(X.T, hieu)\n",
        "print('dimension: ', h2.ndim)\n",
        "print(h2.shape)\n",
        "print(h2)"
      ]
    },
    {
      "cell_type": "markdown",
      "source": [
        "**6.** Theo thuật toán Gradient descent, các trọng số được cập nhật theo công thức\n",
        "$w_i = w_i − α \\frac{∂J(w)} {∂w_i} , ∀i$ (5)\n",
        "Chuyển sang công thức viết theo dạng ma trận, ta có công thức tương đương\n",
        "sau:\n",
        "$w = w − α. ∇J(w)$ (6)\n",
        "* Hãy viết mã lệnh tính w theo công thức (6)"
      ],
      "metadata": {
        "id": "nUUblG_MzPgC"
      }
    },
    {
      "cell_type": "code",
      "source": [
        "alpha = 0.01\n",
        "W = w - alpha*h2\n",
        "print('dimension: ', W.ndim)\n",
        "print(W.shape)\n",
        "print(W)\n"
      ],
      "metadata": {
        "colab": {
          "base_uri": "https://localhost:8080/"
        },
        "id": "4QvekVkKz1w2",
        "outputId": "34b15d95-2231-435f-821c-96a2c0d4c0ba"
      },
      "execution_count": 19,
      "outputs": [
        {
          "output_type": "stream",
          "name": "stdout",
          "text": [
            "dimension:  2\n",
            "(3, 1)\n",
            "[[-6.11]\n",
            " [-4.66]\n",
            " [-7.85]]\n"
          ]
        }
      ]
    }
  ]
}