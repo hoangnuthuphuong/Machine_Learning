{
  "nbformat": 4,
  "nbformat_minor": 0,
  "metadata": {
    "colab": {
      "provenance": [],
      "authorship_tag": "ABX9TyMYGZ7dZaDJWt6xEoVx9m3w",
      "include_colab_link": true
    },
    "kernelspec": {
      "name": "python3",
      "display_name": "Python 3"
    },
    "language_info": {
      "name": "python"
    }
  },
  "cells": [
    {
      "cell_type": "markdown",
      "metadata": {
        "id": "view-in-github",
        "colab_type": "text"
      },
      "source": [
        "<a href=\"https://colab.research.google.com/github/hoangnuthuphuong/Machine_Learning/blob/main/Chuong3_HoiQuyTuyenTinhDaBien/C3_BTVN3_SuDungLopLinearRegression.ipynb\" target=\"_parent\"><img src=\"https://colab.research.google.com/assets/colab-badge.svg\" alt=\"Open In Colab\"/></a>"
      ]
    },
    {
      "cell_type": "markdown",
      "source": [
        "Quy tắc sử dụng chung mô hình hồi quy do sklearn cung cấp là:\n",
        "- Bước 1: Khởi tạo mô hình\n",
        "- Bước 2: Huấn luyện mô hình với tập dữ liệu (huấn luyện – sẽ được học ở bài 5) bằng hàm **fit()**\n",
        "- Bước 3: Tiến hành dự đoán bằng hàm **predict()**\n",
        "\n",
        "**Lưu ý:** đối với các mô hình do sklearn cung cấp thì vector y được xét ở không gian $R^m$ (chứ không phải $R^{m×1}$)."
      ],
      "metadata": {
        "id": "z0ZZX1TiOs2F"
      }
    },
    {
      "cell_type": "code",
      "source": [
        "import os\n",
        "import numpy as np\n",
        "from sklearn.preprocessing import MinMaxScaler, StandardScaler\n",
        "from sklearn.linear_model import LinearRegression"
      ],
      "metadata": {
        "id": "10DHJuTgJm_a"
      },
      "execution_count": null,
      "outputs": []
    },
    {
      "cell_type": "code",
      "source": [
        "from google.colab import drive\n",
        "drive.mount('/content/drive')"
      ],
      "metadata": {
        "colab": {
          "base_uri": "https://localhost:8080/"
        },
        "id": "Xw60U9oaKSSa",
        "outputId": "46fa5ae8-f0f1-44cf-f07f-92787bf9c598"
      },
      "execution_count": null,
      "outputs": [
        {
          "output_type": "stream",
          "name": "stdout",
          "text": [
            "Mounted at /content/drive\n"
          ]
        }
      ]
    },
    {
      "cell_type": "markdown",
      "source": [
        "**DỮ LIỆU BAN ĐẦU**"
      ],
      "metadata": {
        "id": "MedLJsWMTv5i"
      }
    },
    {
      "cell_type": "code",
      "source": [
        "data = np.loadtxt(os.path.join(\"/content/drive/MyDrive/Classroom/Học máy 1 Phần cơ sở\", \"ex1data2.txt\"),delimiter=\",\")\n",
        "print('Kích thước của tập dữ liệu: ', data.shape)\n",
        "X = data[:, :-1]\n",
        "print('\\nX shape: ', X.shape)\n",
        "print(X[:5])\n",
        "y = data[:, -1].reshape(-1, 1)\n",
        "print('\\ny shape: ', y.shape)\n",
        "print(y[:5])"
      ],
      "metadata": {
        "colab": {
          "base_uri": "https://localhost:8080/"
        },
        "id": "v0aY6azKQruX",
        "outputId": "c029adc2-d82d-4896-c70f-3ceef176ff94"
      },
      "execution_count": null,
      "outputs": [
        {
          "output_type": "stream",
          "name": "stdout",
          "text": [
            "Kích thước của tập dữ liệu:  (47, 3)\n",
            "\n",
            "X shape:  (47, 2)\n",
            "[[2.104e+03 3.000e+00]\n",
            " [1.600e+03 3.000e+00]\n",
            " [2.400e+03 3.000e+00]\n",
            " [1.416e+03 2.000e+00]\n",
            " [3.000e+03 4.000e+00]]\n",
            "\n",
            "y shape:  (47, 1)\n",
            "[[399900.]\n",
            " [329900.]\n",
            " [369000.]\n",
            " [232000.]\n",
            " [539900.]]\n"
          ]
        }
      ]
    },
    {
      "cell_type": "markdown",
      "source": [
        "**MinMaxScaler**"
      ],
      "metadata": {
        "id": "erUHBbO2T6BO"
      }
    },
    {
      "cell_type": "code",
      "source": [
        "print('Thực hiện MinMaxScaler')\n",
        "#Khởi tạo bộ điều chỉnh dữ liệu\n",
        "scaler = MinMaxScaler()\n",
        "#Phải thực hiện thao tác fit(data) trước khi điều chỉnh dữ liệu\n",
        "scaler.fit(data)\n",
        "#Thực hiện điều chỉnh dữ liệu\n",
        "D = scaler.transform(data)\n",
        "print('Lấy ra tập dữ liệu X, y')\n",
        "X, y = D[:,:-1], D[:, -1]\n",
        "print('\\nX shape: ', X.shape)\n",
        "print(X[:5])\n",
        "y = data[:, -1].reshape(-1, 1)\n",
        "print('\\ny shape: ', y.shape)\n",
        "print(y[:5])"
      ],
      "metadata": {
        "colab": {
          "base_uri": "https://localhost:8080/"
        },
        "id": "g1KfNeyHSQE4",
        "outputId": "287bb913-7649-42dd-dbf5-7891a906f9a7"
      },
      "execution_count": null,
      "outputs": [
        {
          "output_type": "stream",
          "name": "stdout",
          "text": [
            "Thực hiện MinMaxScaler\n",
            "Lấy ra tập dữ liệu X, y\n",
            "\n",
            "X shape:  (47, 2)\n",
            "[[0.34528406 0.5       ]\n",
            " [0.20628792 0.5       ]\n",
            " [0.42691671 0.5       ]\n",
            " [0.1555433  0.25      ]\n",
            " [0.59238831 0.75      ]]\n",
            "\n",
            "y shape:  (47, 1)\n",
            "[[399900.]\n",
            " [329900.]\n",
            " [369000.]\n",
            " [232000.]\n",
            " [539900.]]\n"
          ]
        }
      ]
    },
    {
      "cell_type": "markdown",
      "source": [
        "**StandardScaler**"
      ],
      "metadata": {
        "id": "2WcVMXrCUDJ6"
      }
    },
    {
      "cell_type": "code",
      "source": [
        "print('Thực hiện StandardScaler')\n",
        "#Khởi tạo bộ điều chỉnh dữ liệu\n",
        "scaler = StandardScaler()\n",
        "#Phải thực hiện thao tác fit(data) trước khi điều chỉnh dữ liệu\n",
        "scaler.fit(data)\n",
        "#Thực hiện điều chỉnh dữ liệu\n",
        "D = scaler.transform(data)\n",
        "print('Lấy ra tập dữ liệu X, y')\n",
        "X, y = D[:,:-1], D[:, -1]\n",
        "print('\\nX shape: ', X.shape)\n",
        "print(X[:5])\n",
        "y = data[:, -1].reshape(-1, 1)\n",
        "print('\\ny shape: ', y.shape)\n",
        "print(y[:5])"
      ],
      "metadata": {
        "colab": {
          "base_uri": "https://localhost:8080/"
        },
        "id": "laU3jDRdS-jR",
        "outputId": "6d52013d-08e6-4015-a197-64c57845402d"
      },
      "execution_count": 52,
      "outputs": [
        {
          "output_type": "stream",
          "name": "stdout",
          "text": [
            "Thực hiện StandardScaler\n",
            "Lấy ra tập dữ liệu X, y\n",
            "\n",
            "X shape:  (47, 2)\n",
            "[[ 0.13141542 -0.22609337]\n",
            " [-0.5096407  -0.22609337]\n",
            " [ 0.5079087  -0.22609337]\n",
            " [-0.74367706 -1.5543919 ]\n",
            " [ 1.27107075  1.10220517]]\n",
            "\n",
            "y shape:  (47, 1)\n",
            "[[399900.]\n",
            " [329900.]\n",
            " [369000.]\n",
            " [232000.]\n",
            " [539900.]]\n"
          ]
        }
      ]
    },
    {
      "cell_type": "markdown",
      "source": [
        "**Training LinearRegression**"
      ],
      "metadata": {
        "id": "BbiBeOD3USx_"
      }
    },
    {
      "cell_type": "code",
      "execution_count": null,
      "metadata": {
        "colab": {
          "base_uri": "https://localhost:8080/"
        },
        "id": "T9p5ygxyJBr3",
        "outputId": "bdbb16f8-4a09-4a2d-a3d6-f1069be028dc"
      },
      "outputs": [
        {
          "output_type": "stream",
          "name": "stdout",
          "text": [
            "Huấn luyện mô hình LinearRegression\n",
            "\t\tw optimal:  [[109447.79646964  -6578.35485416]]\n"
          ]
        }
      ],
      "source": [
        "print('Huấn luyện mô hình LinearRegression')\n",
        "#Khởi tạo mô hình\n",
        "model = LinearRegression()\n",
        "#Huấn luyện mô hình với tập dữ liệu X, y\n",
        "model.fit(X,y)\n",
        "#Bộ trọng số tối ưu:\n",
        "print('\\t\\tw optimal: ', model.coef_)"
      ]
    },
    {
      "cell_type": "markdown",
      "source": [
        "**DỰ ĐOÁN**"
      ],
      "metadata": {
        "id": "guXluM-sVm48"
      }
    },
    {
      "cell_type": "code",
      "source": [
        "X_predict = model.predict(X)\n",
        "print(X_predict[:10])"
      ],
      "metadata": {
        "colab": {
          "base_uri": "https://localhost:8080/"
        },
        "id": "BCmFB7fmVpSZ",
        "outputId": "9f8f279e-f4f3-4ff0-9c20-87fde6176bf8"
      },
      "execution_count": 49,
      "outputs": [
        {
          "output_type": "stream",
          "name": "stdout",
          "text": [
            "[[356283.1103389 ]\n",
            " [286120.93063401]\n",
            " [397489.46984812]\n",
            " [269244.1857271 ]\n",
            " [472277.85514636]\n",
            " [330979.02101847]\n",
            " [276933.02614885]\n",
            " [262037.48402897]\n",
            " [255494.58235014]\n",
            " [271364.59918815]]\n"
          ]
        }
      ]
    }
  ]
}