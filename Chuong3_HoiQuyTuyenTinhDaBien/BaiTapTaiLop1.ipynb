{
  "nbformat": 4,
  "nbformat_minor": 0,
  "metadata": {
    "colab": {
      "provenance": [],
      "authorship_tag": "ABX9TyNV4IvmBUHp2+34Kn6taEQf",
      "include_colab_link": true
    },
    "kernelspec": {
      "name": "python3",
      "display_name": "Python 3"
    },
    "language_info": {
      "name": "python"
    }
  },
  "cells": [
    {
      "cell_type": "markdown",
      "metadata": {
        "id": "view-in-github",
        "colab_type": "text"
      },
      "source": [
        "<a href=\"https://colab.research.google.com/github/hoangnuthuphuong/Machine_Learning/blob/main/Chuong3_HoiQuyTuyenTinhDaBien/BaiTapTaiLop1.ipynb\" target=\"_parent\"><img src=\"https://colab.research.google.com/assets/colab-badge.svg\" alt=\"Open In Colab\"/></a>"
      ]
    },
    {
      "cell_type": "code",
      "source": [
        "import numpy as np"
      ],
      "metadata": {
        "id": "d41e053qx7KS"
      },
      "execution_count": 2,
      "outputs": []
    },
    {
      "cell_type": "markdown",
      "source": [
        "**1. Cho v là 1 vector hàng $v= [1,2,3,4,5]$**\n",
        "\n",
        "\n",
        "Lưu ý: vector tương ứng với tensor hạng 1\n"
      ],
      "metadata": {
        "id": "s0ccP0NA0ZJL"
      }
    },
    {
      "cell_type": "code",
      "source": [
        "# Tạo 1 vector\n",
        "v = np.array([4, 2, 3, 6, 5])\n",
        "print('v dimension: ', v.ndim)\n",
        "print('v shape: ', v.shape)\n",
        "print(v)\n"
      ],
      "metadata": {
        "colab": {
          "base_uri": "https://localhost:8080/"
        },
        "id": "tampRcZX0VR1",
        "outputId": "d4f7266a-c7bd-4fba-995f-ef760ce9125b"
      },
      "execution_count": 8,
      "outputs": [
        {
          "output_type": "stream",
          "name": "stdout",
          "text": [
            "v dimension:  1\n",
            "v shape:  (5,)\n",
            "[4 2 3 6 5]\n"
          ]
        }
      ]
    },
    {
      "cell_type": "markdown",
      "source": [
        "**2. Cho w là 1 vcetor cột $w= [1;2;3;4;5]$**\n",
        "\n",
        "Lưu ý: vector cũng có thể biểu diễn như là tensor hạng 2 ở trường hợp đặc biệt là R^(m×1)\n"
      ],
      "metadata": {
        "id": "ZO0REVSO0n0t"
      }
    },
    {
      "cell_type": "code",
      "source": [
        "m = w.shape[0]\n",
        "w = np.reshape(w, (m, 1))\n",
        "print('w dimension: ', w.ndim)\n",
        "print('w shape: ', w.shape)\n",
        "print(w)\n"
      ],
      "metadata": {
        "colab": {
          "base_uri": "https://localhost:8080/"
        },
        "id": "cKAXLkEC0yZC",
        "outputId": "a3c7410b-a8ce-444f-ff18-8efc2ae80008"
      },
      "execution_count": 9,
      "outputs": [
        {
          "output_type": "stream",
          "name": "stdout",
          "text": [
            "w dimension:  2\n",
            "w shape:  (5, 1)\n",
            "[[4]\n",
            " [2]\n",
            " [3]\n",
            " [6]\n",
            " [5]]\n"
          ]
        }
      ]
    },
    {
      "cell_type": "markdown",
      "source": [
        "**3. (Hãy xác định số chiều (ndim), kích thước (shape) của 2 vector v và w; In 2 vector v và w ra màn hình; Nhận xét điểm khác biệt của kết quả)**"
      ],
      "metadata": {
        "id": "HSRp_cFn0KmQ"
      }
    },
    {
      "cell_type": "code",
      "execution_count": 26,
      "metadata": {
        "colab": {
          "base_uri": "https://localhost:8080/"
        },
        "id": "3ZjIsu9nxuux",
        "outputId": "7e9a8a22-48d5-4699-a398-2074d295b4d8"
      },
      "outputs": [
        {
          "output_type": "stream",
          "name": "stdout",
          "text": [
            "v dimension:  1\n",
            "v shape:  (5,)\n",
            "[4 2 3 6 5]\n"
          ]
        }
      ],
      "source": [
        "# Tạo 1 vector\n",
        "v = np.array([4, 2, 3, 6, 5])\n",
        "print('v dimension: ', v.ndim)\n",
        "print('v shape: ', v.shape)\n",
        "print(v)\n"
      ]
    },
    {
      "cell_type": "code",
      "source": [
        "#Tạo vetor dưới dạng ma trận mx1\n",
        "m = v.shape[0]\n",
        "w = np.reshape(v, (m, 1))\n",
        "print('w dimension: ', w.ndim)\n",
        "print('w shape: ', w.shape)\n",
        "print(w)"
      ],
      "metadata": {
        "colab": {
          "base_uri": "https://localhost:8080/"
        },
        "id": "9B9wU1VXxvtg",
        "outputId": "9008616c-ed75-48d9-a741-3a9d64af3bc9"
      },
      "execution_count": 27,
      "outputs": [
        {
          "output_type": "stream",
          "name": "stdout",
          "text": [
            "w dimension:  2\n",
            "w shape:  (5, 1)\n",
            "[[4]\n",
            " [2]\n",
            " [3]\n",
            " [6]\n",
            " [5]]\n"
          ]
        }
      ]
    },
    {
      "cell_type": "markdown",
      "source": [
        "**Nhận xét**\n",
        "\n",
        "* vector v là chuyển vị của vector w và ngược lại\n",
        "* vector v là vector hàng còn vector w là vector cột\n",
        "* vector v chỉ có 1 chiều còn vector w có 2 chiều\n",
        "\n",
        "\n",
        "\n",
        "\n",
        "\n",
        "\n",
        "\n"
      ],
      "metadata": {
        "id": "eFMfTE4gymQF"
      }
    },
    {
      "cell_type": "markdown",
      "source": [
        "**4. Cho $u$ và $w$ là 2 vector cột có kích thước $(m, 1)$. Hãy tạo ma trận $X$ bằng cách ghép 2 vector cột $u$ và $w$ lại với nhau $X= [u,w]$**\n"
      ],
      "metadata": {
        "id": "XHTDScya04PF"
      }
    },
    {
      "cell_type": "code",
      "source": [
        "#Tạo ma trân v mx1, ma trận w lấy ở câu 3 \n",
        "v = np.reshape([6, 2, 1, 4, 5], (m,1))\n",
        "print('v dimension: ', v.ndim)\n",
        "print('v shape: ', v.shape)\n",
        "print(v)"
      ],
      "metadata": {
        "colab": {
          "base_uri": "https://localhost:8080/"
        },
        "id": "5FkAmOs912Ai",
        "outputId": "e9c4ece3-dd44-491b-c7de-2b486d7732b6"
      },
      "execution_count": 24,
      "outputs": [
        {
          "output_type": "stream",
          "name": "stdout",
          "text": [
            "v dimension:  2\n",
            "v shape:  (5, 1)\n",
            "[[6]\n",
            " [2]\n",
            " [1]\n",
            " [4]\n",
            " [5]]\n"
          ]
        }
      ]
    },
    {
      "cell_type": "code",
      "source": [
        "#Ghép 2 vector w và v thành ma trận mx2\n",
        "X = np.column_stack([w, v])\n",
        "print('X dimension: ', X.ndim)\n",
        "print('X shape: ', X.shape)\n",
        "print(X)"
      ],
      "metadata": {
        "colab": {
          "base_uri": "https://localhost:8080/"
        },
        "id": "yqOBK-5ZyAoV",
        "outputId": "375b711f-17dc-4e59-ac4e-927d72f46447"
      },
      "execution_count": 12,
      "outputs": [
        {
          "output_type": "stream",
          "name": "stdout",
          "text": [
            "X dimension:  2\n",
            "X shape:  (5, 2)\n",
            "[[4 6]\n",
            " [2 2]\n",
            " [3 1]\n",
            " [6 4]\n",
            " [5 5]]\n"
          ]
        }
      ]
    },
    {
      "cell_type": "code",
      "source": [
        "#Cách ghép thứ 2\n",
        "X = np.hstack([w, v])\n",
        "print('X dimension: ', X.ndim)\n",
        "print('X shape: ', X.shape)\n",
        "print(X)"
      ],
      "metadata": {
        "colab": {
          "base_uri": "https://localhost:8080/"
        },
        "id": "I5GKN3Yl1yvk",
        "outputId": "0a64e802-6bef-4f7c-9d79-800496e80598"
      },
      "execution_count": 13,
      "outputs": [
        {
          "output_type": "stream",
          "name": "stdout",
          "text": [
            "X dimension:  2\n",
            "X shape:  (5, 2)\n",
            "[[4 6]\n",
            " [2 2]\n",
            " [3 1]\n",
            " [6 4]\n",
            " [5 5]]\n"
          ]
        }
      ]
    },
    {
      "cell_type": "code",
      "source": [
        "#Lấy ra vector w từ X\n",
        "print('Lấy ra vector w từ X')\n",
        "w_X = X[:, 0]\n",
        "print('w_X dimension: ', w_X.ndim)\n",
        "print(w_X.shape)\n",
        "print(w_X)\n"
      ],
      "metadata": {
        "colab": {
          "base_uri": "https://localhost:8080/"
        },
        "id": "71qLvJd32Ca5",
        "outputId": "a1746761-1bd0-47d9-c0d8-82ba7f5fa625"
      },
      "execution_count": 14,
      "outputs": [
        {
          "output_type": "stream",
          "name": "stdout",
          "text": [
            "Lấy ra vector w từ X\n",
            "w_X dimension:  1\n",
            "(5,)\n",
            "[4 2 3 6 5]\n"
          ]
        }
      ]
    },
    {
      "cell_type": "markdown",
      "source": [
        "**5. Tạo ma trận X**"
      ],
      "metadata": {
        "id": "_8e5BXbT27j4"
      }
    },
    {
      "cell_type": "code",
      "source": [
        "X = np.array([[1, 2, 3, 4, 5],\n",
        "              [6, 7, 8, 9, 2],\n",
        "              [4, 5, 7, 2, 1]])\n",
        "print('X dimension: ', X.ndim)\n",
        "print('X shape: ', X.shape)\n",
        "print(X)"
      ],
      "metadata": {
        "colab": {
          "base_uri": "https://localhost:8080/"
        },
        "id": "ot03ZFCc2yd6",
        "outputId": "a0388e7d-e2fb-4ad2-f2c8-f9de76c8b293"
      },
      "execution_count": 31,
      "outputs": [
        {
          "output_type": "stream",
          "name": "stdout",
          "text": [
            "X dimension:  2\n",
            "X shape:  (3, 5)\n",
            "[[1 2 3 4 5]\n",
            " [6 7 8 9 2]\n",
            " [4 5 7 2 1]]\n"
          ]
        }
      ]
    },
    {
      "cell_type": "code",
      "source": [
        "X = np.array([1,2,3,4,5,6,7,8,9,2,4,5,7,2,1]).reshape(3,5)\n",
        "print('X dimension: ', X.ndim)\n",
        "print('X shape: ', X.shape)\n",
        "print(X)"
      ],
      "metadata": {
        "colab": {
          "base_uri": "https://localhost:8080/"
        },
        "id": "A_cUFO_23iXn",
        "outputId": "8a835dcd-a573-4606-83f8-481fe2cfda45"
      },
      "execution_count": 21,
      "outputs": [
        {
          "output_type": "stream",
          "name": "stdout",
          "text": [
            "X dimension:  2\n",
            "X shape:  (3, 5)\n",
            "[[1 2 3 4 5]\n",
            " [6 7 8 9 2]\n",
            " [4 5 7 2 1]]\n"
          ]
        }
      ]
    },
    {
      "cell_type": "markdown",
      "source": [
        "**6. Nhân ma trận X với vector v**"
      ],
      "metadata": {
        "id": "7fXSkP4Q4hgW"
      }
    },
    {
      "cell_type": "code",
      "source": [
        "Z = np.dot(X, v)\n",
        "print('Z dimension: ', Z.ndim)\n",
        "print('Z shape: ', Z.shape)\n",
        "print(Z)"
      ],
      "metadata": {
        "colab": {
          "base_uri": "https://localhost:8080/"
        },
        "id": "As5Wk8KM3SEW",
        "outputId": "d27d480f-a2a0-412e-d32d-85c709a2c865"
      },
      "execution_count": 28,
      "outputs": [
        {
          "output_type": "stream",
          "name": "stdout",
          "text": [
            "Z dimension:  1\n",
            "Z shape:  (3,)\n",
            "[ 66 126  64]\n"
          ]
        }
      ]
    },
    {
      "cell_type": "markdown",
      "source": [
        "**7. Nhân ma trận X với vector w**"
      ],
      "metadata": {
        "id": "k3ZnKlh45t5h"
      }
    },
    {
      "cell_type": "code",
      "source": [
        "Z = np.dot(X, w)\n",
        "print('Z dimension: ', Z.ndim)\n",
        "print('Z shape: ', Z.shape)\n",
        "print(Z)\n"
      ],
      "metadata": {
        "colab": {
          "base_uri": "https://localhost:8080/"
        },
        "id": "h3PW8fQ44qFQ",
        "outputId": "20bb1f93-2789-43ae-e2ee-2dcb72f776b7"
      },
      "execution_count": 29,
      "outputs": [
        {
          "output_type": "stream",
          "name": "stdout",
          "text": [
            "Z dimension:  2\n",
            "Z shape:  (3, 1)\n",
            "[[ 66]\n",
            " [126]\n",
            " [ 64]]\n"
          ]
        }
      ]
    },
    {
      "cell_type": "markdown",
      "source": [
        "**8. Xét ma trận $X$ ở câu 5, hãy tìm ma trận chuyển vị của $X$, ký hiệu là $X^T$**"
      ],
      "metadata": {
        "id": "f1mvipc_6lIi"
      }
    },
    {
      "cell_type": "code",
      "source": [
        "#Nhân ma trận Y với vector w_X\n",
        "T = np.dot(X, w_X)\n",
        "print('T dimension: ', T.ndim)\n",
        "print('T shape: ', T.shape)\n",
        "print(T)"
      ],
      "metadata": {
        "colab": {
          "base_uri": "https://localhost:8080/"
        },
        "id": "WpurJEbd5dU9",
        "outputId": "c9739cea-d5d8-4301-9d8f-fc2f617572e1"
      },
      "execution_count": 32,
      "outputs": [
        {
          "output_type": "stream",
          "name": "stdout",
          "text": [
            "T dimension:  1\n",
            "T shape:  (3,)\n",
            "[ 66 126  64]\n"
          ]
        }
      ]
    }
  ]
}