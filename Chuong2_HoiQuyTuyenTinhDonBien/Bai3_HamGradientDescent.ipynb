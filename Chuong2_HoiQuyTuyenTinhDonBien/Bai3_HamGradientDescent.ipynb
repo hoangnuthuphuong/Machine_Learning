{
  "nbformat": 4,
  "nbformat_minor": 0,
  "metadata": {
    "colab": {
      "provenance": [],
      "authorship_tag": "ABX9TyPXBM/7jdRb7FP+xk6vXQkC",
      "include_colab_link": true
    },
    "kernelspec": {
      "name": "python3",
      "display_name": "Python 3"
    },
    "language_info": {
      "name": "python"
    }
  },
  "cells": [
    {
      "cell_type": "markdown",
      "metadata": {
        "id": "view-in-github",
        "colab_type": "text"
      },
      "source": [
        "<a href=\"https://colab.research.google.com/github/hoangnuthuphuong/Machine_Learning/blob/main/Chuong2_HoiQuyTuyenTinhDonBien/Bai3_HamGradientDescent.ipynb\" target=\"_parent\"><img src=\"https://colab.research.google.com/assets/colab-badge.svg\" alt=\"Open In Colab\"/></a>"
      ]
    },
    {
      "cell_type": "markdown",
      "source": [
        "> **Hàm gradientDescent(X, y, w, alpha, n), với:**\n",
        "- X, y là dữ liệu huấn luyện\n",
        "- w là vector trọng số\n",
        "- alpha là learning rate - 1 số thực\n",
        "- n là số bước lặp \n",
        "Hàm trả về:\n",
        "- Giá trị vector trọng số tối ưu tìm được theo thuật toán Gradient Descent - w_optimal\n",
        "- List chứa tất cả các giá trị của hàm mất mát tương ứng với các giá trị vector trọng số tại mỗi bước lặp"
      ],
      "metadata": {
        "id": "hzPL70qLiyHN"
      }
    },
    {
      "cell_type": "code",
      "source": [
        "# Các thư viện:\n",
        "import numpy as np"
      ],
      "metadata": {
        "id": "r4CV94hpmYSW"
      },
      "execution_count": 2,
      "outputs": []
    },
    {
      "cell_type": "code",
      "source": [
        "# Hàm mất mát đã làm từ bài 2\n",
        "def calculateLoss(X, y, w):\n",
        "    m = y.shape[0]\n",
        "    J = 0\n",
        "    h = np.dot(X, w)\n",
        "    J = (1/(2*m))*np.sum(np.square(h - y))\n",
        "    return J"
      ],
      "metadata": {
        "id": "c4SG1k7dmT3F"
      },
      "execution_count": 8,
      "outputs": []
    },
    {
      "cell_type": "code",
      "execution_count": 9,
      "metadata": {
        "id": "74GG68u6ixLN"
      },
      "outputs": [],
      "source": [
        "def gradientDescent(X, y, w, alpha, n):\n",
        "    m = y.shape[0]\n",
        "    # Tạo list rỗng \n",
        "    J_history = []\n",
        "    w_optimal = w.copy()\n",
        "    print('w_optimal shape: ', w_optimal.shape)\n",
        "    for i in range(n):\n",
        "\n",
        "        # Tính giá trị vector trọng số tối ưu\n",
        "        w_optimal = w_optimal - (alpha/m)*(np.dot(X, w_optimal) - y).dot(X)\n",
        "\n",
        "        # List chưa tất cả giá trị của hàm mất mát tương ứng với các giá trị vector trọng số tại mỗi bước lặp\n",
        "        J_history.append(calculateLoss(X, y, w_optimal))\n",
        "    return w_optimal, J_history"
      ]
    }
  ]
}