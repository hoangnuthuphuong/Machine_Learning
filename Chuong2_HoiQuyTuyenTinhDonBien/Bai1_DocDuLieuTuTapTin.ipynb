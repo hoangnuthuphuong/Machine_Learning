{
  "nbformat": 4,
  "nbformat_minor": 0,
  "metadata": {
    "colab": {
      "provenance": [],
      "authorship_tag": "ABX9TyM+uYoNQsIZIakdhBwUi1OG",
      "include_colab_link": true
    },
    "kernelspec": {
      "name": "python3",
      "display_name": "Python 3"
    },
    "language_info": {
      "name": "python"
    }
  },
  "cells": [
    {
      "cell_type": "markdown",
      "metadata": {
        "id": "view-in-github",
        "colab_type": "text"
      },
      "source": [
        "<a href=\"https://colab.research.google.com/github/hoangnuthuphuong/Machine_Learning/blob/main/Chuong2_HoiQuyTuyenTinhDonBien/Bai1_DocDuLieuTuTapTin.ipynb\" target=\"_parent\"><img src=\"https://colab.research.google.com/assets/colab-badge.svg\" alt=\"Open In Colab\"/></a>"
      ]
    },
    {
      "cell_type": "markdown",
      "source": [
        "> **Hãy viết hàm đọc dữ liệu từ tập tin sau, yêu cầu:**\n",
        "- Trích X, y ra từ dữ liệu gốc\n",
        "- Chỉnh sửa X thêm 1 cột vector 1 vào bên trái\n",
        "- Trả về X và y\n",
        "- Hàm đặt tên là readData(folder, filename)\n",
        "- folder và filename là 2 tham số kiểu string chứa đường dẫn thư mục và tên tập tin dữ liệu"
      ],
      "metadata": {
        "id": "C7tSXD8lgltY"
      }
    },
    {
      "cell_type": "code",
      "source": [
        "# Các thư viện\n",
        "import os\n",
        "import numpy as np"
      ],
      "metadata": {
        "id": "IK7z_ifsg4d_"
      },
      "execution_count": 1,
      "outputs": []
    },
    {
      "cell_type": "code",
      "execution_count": 3,
      "metadata": {
        "id": "NX9SSRUJgjzr"
      },
      "outputs": [],
      "source": [
        "def readData(folder, filename):\n",
        "\n",
        "    # Trích xuất tệp dữ liệu gốc\n",
        "    data = np.loadtxt(os.path.join(folder, filename), delimiter=',')\n",
        "    print('Original data shape', data.shape)\n",
        "\n",
        "    # Trích X và y ra từ tập dữ liệu gốc \n",
        "    X = data[:,0]\n",
        "    print('X shape: ', X.shape)\n",
        "    y = data[:,1]\n",
        "    print('y shape: ', y.shape)\n",
        "\n",
        "    # Tạo cột vector mới và thêm vào bên trái X \n",
        "    m = y.shape[0]\n",
        "    print('Number of training examples m = ', m)\n",
        "    X = np.stack([np.ones(m), X], axis=1)\n",
        "\n",
        "    # X sau khi đã sửa đổi \n",
        "    print('Modified X shape: ', X.shape)\n",
        "    return X, y"
      ]
    }
  ]
}