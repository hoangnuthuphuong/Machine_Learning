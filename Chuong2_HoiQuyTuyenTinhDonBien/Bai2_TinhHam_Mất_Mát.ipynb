{
  "nbformat": 4,
  "nbformat_minor": 0,
  "metadata": {
    "colab": {
      "provenance": [],
      "authorship_tag": "ABX9TyPiEzo95/4v+YblugPmL8ey",
      "include_colab_link": true
    },
    "kernelspec": {
      "name": "python3",
      "display_name": "Python 3"
    },
    "language_info": {
      "name": "python"
    }
  },
  "cells": [
    {
      "cell_type": "markdown",
      "metadata": {
        "id": "view-in-github",
        "colab_type": "text"
      },
      "source": [
        "<a href=\"https://colab.research.google.com/github/hoangnuthuphuong/Machine_Learning/blob/main/Chuong2_HoiQuyTuyenTinhDonBien/Bai2_TinhHam_M%E1%BA%A5t_M%C3%A1t.ipynb\" target=\"_parent\"><img src=\"https://colab.research.google.com/assets/colab-badge.svg\" alt=\"Open In Colab\"/></a>"
      ]
    },
    {
      "cell_type": "markdown",
      "source": [
        "> **Xây dựng hàm mất mát**\n",
        "- Tên hàm  calculateLoss(X, y, w)\n",
        "- Với X, y lần lượt là dữ liệu X và y; w là hệ số\n",
        "- Hàm trả về giá trị của hàm mất mát J tương ứng với tham số đầu vào ở trên"
      ],
      "metadata": {
        "id": "hzPL70qLiyHN"
      }
    },
    {
      "cell_type": "code",
      "source": [
        "# Thư viện cần dùng\n",
        "import numpy as np"
      ],
      "metadata": {
        "id": "igNRjS-flwpz"
      },
      "execution_count": 1,
      "outputs": []
    },
    {
      "cell_type": "code",
      "execution_count": 2,
      "metadata": {
        "id": "74GG68u6ixLN"
      },
      "outputs": [],
      "source": [
        "def calculateLoss(X, y, w):\n",
        "    m = y.shape[0]\n",
        "    J = 0\n",
        "    h = np.dot(X, w)\n",
        "    J = (1/(2*m))*np.sum(np.square(h - y))\n",
        "    return J"
      ]
    }
  ]
}