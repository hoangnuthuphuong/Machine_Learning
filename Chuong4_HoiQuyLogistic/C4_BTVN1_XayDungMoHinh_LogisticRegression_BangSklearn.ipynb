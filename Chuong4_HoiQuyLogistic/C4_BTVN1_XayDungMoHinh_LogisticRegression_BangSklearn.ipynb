{
  "nbformat": 4,
  "nbformat_minor": 0,
  "metadata": {
    "colab": {
      "provenance": [],
      "authorship_tag": "ABX9TyMD0CJnsKgdVBSxzglAIxN1",
      "include_colab_link": true
    },
    "kernelspec": {
      "name": "python3",
      "display_name": "Python 3"
    },
    "language_info": {
      "name": "python"
    }
  },
  "cells": [
    {
      "cell_type": "markdown",
      "metadata": {
        "id": "view-in-github",
        "colab_type": "text"
      },
      "source": [
        "<a href=\"https://colab.research.google.com/github/hoangnuthuphuong/Machine_Learning/blob/main/Chuong4_HoiQuyLogistic/C4_BTVN1_XayDungMoHinh_LogisticRegression_BangSklearn.ipynb\" target=\"_parent\"><img src=\"https://colab.research.google.com/assets/colab-badge.svg\" alt=\"Open In Colab\"/></a>"
      ]
    },
    {
      "cell_type": "markdown",
      "source": [
        "# **Sử dụng mô hình LogisticRegression của thư viện sklearn**\n",
        "> https://scikit-learn.org/stable/modules/generated/sklearn.linear_model.LogisticRegression.html\n",
        "\n",
        "Ở mức đơn giản nhất, việc sử dụng mô hình LogisticRegression gồm các bước sau:\n",
        "- Bước 1: Khởi tạo mô hình\n",
        "- Bước 2: Huấn luyện mô hình với hàm fit()\n",
        "- Bước 3: Sử dụng mô hình để dự đoán với hàm predict() (Nội dung này sẽ học ở bài 5)\n",
        "Lưu ý: Đối với mô hình hồi quy logistic (thực chất đây là mô hình phân lớp –\n",
        "classifier/classification model) thì vector y chứa các giá trị rời rạc chứ không phải các giá trị liên\n",
        "tục $y ∈ C^m$ với $C = (c_i| ∀i = ̅1̅,k; k ∈ N)$. Do vậy, khi điều chỉnh giá trị của dữ liệu, chúng ta cần loại vector y ra – không thực hiện điều chỉnh dữ liệu (data scaling) đối với y."
      ],
      "metadata": {
        "id": "HqY621_n4FdD"
      }
    },
    {
      "cell_type": "code",
      "source": [
        "# Các thư viện\n",
        "import os\n",
        "import numpy as np\n",
        "from sklearn.preprocessing import MinMaxScaler\n",
        "from sklearn.linear_model import LogisticRegression"
      ],
      "metadata": {
        "id": "ckPVdhNT2Ewb"
      },
      "execution_count": null,
      "outputs": []
    },
    {
      "cell_type": "code",
      "source": [
        "# Kết nối với drive\n",
        "from google.colab import drive\n",
        "drive.mount('/content/drive')"
      ],
      "metadata": {
        "colab": {
          "base_uri": "https://localhost:8080/"
        },
        "id": "O0vQJFcU0fju",
        "outputId": "5710156a-1d20-4214-a310-4037b8b4bff1"
      },
      "execution_count": null,
      "outputs": [
        {
          "output_type": "stream",
          "name": "stdout",
          "text": [
            "Drive already mounted at /content/drive; to attempt to forcibly remount, call drive.mount(\"/content/drive\", force_remount=True).\n"
          ]
        }
      ]
    },
    {
      "cell_type": "code",
      "execution_count": null,
      "metadata": {
        "colab": {
          "base_uri": "https://localhost:8080/"
        },
        "id": "jeinlxF40bj4",
        "outputId": "21d0cba1-c3a5-406c-9bf3-d4516233559c"
      },
      "outputs": [
        {
          "output_type": "stream",
          "name": "stdout",
          "text": [
            "Kích thước của tập dữ liệu:  (100, 3)\n",
            "Thực hiện MinMaxScaler\n",
            "Kích thước tập X:  (100, 2)\n",
            "Kích thước vector y:  (100,)\n",
            "\n",
            "Huấn luyện mô hình LogisticRegression\n",
            "\t\tw optimal:  [[3.12281937 2.82347911]]\n"
          ]
        }
      ],
      "source": [
        "data = np.loadtxt(os.path.join(\"/content/drive/MyDrive/Classroom/Học máy 1 Phần cơ sở\",\"ex2data1.txt\"),delimiter=\",\")\n",
        "print('Kích thước của tập dữ liệu: ', data.shape)\n",
        "# Lấy ra tập dữ liệu X, y\n",
        "X, y = data[:,:-1], data[:, -1]\n",
        "print('Thực hiện MinMaxScaler')\n",
        "# Khởi tạo bộ điều chỉnh dữ liệu\n",
        "scaler = MinMaxScaler()\n",
        "# Phải thực hiện thao tác fit(data) trước khi điều chỉnh dữ liệu\n",
        "scaler.fit(X)\n",
        "# Thực hiện điều chỉnh dữ liệu trên X, không điều chỉnh với y\n",
        "X = scaler.transform(X)\n",
        "print('Kích thước tập X: ', X.shape)\n",
        "print('Kích thước vector y: ', y.shape)\n",
        "print('\\nHuấn luyện mô hình LogisticRegression')\n",
        "# Khởi tạo mô hình\n",
        "model = LogisticRegression()\n",
        "# Huấn luyện mô hình với tập dữ liệu X, y\n",
        "model.fit(X,y)\n",
        "# Bộ trọng số tối ưu:\n",
        "print('\\t\\tw optimal: ', model.coef_)"
      ]
    }
  ]
}