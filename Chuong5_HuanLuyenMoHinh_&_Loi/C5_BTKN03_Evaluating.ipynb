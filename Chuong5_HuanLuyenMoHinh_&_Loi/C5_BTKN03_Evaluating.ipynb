{
  "nbformat": 4,
  "nbformat_minor": 0,
  "metadata": {
    "colab": {
      "provenance": [],
      "collapsed_sections": [
        "Qpp-DFqXMN5E",
        "Idm4heocSxvj",
        "zHnDqPUUhzq2",
        "YHf7a4gzertz",
        "7Dqkgg4ihVZc",
        "T7eRBSd_Z1yv",
        "pkZIkCz-hXwD"
      ],
      "authorship_tag": "ABX9TyNoI4dEYidP+Hvyoj6qbIvE",
      "include_colab_link": true
    },
    "kernelspec": {
      "name": "python3",
      "display_name": "Python 3"
    },
    "language_info": {
      "name": "python"
    }
  },
  "cells": [
    {
      "cell_type": "markdown",
      "metadata": {
        "id": "view-in-github",
        "colab_type": "text"
      },
      "source": [
        "<a href=\"https://colab.research.google.com/github/hoangnuthuphuong/Machine_Learning/blob/main/Chuong5_HuanLuyenMoHinh_%26_Loi/C5_BTKN03_Evaluating.ipynb\" target=\"_parent\"><img src=\"https://colab.research.google.com/assets/colab-badge.svg\" alt=\"Open In Colab\"/></a>"
      ]
    },
    {
      "cell_type": "code",
      "source": [
        "import numpy as np"
      ],
      "metadata": {
        "id": "mi5lBM2EOLXr"
      },
      "execution_count": 5,
      "outputs": []
    },
    {
      "cell_type": "markdown",
      "source": [
        "# 1. Độ chính xác dự đoán nhãn lớp – **Accuracy score**\n",
        "Đối với bài toán phân lớp (lưu ý: mô hình hồi quy logistic thực chất là mô hình phân lớp) có đặc trưng là vector “nhãn lớp” – y\n",
        "– chứa các giá trị rời rạc ($y = [y_0; y_1; ... ; y_{m−1}]$ với $y_i ∈ {c_j|j =1̅,k̅})$. Do vậy, các phép đo hiệu năng dựa vào sai số của mô hình hồi quy không áp dụng được trong trường hợp này. Vì vậy, chúng ta có một lớp các phép đo khác chuyên dụng để đánh giá hiệu năng dự đoán của mô hình phân lớp. Trong đó, phép đo độ chính xác – Accuracy – là một trong những phép đo phổ biến nhất.\n",
        "Cho $y ∈ R^m$ và $ŷ ∈ R^m$ lần lượt là vector “nhãn lớp” thực tế và vector chứa nhãn lớp dự đoán của mô hình phân lớp h. Độ chính xác dự đoán của mô hình h được tính theo công thức sau:\n",
        "\n",
        "$$accuracy(y, ŷ) =\\frac{1}{m} ∑_{i=0}^{m-1}(y_i = ŷ_i)$$\n",
        "\n",
        "Viết lại công thức:\n",
        "$$accuracy(y, ŷ) =\\frac{1}{m} ∑(y = ŷ)$$"
      ],
      "metadata": {
        "id": "Qpp-DFqXMN5E"
      }
    },
    {
      "cell_type": "markdown",
      "source": [
        "**Lập trình Python**"
      ],
      "metadata": {
        "id": "BrkF7ARONchI"
      }
    },
    {
      "cell_type": "code",
      "execution_count": 24,
      "metadata": {
        "id": "Me-yfR-6Yt5R"
      },
      "outputs": [],
      "source": [
        "def acc_score(y, y_hat):\n",
        "  m = y.shape[0]\n",
        "  result = (1/m)*np.sum(y == y_hat)\n",
        "  return result"
      ]
    },
    {
      "cell_type": "markdown",
      "source": [
        "**Sử dụng sklearn**"
      ],
      "metadata": {
        "id": "81CfF9CDRM_w"
      }
    },
    {
      "cell_type": "code",
      "source": [
        "from sklearn.metrics import accuracy_score\n",
        "y_test = np.array([0, 1, 2, 2])\n",
        "y_hat = np.array([0, 1, 2, 2])\n",
        "\n",
        "#KẾT QUẢ\n",
        "print('\\tChỉ số Accuracy lập trình Python: ', acc_score(y_test, y_hat))\n",
        "print('\\tSử dụng sklearn, Acc: ',accuracy_score(y_test.flatten(),y_hat.flatten()))"
      ],
      "metadata": {
        "colab": {
          "base_uri": "https://localhost:8080/"
        },
        "id": "kKLwudHvNqF0",
        "outputId": "d11c31f8-9c86-40fa-ace9-c101e86801a9"
      },
      "execution_count": 26,
      "outputs": [
        {
          "output_type": "stream",
          "name": "stdout",
          "text": [
            "\tChỉ số Accuracy lập trình Python:  1.0\n",
            "\tSử dụng sklearn, Acc:  1.0\n"
          ]
        }
      ]
    },
    {
      "cell_type": "markdown",
      "source": [
        "# **Các độ đo phổ biến đánh giá hiệu năng mô hình phân lớp**\n",
        "Ngoài độ đo Accuracy, thư viện sklearn còn cung cấp nhiều độ đo khác dùng để đánh giá hiệu năng của mô hình phân lớp [link](https://scikit-learn.org/stable/modules/model_evaluation.html#classification-metrics). Hãy hoàn thành bảng sau và viết chương trình đánh giá hiệu năng mô hình hồi quy logistic bằng các thang đo mới. Hãy xây dựng bảng như\n",
        "trên, với yêu cầu:\n",
        "> Liệt kê tất cả các độ đo phổ biến của mô hình hồi quy theo [tài liệu tham khảo](https://scikit-learn.org/stable/modules/model_evaluation.html#classification-metrics);\n",
        "- Cột 1: Viết công thức Toán gốc và công thức Toán chuyển đổi theo cú pháp vector/ma trận;\n",
        "- Cột 2: Tự lập trình Python theo công thức Toán đã chuyển đổi;\n",
        "- Cột 3: Sử dụng thư viện sklearn.metrics\n",
        "\n",
        "\n",
        "Các chỉ số TP, FP, TN, FN lần lượt có ý nghĩa là :\n",
        "\n",
        "* TP (True Positive): Tổng số trường hợp dự báo khớp Positive.\n",
        "* TN (True Negative): Tổng số trường hợp dự báo khớp Negative.\n",
        "* FP (False Positive): Tổng số trường hợp dự báo các quan sát thuộc nhãn Negative thành Positive.\n",
        "* FN (False Negative): Tổng số trường hợp dự báo các quan sát thuộc nhãn Positive thành Negative."
      ],
      "metadata": {
        "id": "SnEBk3NVR1p5"
      }
    },
    {
      "cell_type": "markdown",
      "source": [---------------------------------------
        "## **Độ đo Top k accuracy**\n",
        "Số liệu này tính toán số lần nhãn chính xác nằm trong số các knhãn hàng đầu được dự đoán (xếp hạng theo điểm số dự đoán)\n",
        "\n",
        "$$top-k-accuracy(y, \\hat{f}) =\\frac{1}{m} ∑_{i=0}^{m-1}∑_{j=0}^{k}(\\hat{f}_{i,j} = y_i)$$"
      ],
      "metadata": {
        "id": "Idm4heocSxvj"
      }
    },
    {
      "cell_type": "markdown",
      "source": [
        "**Lập trình Python**"
      ],
      "metadata": {
        "id": "hrX8KLgsZCDS"
      }
    },
    {
      "cell_type": "code",
      "source": [
        "def top_k_accuracy(y_test, y_score, k):\n",
        "  sorted_index = np.argsort(y_score, axis=1)[:, ::-1]\n",
        "  top_k = sorted_index[:, :k].T\n",
        "  result = np.sum(y_test == top_k)\n",
        "  return result"
      ],
      "metadata": {
        "id": "Q8ioMY7OPIJe"
      },
      "execution_count": 39,
      "outputs": []
    },
    {
      "cell_type": "markdown",
      "source": [
        "**Sử dụng sklearn**"
      ],
      "metadata": {
        "id": "llM1VjZbZHHR"
      }
    },
    {
      "cell_type": "code",
      "source": [
        "from sklearn.metrics import top_k_accuracy_score\n",
        "y_test = np.array([0, 1, 2, 2])\n",
        "y_score = np.array([[0.5, 0.2, 0.2], \n",
        "                    [0.3, 0.4, 0.2],\n",
        "                    [0.2, 0.4, 0.3],\n",
        "                    [0.7, 0.2, 0.1]])\n",
        "\n",
        "#KẾT QUẢ\n",
        "print('\\tChỉ số top k accuracy lập trình Python: ',top_k_accuracy(y_test, y_score, 2))\n",
        "print('\\tSử dụng sklearn: ',top_k_accuracy_score(y_test, y_score, k=2, normalize=False))\n"
      ],
      "metadata": {
        "colab": {
          "base_uri": "https://localhost:8080/"
        },
        "id": "TTx9yT0yOyZl",
        "outputId": "57bf6507-c0ae-44e3-d4b8-7ed6eb03e483"
      },
      "execution_count": 47,
      "outputs": [
        {
          "output_type": "stream",
          "name": "stdout",
          "text": [
            "\tChỉ số top k accuracy lập trình Python:  3\n",
            "\tSử dụng sklearn:  3\n"
          ]
        }
      ]
    },
    {
      "cell_type": "markdown",
      "source": [
        "## **Confusion matrix**\n",
        "Tính toán ma trận nhầm lẫn để đánh giá độ chính xác của phân loại.\n"
      ],
      "metadata": {
        "id": "zHnDqPUUhzq2"
      }
    },
    {
      "cell_type": "markdown",
      "source": [
        "**Lập trình Python**"
      ],
      "metadata": {
        "id": "SeHKRbYwjczH"
      }
    },
    {
      "cell_type": "code",
      "source": [
        "def cfs_matrix(y_test, y_pred):\n",
        "  y_test = np.array(y_test)\n",
        "  y_pred = np.array(y_pred)\n",
        "  class_num = np.unique(y_test).shape[0]\n",
        "  result = np.zeros((class_num, class_num))\n",
        "  n = y_test.shape[0]\n",
        "  for i in range(n):\n",
        "    result[y_test[i], y_pred[i]] += 1\n",
        "  return result"
      ],
      "metadata": {
        "id": "idJL8R0ph4_B"
      },
      "execution_count": 3,
      "outputs": []
    },
    {
      "cell_type": "markdown",
      "source": [
        "**Sử dụng sklearn**"
      ],
      "metadata": {
        "id": "VCHvY1ENje2j"
      }
    },
    {
      "cell_type": "code",
      "source": [
        "from sklearn.metrics import confusion_matrix\n",
        "y_test = [2, 0, 2, 2, 0, 1]\n",
        "y_pred = [0, 0, 2, 2, 0, 2]\n",
        "\n",
        "#KẾT QUẢ\n",
        "print('Sử dụng sklearn:\\n',confusion_matrix(y_test, y_pred))\n",
        "print('\\nConfusion matrix - lập trình Python: \\n',cfs_matrix(y_test, y_pred))"
      ],
      "metadata": {
        "colab": {
          "base_uri": "https://localhost:8080/"
        },
        "id": "BWj9fF8bh7vX",
        "outputId": "fdc7c968-b7d1-4117-cfa9-380ca030b503"
      },
      "execution_count": 10,
      "outputs": [
        {
          "output_type": "stream",
          "name": "stdout",
          "text": [
            "Sử dụng sklearn:\n",
            " [[2 0 0]\n",
            " [0 0 1]\n",
            " [1 0 2]]\n",
            "\n",
            "Confusion matrix - lập trình Python: \n",
            " [[2. 0. 0.]\n",
            " [0. 0. 1.]\n",
            " [1. 0. 2.]]\n"
          ]
        }
      ]
    },
    {
      "cell_type": "markdown",
      "source": [
        "## **Độ đo Precision**"
      ],
      "metadata": {
        "id": "YHf7a4gzertz"
      }
    },
    {
      "cell_type": "markdown",
      "source": [
        "**Lập trình Python**"
      ],
      "metadata": {
        "id": "eN1_TEvKkKWR"
      }
    },
    {
      "cell_type": "code",
      "source": [
        "def precision_score2(y_test, y_pred, positive = None):\n",
        "  cm = confusion_matrix(y_test, y_pred)\n",
        "  if positive:\n",
        "    return cm[positive,positive]/np.sum(cm[:, positive])\n",
        "  else:\n",
        "    class_num = np.unique(y_test).shape[0]\n",
        "    result = []\n",
        "    for i in range(class_num):\n",
        "      result.append(cm[i,i]/np.sum(cm[:, i]))\n",
        "    return np.array(result)"
      ],
      "metadata": {
        "id": "sIyIcIVMhoyJ"
      },
      "execution_count": 27,
      "outputs": []
    },
    {
      "cell_type": "markdown",
      "source": [
        "**Sử dụng sklearn**"
      ],
      "metadata": {
        "id": "MCV85RDvkHcV"
      }
    },
    {
      "cell_type": "code",
      "source": [
        "from sklearn.metrics import precision_score\n",
        "y_test = [0, 0, 0, 1, 1, 1, 1, 1]\n",
        "y_pred = [0, 1, 0, 1, 0, 1, 0, 1]\n",
        "\n",
        "#KẾT QUẢ\n",
        "print(precision_score(y_test, y_pred))\n",
        "print(precision_score2(y_test, y_pred, 1))"
      ],
      "metadata": {
        "colab": {
          "base_uri": "https://localhost:8080/"
        },
        "id": "NcaAI_BMhsYA",
        "outputId": "8e84d630-65b2-4fa6-a847-a7b556db3443"
      },
      "execution_count": 31,
      "outputs": [
        {
          "output_type": "stream",
          "name": "stdout",
          "text": [
            "0.75\n",
            "0.75\n"
          ]
        }
      ]
    },
    {
      "cell_type": "markdown",
      "source": [
        "## **Độ đo Recall**\n"
      ],
      "metadata": {
        "id": "7Dqkgg4ihVZc"
      }
    },
    {
      "cell_type": "markdown",
      "source": [
        "**Lập trình Python**"
      ],
      "metadata": {
        "id": "kScez6AAwxBb"
      }
    },
    {
      "cell_type": "code",
      "source": [
        "def recall_score2(y_test, y_pred, positive=None):\n",
        "  cm = confusion_matrix(y_test, y_pred)\n",
        "  if positive:\n",
        "    return cm[positive,positive]/np.sum(cm[positive])\n",
        "  else:\n",
        "    class_num = np.unique(y_test).shape[0]\n",
        "    result = []\n",
        "    for i in range(class_num):\n",
        "      result.append(cm[i,i]/np.sum(cm[i]))\n",
        "    return np.array(result)"
      ],
      "metadata": {
        "id": "O8m41z12wpq8"
      },
      "execution_count": 29,
      "outputs": []
    },
    {
      "cell_type": "markdown",
      "source": [
        "**Sử dụng sklearn**"
      ],
      "metadata": {
        "id": "uyJDeCJywyUp"
      }
    },
    {
      "cell_type": "code",
      "source": [
        "from sklearn.metrics import recall_score\n",
        "y_test = [0, 0, 0, 1, 1, 1, 1, 1]\n",
        "y_pred = [0, 1, 0, 1, 0, 1, 0, 1]\n",
        "print(recall_score(y_test, y_pred))\n",
        "print(recall_score2(y_test, y_pred, 1))"
      ],
      "metadata": {
        "colab": {
          "base_uri": "https://localhost:8080/"
        },
        "id": "h2QJDC6gwy01",
        "outputId": "08321294-ac26-4a97-d086-f108e566af7a"
      },
      "execution_count": 35,
      "outputs": [
        {
          "output_type": "stream",
          "name": "stdout",
          "text": [
            "0.6\n",
            "0.6\n"
          ]
        }
      ]
    },
    {
      "cell_type": "markdown",
      "source": [
        "## **Độ đo balanced accuracy**\n",
        "Tính toán độ chính xác cân bằng.\n",
        "Độ chính xác cân bằng trong các vấn đề phân loại nhị phân và đa lớp để xử lý các bộ dữ liệu không cân bằng. Nó được định nghĩa là mức thu hồi trung bình thu được trên mỗi lớp.\n",
        "\n",
        "Giá trị tốt nhất là 1 và giá trị xấu nhất là 0 khi `adjusted=False.`\n",
        "\n",
        "CÔNG THỨC:\n",
        "$$balanced-accuracy(y, \\hat{y},w) = \\frac{1}{∑ \\hat{w_i}} ∑_i 1(\\hat{y_i}=y_i)\\hat{w_i}$$ \n",
        "\n",
        "với $$\\hat{w_i} = \\frac{w_i}{∑_j 1(y_j=y_i)w_j}$$\n",
        "\n",
        "\n",
        "CÔNG THỨC CHUYỂN ĐỔI:\n",
        "$$balanced-accuracy = \\frac{1}{2} (\\frac{TP}{TP + FN} + \\frac{TN}{TN+FP})$$\n",
        "\n",
        "* $\\frac{TP}{TP + FN}$: Tỉ lệ số điểm True Positive trong số những điểm thật sự là Positive\n",
        "\n",
        "\n",
        "* $\\frac{TN}{TN+FP}$: Tỉ lệ số điểm True Negative trong số những điểm thật sự là Negative\n",
        "\n",
        "Hai giá trị trên mà cao nghĩa là tỉ lệ bỏ xót các điểm đúng thấp."
      ],
      "metadata": {
        "id": "T7eRBSd_Z1yv"
      }
    },
    {
      "cell_type": "markdown",
      "source": [
        "**Lập trình Python**"
      ],
      "metadata": {
        "id": "iz5fNAkYyHML"
      }
    },
    {
      "cell_type": "code",
      "source": [
        "def true_negative_rate(y_test, y_pred, positive=None):\n",
        "  cm = confusion_matrix(y_test, y_pred)\n",
        "  sum_cross = np.sum(cm.diagonal())\n",
        "  if positive:\n",
        "    tp = cm[positive,positive]\n",
        "    tn = sum_cross - tp\n",
        "    fp = np.sum(cm[:,positive]) - tp\n",
        "    return tn/(tn+fp)\n",
        "  else:\n",
        "    class_num = np.unique(y_test).shape[0]\n",
        "    result = []\n",
        "    for i in range(class_num):\n",
        "      tp = cm[i,i]\n",
        "      tn = sum_cross - tp\n",
        "      fp = np.sum(cm[:,i]) - tp\n",
        "      result.append(tn/(tn+fp))\n",
        "    return np.array(result)"
      ],
      "metadata": {
        "id": "jAQzYGmyvjQd"
      },
      "execution_count": 39,
      "outputs": []
    },
    {
      "cell_type": "code",
      "source": [
        "def balanced_accuracy_score2(y_test, y_pred, positive=None):\n",
        "  temp1 = recall_score2(y_test, y_pred, positive)\n",
        "  temp2 = true_negative_rate(y_test, y_pred, positive)\n",
        "  return 1/2 * (temp1 + temp2)"
      ],
      "metadata": {
        "id": "BAatAR3uPuxy"
      },
      "execution_count": 42,
      "outputs": []
    },
    {
      "cell_type": "markdown",
      "source": [
        "**Sử dụng sklearn**"
      ],
      "metadata": {
        "id": "Z9RgUNNKyI_4"
      }
    },
    {
      "cell_type": "code",
      "source": [
        "from sklearn.metrics import balanced_accuracy_score\n",
        "y_test = [0, 0, 0, 1, 1, 1, 1, 1]\n",
        "y_pred = [0, 1, 0, 1, 0, 1, 0, 1]\n",
        "\n",
        "#KẾT QUẢ\n",
        "print(balanced_accuracy_score(y_test, y_pred))\n",
        "print(balanced_accuracy_score2(y_test, y_pred, 1))"
      ],
      "metadata": {
        "colab": {
          "base_uri": "https://localhost:8080/"
        },
        "id": "G56UZ8a4fJGC",
        "outputId": "ef3a9eb4-debd-4529-9f0c-d291b63bdddd"
      },
      "execution_count": 44,
      "outputs": [
        {
          "output_type": "stream",
          "name": "stdout",
          "text": [
            "0.6333333333333333\n",
            "0.6333333333333333\n"
          ]
        }
      ]
    },
    {
      "cell_type": "markdown",
      "source": [
        "## **Độ đo F1 (F-measure)**"
      ],
      "metadata": {
        "id": "pkZIkCz-hXwD"
      }
    },
    {
      "cell_type": "markdown",
      "source": [
        "**Lập trình Python**"
      ],
      "metadata": {
        "id": "wCJvJPwOyVKB"
      }
    },
    {
      "cell_type": "code",
      "source": [
        "def f1_score2(y_test, y_pred, positive=None):\n",
        "  precision = precision_score2(y_test, y_pred, positive)\n",
        "  recall = recall_score2(y_test, y_pred, positive)\n",
        "  result = 2 * (precision * recall) / (precision + recall)\n",
        "  return result"
      ],
      "metadata": {
        "id": "10oG5TS4yEde"
      },
      "execution_count": null,
      "outputs": []
    },
    {
      "cell_type": "markdown",
      "source": [
        "**Sử dụng sklearn**"
      ],
      "metadata": {
        "id": "raqSX8nZySwj"
      }
    },
    {
      "cell_type": "code",
      "source": [
        "from sklearn.metrics import f1_score\n",
        "y_test = [0, 0, 0, 1, 1, 1, 1, 1]\n",
        "y_pred = [0, 1, 0, 1, 0, 1, 0, 1]\n",
        "print(f1_score(y_test, y_pred))\n",
        "print(f1_score2(y_test, y_pred, 1))"
      ],
      "metadata": {
        "id": "NqLMYn9Kya9A"
      },
      "execution_count": null,
      "outputs": []
    },
    {
      "cell_type": "markdown",
      "source": [
        "# **xinchao**"
      ],
      "metadata": {
        "id": "HYR6hjsizBD2"
      }
    },
    {
      "cell_type": "code",
      "source": [],
      "metadata": {
        "id": "Hm9qS8BnzGOX"
      },
      "execution_count": null,
      "outputs": []
    }
  ]
}
