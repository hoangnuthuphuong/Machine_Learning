{
  "nbformat": 4,
  "nbformat_minor": 0,
  "metadata": {
    "colab": {
      "provenance": [],
      "collapsed_sections": [
        "Qpp-DFqXMN5E",
        "Idm4heocSxvj",
        "zHnDqPUUhzq2",
        "YHf7a4gzertz",
        "7Dqkgg4ihVZc",
        "T7eRBSd_Z1yv",
        "pkZIkCz-hXwD",
        "PpJxsFMPoLca",
        "X96dsMZInkQN"
      ],
      "mount_file_id": "1yvcOUGT_UhIhbm1aMC7RRw8xIGEKmfiT",
      "authorship_tag": "ABX9TyMWnKW7uU9yQpsJoQgZDKKY",
      "include_colab_link": true
    },
    "kernelspec": {
      "name": "python3",
      "display_name": "Python 3"
    },
    "language_info": {
      "name": "python"
    }
  },
  "cells": [
    {
      "cell_type": "markdown",
      "metadata": {
        "id": "view-in-github",
        "colab_type": "text"
      },
      "source": [
        "<a href=\"https://colab.research.google.com/github/hoangnuthuphuong/Machine_Learning/blob/main/Chuong5_HuanLuyenMoHinh_%26_Loi/C5_BTKN03_Evaluating.ipynb\" target=\"_parent\"><img src=\"https://colab.research.google.com/assets/colab-badge.svg\" alt=\"Open In Colab\"/></a>"
      ]
    },
    {
      "cell_type": "code",
      "source": [
        "import numpy as np"
      ],
      "metadata": {
        "id": "mi5lBM2EOLXr"
      },
      "execution_count": 2,
      "outputs": []
    },
    {
      "cell_type": "markdown",
      "source": [
        "# 1. Độ chính xác dự đoán nhãn lớp – **Accuracy score**\n",
        "Đối với bài toán phân lớp (lưu ý: mô hình hồi quy logistic thực chất là mô hình phân lớp) có đặc trưng là vector “nhãn lớp” – y\n",
        "– chứa các giá trị rời rạc ($y = [y_0; y_1; ... ; y_{m−1}]$ với $y_i ∈ {c_j|j =1̅,k̅})$. Do vậy, các phép đo hiệu năng dựa vào sai số của mô hình hồi quy không áp dụng được trong trường hợp này. Vì vậy, chúng ta có một lớp các phép đo khác chuyên dụng để đánh giá hiệu năng dự đoán của mô hình phân lớp. Trong đó, phép đo độ chính xác – Accuracy – là một trong những phép đo phổ biến nhất.\n",
        "Cho $y ∈ R^m$ và $ŷ ∈ R^m$ lần lượt là vector “nhãn lớp” thực tế và vector chứa nhãn lớp dự đoán của mô hình phân lớp h. Độ chính xác dự đoán của mô hình h được tính theo công thức sau:\n",
        "\n",
        "$$accuracy(y, ŷ) =\\frac{1}{m} ∑_{i=0}^{m-1}(y_i = ŷ_i)$$\n",
        "\n",
        "Viết lại công thức:\n",
        "$$accuracy(y, ŷ) =\\frac{1}{m} ∑(y = ŷ)$$"
      ],
      "metadata": {
        "id": "Qpp-DFqXMN5E"
      }
    },
    {
      "cell_type": "markdown",
      "source": [
        "**Lập trình Python**"
      ],
      "metadata": {
        "id": "BrkF7ARONchI"
      }
    },
    {
      "cell_type": "code",
      "execution_count": 3,
      "metadata": {
        "id": "Me-yfR-6Yt5R"
      },
      "outputs": [],
      "source": [
        "def acc_score(y, y_hat):\n",
        "  m = y.shape[0]\n",
        "  result = (1/m)*np.sum(y == y_hat)\n",
        "  return result"
      ]
    },
    {
      "cell_type": "markdown",
      "source": [
        "**Sử dụng sklearn**"
      ],
      "metadata": {
        "id": "81CfF9CDRM_w"
      }
    },
    {
      "cell_type": "code",
      "source": [
        "from sklearn.metrics import accuracy_score\n",
        "y_test = np.array([0, 1, 2, 2])\n",
        "y_hat = np.array([0, 1, 2, 2])"
      ],
      "metadata": {
        "id": "kKLwudHvNqF0"
      },
      "execution_count": 4,
      "outputs": []
    },
    {
      "cell_type": "markdown",
      "source": [
        "**Kết quả**"
      ],
      "metadata": {
        "id": "AIrHmrqCRqdK"
      }
    },
    {
      "cell_type": "code",
      "source": [
        "print('\\tChỉ số Accuracy lập trình Python: ', acc_score(y_test, y_hat))\n",
        "print('\\tSử dụng sklearn, Acc: ',accuracy_score(y_test.flatten(),y_hat.flatten()))"
      ],
      "metadata": {
        "colab": {
          "base_uri": "https://localhost:8080/"
        },
        "id": "CbwZmH7lRoD-",
        "outputId": "16ece591-1a11-4f3a-c6c5-ef88018f0094"
      },
      "execution_count": 5,
      "outputs": [
        {
          "output_type": "stream",
          "name": "stdout",
          "text": [
            "\tChỉ số Accuracy lập trình Python:  1.0\n",
            "\tSử dụng sklearn, Acc:  1.0\n"
          ]
        }
      ]
    },
    {
      "cell_type": "markdown",
      "source": [
        "---"
      ],
      "metadata": {
        "id": "B0LQFGYhQ9tp"
      }
    },
    {
      "cell_type": "markdown",
      "source": [
        "# **Các độ đo phổ biến đánh giá hiệu năng mô hình phân lớp**\n",
        "Ngoài độ đo Accuracy, thư viện sklearn còn cung cấp nhiều độ đo khác dùng để đánh giá hiệu năng của mô hình phân lớp [link](https://scikit-learn.org/stable/modules/model_evaluation.html#classification-metrics). Hãy hoàn thành bảng sau và viết chương trình đánh giá hiệu năng mô hình hồi quy logistic bằng các thang đo mới. Hãy xây dựng bảng như\n",
        "trên, với yêu cầu:\n",
        "> Liệt kê tất cả các độ đo phổ biến của mô hình hồi quy theo [tài liệu tham khảo](https://scikit-learn.org/stable/modules/model_evaluation.html#classification-metrics);\n",
        "- Cột 1: Viết công thức Toán gốc và công thức Toán chuyển đổi theo cú pháp vector/ma trận;\n",
        "- Cột 2: Tự lập trình Python theo công thức Toán đã chuyển đổi;\n",
        "- Cột 3: Sử dụng thư viện sklearn.metrics\n",
        "\n",
        "\n",
        "Các chỉ số **TP, FP, TN, FN** lần lượt có ý nghĩa là :\n",
        "\n",
        "* TP (True Positive): Tổng số trường hợp dự báo khớp Positive.\n",
        "* TN (True Negative): Tổng số trường hợp dự báo khớp Negative.\n",
        "* FP (False Positive): Tổng số trường hợp dự báo các quan sát thuộc nhãn Negative thành Positive.\n",
        "* FN (False Negative): Tổng số trường hợp dự báo các quan sát thuộc nhãn Positive thành Negative."
      ],
      "metadata": {
        "id": "SnEBk3NVR1p5"
      }
    },
    {
      "cell_type": "markdown",
      "source": [
        "## **Độ đo Top k accuracy**\n",
        "Số liệu này tính toán số lần nhãn chính xác nằm trong số các knhãn hàng đầu được dự đoán (xếp hạng theo điểm số dự đoán)\n",
        "\n",
        "**CÔNG THỨC**\n",
        "$$top-k-accuracy(y, \\hat{f}) =\\frac{1}{m} ∑_{i=0}^{m-1}∑_{j=0}^{k}(\\hat{f}_{i,j} = y_i)$$"
      ],
      "metadata": {
        "id": "Idm4heocSxvj"
      }
    },
    {
      "cell_type": "markdown",
      "source": [
        "**Lập trình Python**"
      ],
      "metadata": {
        "id": "hrX8KLgsZCDS"
      }
    },
    {
      "cell_type": "code",
      "source": [
        "def top_k_accuracy(y_test, y_score, k):\n",
        "  sorted_index = np.argsort(y_score, axis=1)[:, ::-1]\n",
        "  top_k = sorted_index[:, :k].T\n",
        "  result = np.sum(y_test == top_k)\n",
        "  return result"
      ],
      "metadata": {
        "id": "Q8ioMY7OPIJe"
      },
      "execution_count": 19,
      "outputs": []
    },
    {
      "cell_type": "markdown",
      "source": [
        "**Sử dụng sklearn**"
      ],
      "metadata": {
        "id": "llM1VjZbZHHR"
      }
    },
    {
      "cell_type": "code",
      "source": [
        "from sklearn.metrics import top_k_accuracy_score\n",
        "y_test = np.array([0, 1, 2, 2])\n",
        "y_score = np.array([[0.5, 0.2, 0.2], \n",
        "                    [0.3, 0.4, 0.2],\n",
        "                    [0.2, 0.4, 0.3],\n",
        "                    [0.7, 0.2, 0.1]])"
      ],
      "metadata": {
        "id": "TTx9yT0yOyZl"
      },
      "execution_count": 20,
      "outputs": []
    },
    {
      "cell_type": "markdown",
      "source": [
        "**Kết quả**"
      ],
      "metadata": {
        "id": "29PNQS_fSFSH"
      }
    },
    {
      "cell_type": "code",
      "source": [
        "print('Chỉ số top k accuracy lập trình Python: ',top_k_accuracy(y_test, y_score, 2))\n",
        "print('\\nSử dụng sklearn: ',top_k_accuracy_score(y_test, y_score, k=2, normalize=False))"
      ],
      "metadata": {
        "colab": {
          "base_uri": "https://localhost:8080/"
        },
        "id": "0WdLDjmMSH-W",
        "outputId": "40f4af87-b97f-4a49-8bd5-809b0644fc41"
      },
      "execution_count": 22,
      "outputs": [
        {
          "output_type": "stream",
          "name": "stdout",
          "text": [
            "Chỉ số top k accuracy lập trình Python:  3\n",
            "\n",
            "Sử dụng sklearn:  3\n"
          ]
        }
      ]
    },
    {
      "cell_type": "markdown",
      "source": [
        "---"
      ],
      "metadata": {
        "id": "WYU_1fTsRERu"
      }
    },
    {
      "cell_type": "markdown",
      "source": [
        "## **Confusion matrix**\n",
        "Tính toán ma trận nhầm lẫn để đánh giá độ chính xác của phân loại.\n"
      ],
      "metadata": {
        "id": "zHnDqPUUhzq2"
      }
    },
    {
      "cell_type": "markdown",
      "source": [
        "**Lập trình Python**"
      ],
      "metadata": {
        "id": "SeHKRbYwjczH"
      }
    },
    {
      "cell_type": "code",
      "source": [
        "def cfs_matrix(y_test, y_pred):\n",
        "  y_test = np.array(y_test)\n",
        "  y_pred = np.array(y_pred)\n",
        "  class_num = np.unique(y_test).shape[0]\n",
        "  result = np.zeros((class_num, class_num))\n",
        "  n = y_test.shape[0]\n",
        "  for i in range(n):\n",
        "    result[y_test[i], y_pred[i]] += 1\n",
        "  return result"
      ],
      "metadata": {
        "id": "idJL8R0ph4_B"
      },
      "execution_count": 11,
      "outputs": []
    },
    {
      "cell_type": "markdown",
      "source": [
        "**Sử dụng sklearn**"
      ],
      "metadata": {
        "id": "VCHvY1ENje2j"
      }
    },
    {
      "cell_type": "code",
      "source": [
        "from sklearn.metrics import confusion_matrix\n",
        "y_test = [2, 0, 2, 2, 0, 1]\n",
        "y_pred = [0, 0, 2, 2, 0, 2]"
      ],
      "metadata": {
        "id": "BWj9fF8bh7vX"
      },
      "execution_count": 10,
      "outputs": []
    },
    {
      "cell_type": "markdown",
      "source": [
        "**Kết quả**"
      ],
      "metadata": {
        "id": "j39MQkcuSPMP"
      }
    },
    {
      "cell_type": "code",
      "source": [
        "print('Sử dụng sklearn:\\n',confusion_matrix(y_test, y_pred))\n",
        "print('\\nConfusion matrix - lập trình Python: \\n',cfs_matrix(y_test, y_pred))"
      ],
      "metadata": {
        "colab": {
          "base_uri": "https://localhost:8080/"
        },
        "id": "3-CYOachSTOz",
        "outputId": "0e8f50a4-2214-4485-adc2-074bf1a39d87"
      },
      "execution_count": 12,
      "outputs": [
        {
          "output_type": "stream",
          "name": "stdout",
          "text": [
            "Sử dụng sklearn:\n",
            " [[2 0 0]\n",
            " [0 0 1]\n",
            " [1 0 2]]\n",
            "\n",
            "Confusion matrix - lập trình Python: \n",
            " [[2. 0. 0.]\n",
            " [0. 0. 1.]\n",
            " [1. 0. 2.]]\n"
          ]
        }
      ]
    },
    {
      "cell_type": "markdown",
      "source": [
        "---"
      ],
      "metadata": {
        "id": "6T9PTEaQRGow"
      }
    },
    {
      "cell_type": "markdown",
      "source": [
        "## **Độ đo Precision**\n",
        "Để tính độ chính xác. Độ chính xác là tỷ lệ trong đó là số lượng dương tính thật và số lượng dương tính giả. Độ chính xác là khả năng của bộ phân loại không dán nhãn là dương tính cho một mẫu âm tính.\n",
        "\n",
        "Giá trị tốt nhất là 1 và giá trị xấu nhất là 0.\n",
        "\n",
        "**CÔNG THỨC:**\n",
        "$$Precision=\\frac{TP}{TP + FP}$$"
      ],
      "metadata": {
        "id": "YHf7a4gzertz"
      }
    },
    {
      "cell_type": "markdown",
      "source": [
        "**Lập trình Python**"
      ],
      "metadata": {
        "id": "eN1_TEvKkKWR"
      }
    },
    {
      "cell_type": "code",
      "source": [
        "def precision_sc(y_test, y_pred, positive = None):\n",
        "  cfs = confusion_matrix(y_test, y_pred)\n",
        "  if positive:\n",
        "    return cfs[positive,positive]/np.sum(cfs[:, positive])\n",
        "  else:\n",
        "    class_num = np.unique(y_test).shape[0]\n",
        "    result = []\n",
        "    for i in range(class_num):\n",
        "      result.append(cfs[i,i]/np.sum(cfs[:, i]))\n",
        "    return np.array(result)"
      ],
      "metadata": {
        "id": "sIyIcIVMhoyJ"
      },
      "execution_count": 26,
      "outputs": []
    },
    {
      "cell_type": "markdown",
      "source": [
        "**Sử dụng sklearn**"
      ],
      "metadata": {
        "id": "MCV85RDvkHcV"
      }
    },
    {
      "cell_type": "code",
      "source": [
        "from sklearn.metrics import precision_score\n",
        "y_test = [0, 0, 0, 1, 1, 1, 1, 1]\n",
        "y_pred = [0, 1, 0, 1, 0, 1, 0, 1]"
      ],
      "metadata": {
        "id": "NcaAI_BMhsYA"
      },
      "execution_count": 29,
      "outputs": []
    },
    {
      "cell_type": "markdown",
      "source": [
        "**Kết quả**"
      ],
      "metadata": {
        "id": "lFZNeSQrSm3f"
      }
    },
    {
      "cell_type": "code",
      "source": [
        "print('Sử dụng sklearn:\\n',precision_score(y_test, y_pred))\n",
        "print('\\nPrecision_score - lập trình Python: \\n',precision_sc(y_test, y_pred, 1))"
      ],
      "metadata": {
        "colab": {
          "base_uri": "https://localhost:8080/"
        },
        "id": "eDHjHysSSpnN",
        "outputId": "0e6e3308-5707-4e73-d57f-812b09100cd9"
      },
      "execution_count": 31,
      "outputs": [
        {
          "output_type": "stream",
          "name": "stdout",
          "text": [
            "Sử dụng sklearn:\n",
            " 0.75\n",
            "\n",
            "Precision_score - lập trình Python: \n",
            " 0.75\n"
          ]
        }
      ]
    },
    {
      "cell_type": "markdown",
      "source": [
        "---"
      ],
      "metadata": {
        "id": "m7JmBaluRJbH"
      }
    },
    {
      "cell_type": "markdown",
      "source": [
        "## **Độ đo Recall**\n",
        "Dùng để tính toán thu hồi. Recall cao đồng nghĩa với tỉ lệ bỏ sót các điểm (TP +FN) là thấp.\n",
        "\n",
        "**CÔNG THỨC**\n",
        "$$Recall=\\frac{TP}{TP+FN}$$\n"
      ],
      "metadata": {
        "id": "7Dqkgg4ihVZc"
      }
    },
    {
      "cell_type": "markdown",
      "source": [
        "**Lập trình Python**"
      ],
      "metadata": {
        "id": "kScez6AAwxBb"
      }
    },
    {
      "cell_type": "code",
      "source": [
        "def recall_sc(y_test, y_pred, positive=None):\n",
        "  cfs = confusion_matrix(y_test, y_pred)\n",
        "  if positive:\n",
        "    return cfs[positive,positive]/np.sum(cfs[positive])\n",
        "  else:\n",
        "    class_num = np.unique(y_test).shape[0]\n",
        "    result = []\n",
        "    for i in range(class_num):\n",
        "      result.append(cfs[i,i]/np.sum(cfs[i]))\n",
        "    return np.array(result)"
      ],
      "metadata": {
        "id": "O8m41z12wpq8"
      },
      "execution_count": 32,
      "outputs": []
    },
    {
      "cell_type": "markdown",
      "source": [
        "**Sử dụng sklearn**"
      ],
      "metadata": {
        "id": "uyJDeCJywyUp"
      }
    },
    {
      "cell_type": "code",
      "source": [
        "from sklearn.metrics import recall_score\n",
        "y_test = [0, 0, 0, 1, 1, 1, 1, 1]\n",
        "y_pred = [0, 1, 0, 1, 0, 1, 0, 1]"
      ],
      "metadata": {
        "id": "h2QJDC6gwy01"
      },
      "execution_count": 33,
      "outputs": []
    },
    {
      "cell_type": "markdown",
      "source": [
        "**KẾT QUẢ**"
      ],
      "metadata": {
        "id": "KmZq5h3sYjd8"
      }
    },
    {
      "cell_type": "code",
      "source": [
        "print('Sử dụng sklearn:\\n',recall_score(y_test, y_pred))\n",
        "print('\\nRecall score - lập trình Python: \\n',recall_sc(y_test, y_pred, 1))"
      ],
      "metadata": {
        "colab": {
          "base_uri": "https://localhost:8080/"
        },
        "id": "LMiIqOWSYlc9",
        "outputId": "c9ff4774-94c7-4de5-d9e5-ad016ba2fcf5"
      },
      "execution_count": 34,
      "outputs": [
        {
          "output_type": "stream",
          "name": "stdout",
          "text": [
            "Sử dụng sklearn:\n",
            " 0.6\n",
            "\n",
            "Recall score - lập trình Python: \n",
            " 0.6\n"
          ]
        }
      ]
    },
    {
      "cell_type": "markdown",
      "source": [
        "---"
      ],
      "metadata": {
        "id": "rDZFevSRRL5L"
      }
    },
    {
      "cell_type": "markdown",
      "source": [
        "## **Độ đo balanced accuracy**\n",
        "Tính toán độ chính xác cân bằng.\n",
        "Độ chính xác cân bằng trong các vấn đề phân loại nhị phân và đa lớp để xử lý các bộ dữ liệu không cân bằng. Nó được định nghĩa là mức thu hồi trung bình thu được trên mỗi lớp.\n",
        "\n",
        "Giá trị tốt nhất là 1 và giá trị xấu nhất là 0 khi `adjusted=False.`\n",
        "\n",
        "CÔNG THỨC:\n",
        "$$balanced-accuracy(y, \\hat{y},w) = \\frac{1}{∑ \\hat{w_i}} ∑_i 1(\\hat{y_i}=y_i)\\hat{w_i}$$ \n",
        "\n",
        "với $$\\hat{w_i} = \\frac{w_i}{∑_j 1(y_j=y_i)w_j}$$\n",
        "\n",
        "\n",
        "CÔNG THỨC CHUYỂN ĐỔI:\n",
        "$$balanced-accuracy = \\frac{1}{2} (\\frac{TP}{TP + FN} + \\frac{TN}{TN+FP})$$\n",
        "\n",
        "* $\\frac{TP}{TP + FN}$: Tỉ lệ số điểm True Positive trong số những điểm thật sự là Positive\n",
        "\n",
        "\n",
        "* $\\frac{TN}{TN+FP}$: Tỉ lệ số điểm True Negative trong số những điểm thật sự là Negative\n",
        "\n",
        "Hai giá trị trên mà cao nghĩa là tỉ lệ bỏ xót các điểm đúng thấp."
      ],
      "metadata": {
        "id": "T7eRBSd_Z1yv"
      }
    },
    {
      "cell_type": "markdown",
      "source": [
        "**Lập trình Python**"
      ],
      "metadata": {
        "id": "iz5fNAkYyHML"
      }
    },
    {
      "cell_type": "code",
      "source": [
        "def true_negative_rate(y_test, y_pred, positive=None):\n",
        "  cfs = confusion_matrix(y_test, y_pred)\n",
        "  sum_cross = np.sum(cfs.diagonal())\n",
        "  if positive:\n",
        "    tp = cfs[positive,positive]\n",
        "    tn = sum_cross - tp\n",
        "    fp = np.sum(cfs[:,positive]) - tp\n",
        "    return tn/(tn+fp)\n",
        "  else:\n",
        "    class_num = np.unique(y_test).shape[0]\n",
        "    result = []\n",
        "    for i in range(class_num):\n",
        "      tp = cfs[i,i]\n",
        "      tn = sum_cross - tp\n",
        "      fp = np.sum(cfs[:,i]) - tp\n",
        "      result.append(tn/(tn+fp))\n",
        "    return np.array(result)"
      ],
      "metadata": {
        "id": "jAQzYGmyvjQd"
      },
      "execution_count": 40,
      "outputs": []
    },
    {
      "cell_type": "code",
      "source": [
        "def balanced_accuracy_sc(y_test, y_pred, positive=None):\n",
        "  temp1 = recall_sc(y_test, y_pred, positive)\n",
        "  temp2 = true_negative_rate(y_test, y_pred, positive)\n",
        "  return 1/2 * (temp1 + temp2)"
      ],
      "metadata": {
        "id": "BAatAR3uPuxy"
      },
      "execution_count": 41,
      "outputs": []
    },
    {
      "cell_type": "markdown",
      "source": [
        "**Sử dụng sklearn**"
      ],
      "metadata": {
        "id": "Z9RgUNNKyI_4"
      }
    },
    {
      "cell_type": "code",
      "source": [
        "from sklearn.metrics import balanced_accuracy_score\n",
        "y_test = [0, 0, 0, 1, 1, 1, 1, 1]\n",
        "y_pred = [0, 1, 0, 1, 0, 1, 0, 1]"
      ],
      "metadata": {
        "id": "G56UZ8a4fJGC"
      },
      "execution_count": 42,
      "outputs": []
    },
    {
      "cell_type": "markdown",
      "source": [
        "**KẾT QUẢ**"
      ],
      "metadata": {
        "id": "nxVn0jlRZX0G"
      }
    },
    {
      "cell_type": "code",
      "source": [
        "print('Sử dụng sklearn:\\n',balanced_accuracy_score(y_test, y_pred))\n",
        "print('\\nBalanced accuracy score - lập trình Python: \\n',balanced_accuracy_sc(y_test, y_pred, 1))"
      ],
      "metadata": {
        "colab": {
          "base_uri": "https://localhost:8080/"
        },
        "id": "yuvfTtN5ZZ_A",
        "outputId": "7a9f9548-bc25-4617-b6aa-a4bd7a026490"
      },
      "execution_count": 105,
      "outputs": [
        {
          "output_type": "stream",
          "name": "stdout",
          "text": [
            "Sử dụng sklearn:\n",
            " 0.6333333333333333\n",
            "\n",
            "Balanced accuracy score - lập trình Python: \n",
            " 0.6333333333333333\n"
          ]
        }
      ]
    },
    {
      "cell_type": "markdown",
      "source": [
        "---"
      ],
      "metadata": {
        "id": "T69PyqamROK3"
      }
    },
    {
      "cell_type": "markdown",
      "source": [
        "## **Độ đo F1 (F-measure)**\n",
        "Tính điểm F1, còn được gọi là điểm F cân bằng hoặc thước đo F.\n",
        "\n",
        "Điểm F1 có thể được hiểu là trung bình điều hòa của độ chính xác và khả năng thu hồi, trong đó điểm F1 đạt giá trị tốt nhất là 1 và điểm kém nhất là 0. Mức độ đóng góp tương đối của độ chính xác và khả năng thu hồi vào điểm F1 là như nhau. **Công thức tính**:\n",
        "\n",
        "$$F1={2}\\times{\\frac{{Precision}\\times{Recall}}{Precision+Recall}}$$"
      ],
      "metadata": {
        "id": "pkZIkCz-hXwD"
      }
    },
    {
      "cell_type": "markdown",
      "source": [
        "**Lập trình Python**"
      ],
      "metadata": {
        "id": "wCJvJPwOyVKB"
      }
    },
    {
      "cell_type": "code",
      "source": [
        "def f1_sc(y_test, y_pred, positive=None):\n",
        "  precision = precision_score(y_test, y_pred)\n",
        "  recall = recall_score(y_test, y_pred)\n",
        "  result = 2 * (precision * recall) / (precision + recall)\n",
        "  return result"
      ],
      "metadata": {
        "id": "10oG5TS4yEde"
      },
      "execution_count": 147,
      "outputs": []
    },
    {
      "cell_type": "markdown",
      "source": [
        "**Sử dụng sklearn**"
      ],
      "metadata": {
        "id": "raqSX8nZySwj"
      }
    },
    {
      "cell_type": "code",
      "source": [
        "from sklearn.metrics import f1_score\n",
        "y_test = [0, 0, 0, 1, 1, 1, 1, 1]\n",
        "y_pred = [0, 1, 0, 1, 0, 1, 0, 1]\n"
      ],
      "metadata": {
        "id": "NqLMYn9Kya9A"
      },
      "execution_count": 148,
      "outputs": []
    },
    {
      "cell_type": "markdown",
      "source": [
        "**KẾT QUẢ**"
      ],
      "metadata": {
        "id": "C1oSP6cJZypX"
      }
    },
    {
      "cell_type": "code",
      "source": [
        "print('Sử dụng sklearn:\\n',f1_score(y_test, y_pred))\n",
        "print('\\nF-measure - lập trình Python: \\n',f1_sc(y_test, y_pred,1))"
      ],
      "metadata": {
        "colab": {
          "base_uri": "https://localhost:8080/"
        },
        "id": "p2VXZ6yqc2hm",
        "outputId": "4004e90a-873d-4b99-80a7-90533814cda9"
      },
      "execution_count": 149,
      "outputs": [
        {
          "output_type": "stream",
          "name": "stdout",
          "text": [
            "Sử dụng sklearn:\n",
            " 0.6666666666666665\n",
            "\n",
            "F-measure - lập trình Python: \n",
            " 0.6666666666666665\n"
          ]
        }
      ]
    },
    {
      "cell_type": "markdown",
      "source": [
        "---"
      ],
      "metadata": {
        "id": "85mhDBUGfko7"
      }
    },
    {
      "cell_type": "markdown",
      "source": [
        "## **Viết chương trình đánh giá hiệu năng phân lớp của mô hình hồi quy logistic bằng các chỉ số khác ngoài Accuracy.**"
      ],
      "metadata": {
        "id": "HYR6hjsizBD2"
      }
    },
    {
      "cell_type": "code",
      "source": [
        "import numpy as np\n",
        "import os\n",
        "from sklearn.model_selection import train_test_split\n",
        "from sklearn.metrics import accuracy_score\n",
        "from sklearn.preprocessing import MinMaxScaler, StandardScaler"
      ],
      "metadata": {
        "id": "QdnY3dN4h9vn"
      },
      "execution_count": null,
      "outputs": []
    },
    {
      "cell_type": "code",
      "source": [
        "def readData(filePath: str, filename: str):\n",
        "    data = np.loadtxt(os.path.join(filePath, filename), delimiter = ',')\n",
        "    X = data[:,:-1]\n",
        "    y = data[:, -1]\n",
        "    m = X.shape[0]\n",
        "    n = X.shape[1]\n",
        "    X = np.reshape(X, (m,n))\n",
        "    y = np.reshape(y, (m,1))\n",
        "    #Them cot x0 = 1 vao X\n",
        "    x0 = np.ones((m,1))\n",
        "    X = np.column_stack([x0, X])\n",
        "    return X, y"
      ],
      "metadata": {
        "id": "vCaMdlz-h_zj"
      },
      "execution_count": null,
      "outputs": []
    },
    {
      "cell_type": "code",
      "source": [
        "def featureVectorScaling(data):\n",
        "    avg = np.mean(data)\n",
        "    sln = data.max()\n",
        "    snn = data.min()\n",
        "    data_scl = (data - avg)/(sln - snn)\n",
        "    print(data_scl[1])\n",
        "    return data_scl"
      ],
      "metadata": {
        "id": "V8zQAdBOiDPk"
      },
      "execution_count": null,
      "outputs": []
    },
    {
      "cell_type": "code",
      "source": [
        "def normalizeData(X):\n",
        "    X_scl = X[:, 0]\n",
        "    for i in range(1, X.shape[1]):\n",
        "        scl = featureVectorScaling(X[:, i])\n",
        "        X_scl = np.column_stack([X_scl, scl])\n",
        "    return X_scl"
      ],
      "metadata": {
        "id": "7pKZJQ75iE_N"
      },
      "execution_count": null,
      "outputs": []
    },
    {
      "cell_type": "code",
      "source": [
        "def sigmoid(X, w):\n",
        "    result = 1/(1 + np.exp(-np.dot(X, w)))\n",
        "    return result"
      ],
      "metadata": {
        "id": "BvNhJEjeiJP6"
      },
      "execution_count": null,
      "outputs": []
    },
    {
      "cell_type": "markdown",
      "source": [
        "Hàm mất mát"
      ],
      "metadata": {
        "id": "fNnlTIPpiusd"
      }
    },
    {
      "cell_type": "code",
      "source": [
        "def loss(X, y, w):\n",
        "    m = y.shape[0]\n",
        "    result = (-1/m)*np.sum(np.dot(y.T, np.log(sigmoid(X, w))) + np.dot((1 - y).T, np.log(1 - sigmoid(X, w))))\n",
        "    return result"
      ],
      "metadata": {
        "id": "DyQi0jOXiLM1"
      },
      "execution_count": null,
      "outputs": []
    },
    {
      "cell_type": "markdown",
      "source": [
        "Hàm Gradient"
      ],
      "metadata": {
        "id": "RiSAdKqMizCW"
      }
    },
    {
      "cell_type": "code",
      "source": [
        "def gradient(X, y, w):\n",
        "    m = X.shape[0]\n",
        "    result = (1/m)*np.dot(X.T, sigmoid(X, w) - y)\n",
        "    return result"
      ],
      "metadata": {
        "id": "Gmx6aEARiNJu"
      },
      "execution_count": null,
      "outputs": []
    },
    {
      "cell_type": "code",
      "source": [
        "def gradientDescent(X, y, w, alpha, n_iters):\n",
        "    w_optimal = w.copy()\n",
        "    J_history = []\n",
        "    for i in range(n_iters):\n",
        "        w_optimal = w_optimal - alpha*gradient(X, y, w_optimal)\n",
        "        J_history.append(loss(X, y, w_optimal))\n",
        "    return w_optimal, J_history"
      ],
      "metadata": {
        "id": "UZo41tx2iO--"
      },
      "execution_count": null,
      "outputs": []
    },
    {
      "cell_type": "markdown",
      "source": [
        "### **Hàm các độ đo đánh giá hiệu năng mô hình phân lớp**"
      ],
      "metadata": {
        "id": "PpJxsFMPoLca"
      }
    },
    {
      "cell_type": "markdown",
      "source": [
        "Hàm Predict"
      ],
      "metadata": {
        "id": "Fl-2MYzUik0k"
      }
    },
    {
      "cell_type": "code",
      "source": [
        "# Hàm dự đoán nếu y_pred >=0.5 làm tròn thành 1, ngược lại là 0\n",
        "def predict(y_pred):\n",
        "    return np.rint(y_pred)"
      ],
      "metadata": {
        "id": "MsRfTiw2iSCe"
      },
      "execution_count": null,
      "outputs": []
    },
    {
      "cell_type": "markdown",
      "source": [
        "Hàm tính Accuracy Score"
      ],
      "metadata": {
        "id": "LNVXIhOLic84"
      }
    },
    {
      "cell_type": "code",
      "source": [
        "def acc_score(y, y_hat):\n",
        "    m = y.shape[0]\n",
        "    result = (1/m)*np.sum(y == y_hat)\n",
        "    return  result"
      ],
      "metadata": {
        "id": "bffRx7qHiYKq"
      },
      "execution_count": null,
      "outputs": []
    },
    {
      "cell_type": "markdown",
      "source": [
        "Hàm Balanced accuracy\n"
      ],
      "metadata": {
        "id": "urCv49QCjGwN"
      }
    },
    {
      "cell_type": "code",
      "source": [
        "def true_negative_rate(y_test, y_pred, positive=None):\n",
        "  cfs = confusion_matrix(y_test, y_pred)\n",
        "  sum_cross = np.sum(cfs.diagonal())\n",
        "  if positive:\n",
        "    tp = cfs[positive,positive]\n",
        "    tn = sum_cross - tp\n",
        "    fp = np.sum(cfs[:,positive]) - tp\n",
        "    return tn/(tn+fp)\n",
        "  else:\n",
        "    class_num = np.unique(y_test).shape[0]\n",
        "    result = []\n",
        "    for i in range(class_num):\n",
        "      tp = cfs[i,i]\n",
        "      tn = sum_cross - tp\n",
        "      fp = np.sum(cfs[:,i]) - tp\n",
        "      result.append(tn/(tn+fp))\n",
        "    return np.array(result)\n",
        "\n",
        "def balanced_accuracy_sc(y_test, y_pred, positive=None):\n",
        "  temp1 = recall_sc(y_test, y_pred, positive)\n",
        "  temp2 = true_negative_rate(y_test, y_pred, positive)\n",
        "  return 1/2 * (temp1 + temp2)"
      ],
      "metadata": {
        "id": "fxLZjC_vjTrf"
      },
      "execution_count": 111,
      "outputs": []
    },
    {
      "cell_type": "markdown",
      "source": [
        "Hàm Top k accuracy"
      ],
      "metadata": {
        "id": "ieMdSPtvl_V5"
      }
    },
    {
      "cell_type": "code",
      "source": [
        "def top_k_accuracy(y_test, y_pred, k):\n",
        "  sorted_index = np.argsort(y_pred, axis=1)[:, ::-1]\n",
        "  top_k = sorted_index[:, :k].T\n",
        "  result = np.sum(y_test == top_k)\n",
        "  return result"
      ],
      "metadata": {
        "id": "us0FCl1GmG62"
      },
      "execution_count": 137,
      "outputs": []
    },
    {
      "cell_type": "markdown",
      "source": [
        "Hàm Recall\n"
      ],
      "metadata": {
        "id": "fmQBcKaLm8P_"
      }
    },
    {
      "cell_type": "code",
      "source": [
        "def recall_sc(y_test, y_pred, positive=None):\n",
        "  cfs = confusion_matrix(y_test, y_pred)\n",
        "  if positive:\n",
        "    return cfs[positive,positive]/np.sum(cfs[positive])\n",
        "  else:\n",
        "    class_num = np.unique(y_test).shape[0]\n",
        "    result = []\n",
        "    for i in range(class_num):\n",
        "      result.append(cfs[i,i]/np.sum(cfs[i]))\n",
        "    return np.array(result)"
      ],
      "metadata": {
        "id": "xZKbXGeHm-nW"
      },
      "execution_count": 143,
      "outputs": []
    },
    {
      "cell_type": "markdown",
      "source": [
        "Hàm F measure"
      ],
      "metadata": {
        "id": "bgd5kn0mngIH"
      }
    },
    {
      "cell_type": "code",
      "source": [
        "def f1_sc(y_test, y_pred, positive=None):\n",
        "  precision = precision_score(y_test, y_pred)\n",
        "  recall = recall_score(y_test, y_pred)\n",
        "  result = 2 * (precision * recall) / (precision + recall)\n",
        "  return result"
      ],
      "metadata": {
        "id": "lwwfoUdGnimH"
      },
      "execution_count": 150,
      "outputs": []
    },
    {
      "cell_type": "markdown",
      "source": [
        "### **Hàm main**"
      ],
      "metadata": {
        "id": "X96dsMZInkQN"
      }
    },
    {
      "cell_type": "code",
      "source": [
        "def main():\n",
        "    X, y = readData('/content/drive/MyDrive/Classroom/Học máy 1 Phần cơ sở', 'ex2data1.txt')\n",
        "    X = normalizeData(X)\n",
        "    n = X.shape[1]\n",
        "    w = np.zeros((n, 1))\n",
        "    alpha = 0.01\n",
        "    n_iters = 2000\n",
        "    #Chia train - test\n",
        "    X_train, X_test, y_train, y_test = train_test_split(X, y,\n",
        "                                                        test_size=0.30,\n",
        "                                                        random_state=15)\n",
        "    w_opt, J_hist = gradientDescent(X_train, y_train, w, alpha, n_iters)\n",
        "    print(\"\\n KẾT QUẢ HUẤN LUYỆN MÔ HÌNH \")\n",
        "    print('\\n\\tTrọng số tối ưu là:\\n', w_opt)\n",
        "    print('\\tGiá trị Loss tối ưu là:\\n', J_hist[-1])\n",
        "    print('\\n\\n KẾT QUẢ CỦA MÔ HÌNH ĐÁNH GIÁ HIỆU NĂNG PHÂN LỚP:')\n",
        "    y_pred = predict(sigmoid(X_test, w_opt))\n",
        "    print('\\n\\tMột số kết quả dự đoán:\\n', y_pred[:5,:])\n",
        "    print('\\tChỉ số Accuracy: ', acc_score(y_test, y_pred))\n",
        "    print('\\tSử dụng sklearn, Acc: ', accuracy_score(y_test.flatten(), y_pred.flatten()))\n",
        "    print('\\tChỉ số Balanced Accuracy: ', balanced_accuracy_sc(y_test, y_pred))\n",
        "    print('\\tChỉ số Top k Accuracy: ',top_k_accuracy(y_test, y_pred,1))\n",
        "    print('\\tChỉ số Recall: ',recall_sc(y_test, y_pred,1))\n",
        "    print('\\tChỉ số F1',f1_sc(y_test, y_pred))\n",
        "\n",
        "if __name__ == \"__main__\":\n",
        "    main()"
      ],
      "metadata": {
        "colab": {
          "base_uri": "https://localhost:8080/"
        },
        "id": "Pci4Jxfgi4X4",
        "outputId": "547eb969-6005-4dbf-e883-5b513d750254"
      },
      "execution_count": 154,
      "outputs": [
        {
          "output_type": "stream",
          "name": "stdout",
          "text": [
            "-0.5067801656080071\n",
            "-0.3270580397857178\n",
            "\n",
            " KẾT QUẢ HUẤN LUYỆN MÔ HÌNH \n",
            "\n",
            "\tTrọng số tối ưu là:\n",
            " [[0.32456757]\n",
            " [1.22630673]\n",
            " [1.26036079]]\n",
            "\tGiá trị Loss tối ưu là:\n",
            " 0.526112202365058\n",
            "\n",
            "\n",
            " KẾT QUẢ CỦA MÔ HÌNH ĐÁNH GIÁ HIỆU NĂNG PHÂN LỚP:\n",
            "\n",
            "\tMột số kết quả dự đoán:\n",
            " [[1.]\n",
            " [1.]\n",
            " [1.]\n",
            " [1.]\n",
            " [1.]]\n",
            "\tChỉ số Accuracy:  0.8666666666666667\n",
            "\tSử dụng sklearn, Acc:  0.8666666666666667\n",
            "\tChỉ số Balanced Accuracy:  [0.8 0.8]\n",
            "\tChỉ số Top k Accuracy:  300\n",
            "\tChỉ số Recall:  1.0\n",
            "\tChỉ số F1 0.9090909090909091\n"
          ]
        }
      ]
    }
  ]
}