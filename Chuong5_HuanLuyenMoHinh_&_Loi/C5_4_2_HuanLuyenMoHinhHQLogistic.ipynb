{
  "nbformat": 4,
  "nbformat_minor": 0,
  "metadata": {
    "colab": {
      "provenance": [],
      "collapsed_sections": [
        "FFxZ46GEGRF3",
        "u3JYB6HYGZWm",
        "EiOOU8zKG3FY",
        "5GqOhBJ2HDnR",
        "oD1qYeFvHfL6",
        "uQDCCjm_Hql2"
      ],
      "mount_file_id": "1o3npe0ryd6zun5_5Jjkd6Cw4qwUzhgp4",
      "authorship_tag": "ABX9TyMHmvbNyAR529/Cb4K2KZuJ",
      "include_colab_link": true
    },
    "kernelspec": {
      "name": "python3",
      "display_name": "Python 3"
    },
    "language_info": {
      "name": "python"
    }
  },
  "cells": [
    {
      "cell_type": "markdown",
      "metadata": {
        "id": "view-in-github",
        "colab_type": "text"
      },
      "source": [
        "<a href=\"https://colab.research.google.com/github/hoangnuthuphuong/Machine_Learning/blob/main/Chuong5_HuanLuyenMoHinh_%26_Loi/C5_4_2_HuanLuyenMoHinhHQLogistic.ipynb\" target=\"_parent\"><img src=\"https://colab.research.google.com/assets/colab-badge.svg\" alt=\"Open In Colab\"/></a>"
      ]
    },
    {
      "cell_type": "markdown",
      "source": [
        "# **Bài 1**\n",
        "Thư viện [scikit-learn](https://scikit-learn.org/stable/) của Python là thư viện chuyên dụng dành cho Học máy (Machine learning). Trong bài tập này, bạn học cách sử dụng hàm **train_test_split** để thực hiện chia tập dữ liệu ban đầu thành các tập dữ liệu huấn luyện.\n",
        "Cho tập dữ liệu ban đầu $D = ((X, y)| X ∈ R^{m×n}, y ∈ R^m )$\n",
        "Hãy chia D thành tập dữ liệu huấn luyện (training test) và tập dữ liệu kiểm thử (test set) theo tỉ lệ lần lượt là 70% và 30%.\n",
        "$$D_{train} = [(X_{train}, y_{train})| X_{train} ∈ R^{m×n}, y_{train} ∈ R^m]$$\n",
        "$$D_{test} = [(X_{test}, y_{test})| X_{test} ∈ R^{m×n}, y_{test} ∈ R^m]$$\n",
        "Hãy sử dụng các tập dữ liệu:\n",
        "- ex1data1.txt và ex1data2.txt\n",
        "\n",
        "Tham khảo cú pháp hàm **train_test_split** tại đây: [link](https://scikit-learn.org/stable/modules/generated/sklearn.model_selection.train_test_split.html)"
      ],
      "metadata": {
        "id": "FFxZ46GEGRF3"
      }
    },
    {
      "cell_type": "code",
      "source": [
        "import numpy as np\n",
        "import os"
      ],
      "metadata": {
        "id": "rznSlPdi6No9"
      },
      "execution_count": 1,
      "outputs": []
    },
    {
      "cell_type": "code",
      "execution_count": 33,
      "metadata": {
        "colab": {
          "base_uri": "https://localhost:8080/"
        },
        "id": "VNQa3FPbtlud",
        "outputId": "f5aa7169-67b9-49f1-cd65-07ec159a7c0c"
      },
      "outputs": [
        {
          "output_type": "stream",
          "name": "stdout",
          "text": [
            "Size of training set\n",
            "X train: (70, 2)\n",
            "y train (70,)\n",
            "\n",
            "Size of test set\n",
            "X test: (30, 2)\n",
            "y test: (30,)\n"
          ]
        }
      ],
      "source": [
        "def readData(folder, filename, delimiter= \",\"):\n",
        "    data = np.loadtxt(os.path.join(folder, filename), delimiter=delimiter)\n",
        "    X = data[:, :-1]\n",
        "    y = data[:, -1]\n",
        "    return X, y\n",
        "\n",
        "def split_train_test(X, y, test_size, random_state = None):\n",
        "    from sklearn.model_selection import train_test_split\n",
        "    X_train, X_test, y_train, y_test = train_test_split(X, y, test_size=test_size, random_state = random_state)\n",
        "    return X_train, X_test, y_train, y_test\n",
        "\n",
        "def print_train_test(X_train, X_test, y_train, y_test):\n",
        "    print(\"Size of training set\\nX train:\",X_train.shape)\n",
        "    print(\"y train\", y_train.shape)\n",
        "    print(\"\\nSize of test set\\nX test:\",X_test.shape)\n",
        "    print(\"y test:\" ,y_test.shape)\n",
        "\n",
        "def main():\n",
        "    X, y = readData(\"/content/drive/MyDrive/Classroom/Học máy 1 Phần cơ sở\",\"ex2data1.txt\")\n",
        "    X_train, X_test, y_train, y_test =  split_train_test(X, y, test_size = 0.3, random_state=4)\n",
        "    print_train_test(X_train, X_test, y_train, y_test)\n",
        "\n",
        "if __name__ == \"__main__\":\n",
        "    main()"
      ]
    },
    {
      "cell_type": "code",
      "execution_count": null,
      "metadata": {
        "id": "KTa62WBHF9kN"
      },
      "outputs": [],
      "source": []
    },
    {
      "cell_type": "markdown",
      "source": [
        "# **Bài 2**\n",
        "Sử dụng phương pháp chia train-test ở bài 1 để thực hiện huấn\n",
        "luyện và kiểm thử mô hình Hồi quy Logistic mà bạn đã lập trình\n",
        "ở Bài học trước.\n",
        "Lưu ý:\n",
        "- Sử dụng tập dữ liệu ex2data1.txt và ex2data2.txt;\n",
        "- Cần thêm vector cột có giá trị 1 vào tập X_train và X_test;\n",
        "- Cần chuyển y_train và y_test thành vector cột dạng ma trận $R^{m×1}$\n",
        "cho phù hợp với mô tả toán học của bài học trước;\n",
        "- Thực hiện chuẩn hóa dữ liệu với $X_{train}$ và $X_{test}$;\n",
        "- Đánh giá hiệu năng của mô hình hồi quy tuyến tính bằng các chỉ số:\n",
        "$$accuracy(y, \\hat{y}) = \\frac{1}{m}∑(y = \\hat{y})$$"
      ],
      "metadata": {
        "id": "u3JYB6HYGZWm"
      }
    },
    {
      "cell_type": "code",
      "source": [
        "import os\n",
        "import numpy as np\n",
        "from sklearn.model_selection import train_test_split\n",
        "from sklearn.metrics import accuracy_score"
      ],
      "metadata": {
        "id": "nJk0xb-hJ-O3"
      },
      "execution_count": 18,
      "outputs": []
    },
    {
      "cell_type": "code",
      "source": [
        "def readData(folder , filename):\n",
        "    data = np.loadtxt(os.path.join(folder, filename), delimiter = ',')\n",
        "    X = data[:, :-1]\n",
        "    y = data[:, -1].reshape(-1, 1)\n",
        "    one = np.ones((X.shape[0], 1))\n",
        "    X = np.concatenate((one, X), axis = 1)\n",
        "    return X, y"
      ],
      "metadata": {
        "id": "5m1ShgXpKAo4"
      },
      "execution_count": 19,
      "outputs": []
    },
    {
      "cell_type": "code",
      "source": [
        "def normScaling(X):\n",
        "  for col in range(1, X.shape[1]):\n",
        "    temp = X[:, col]\n",
        "    X[:, col] = (temp - np.min(temp)) / (np.max(temp) - np.min(temp))"
      ],
      "metadata": {
        "id": "0l7IY2B4KBwC"
      },
      "execution_count": 20,
      "outputs": []
    },
    {
      "cell_type": "code",
      "source": [
        "def standardScaling(X):\n",
        "  for col in range(1, X.shape[1]):\n",
        "    temp = X[:, col]\n",
        "    X[:, col] = (temp - np.mean(temp)) / (np.std(temp))"
      ],
      "metadata": {
        "id": "dDJ3MVeoKC7v"
      },
      "execution_count": 21,
      "outputs": []
    },
    {
      "cell_type": "code",
      "source": [
        "def predict(X, w):\n",
        "    h_w = 1 / (1 + np.exp(- np.dot(X, w)))\n",
        "    return (h_w >= 0.5).astype('int32')"
      ],
      "metadata": {
        "id": "b5-Yj23YKED4"
      },
      "execution_count": 22,
      "outputs": []
    },
    {
      "cell_type": "code",
      "source": [
        "def costFunction(X, y ,w):\n",
        "    m = X.shape[0]\n",
        "    h_w = 1 / (1 + np.exp(- np.dot(X, w)))\n",
        "    J_w = (-1/m) * (np.dot(y.T, np.log(h_w)) + np.dot((1-y).T, np.log(1-h_w)))\n",
        "    return J_w[0, 0]"
      ],
      "metadata": {
        "id": "0LoEkS7tKIrn"
      },
      "execution_count": 23,
      "outputs": []
    },
    {
      "cell_type": "code",
      "source": [
        "def gradient(X, y, w):\n",
        "    m = X.shape[0]\n",
        "    h_w = 1 / (1 + np.exp(- np.dot(X, w)))\n",
        "    return (1/m) * np.dot(X.T, h_w - y)"
      ],
      "metadata": {
        "id": "-QByYhx3KJwP"
      },
      "execution_count": 24,
      "outputs": []
    },
    {
      "cell_type": "code",
      "source": [
        "def gradientDescent(X, y, w_init, alpha, n = 1500):\n",
        "    w_old = w_init.reshape(-1, 1)\n",
        "    cost_values = []\n",
        "    for i in range(n):\n",
        "        w_new = w_old - alpha * gradient(X, y, w_old)\n",
        "        cost_values.append(costFunction(X, y, w_new))\n",
        "        w_old = w_new\n",
        "    return w_new, cost_values"
      ],
      "metadata": {
        "id": "O0OHGmHVKK0Q"
      },
      "execution_count": 25,
      "outputs": []
    },
    {
      "cell_type": "code",
      "source": [
        "def main():\n",
        "    # Đọc dữ liệu\n",
        "    X, y = readData(\"/content/drive/MyDrive/Classroom/Học máy 1 Phần cơ sở\",\"ex2data1.txt\")\n",
        "\n",
        "    # Chia tập dữ liệu thành training set và test set\n",
        "    X_train, X_test, y_train, y_test = train_test_split(X, y, test_size=0.3,\n",
        "                                                        random_state = 5)\n",
        "    \n",
        "    # Chuẩn hóa dữ liệu\n",
        "    standardScaling(X_train)\n",
        "    standardScaling(X_test)\n",
        "\n",
        "    # Huấn luyện mô hình bằng gradient descent\n",
        "    w_init = np.zeros((X_train.shape[1], 1))\n",
        "    w_opt, loss = gradientDescent(X=X_train,y=y_train, \n",
        "                                           w_init=w_init, alpha=0.01, n=1500)\n",
        "    # Dự đoán\n",
        "    y_pred = predict(X_test, w_opt)\n",
        "    \n",
        "    # Đánh giá hiệu năng của mô hình\n",
        "    print(\"ĐÁNH GIÁ HIỆU NĂNG MÔ HÌNH\\n\")\n",
        "    print(\"\\tAccuracy: \", accuracy_score(y_test, y_pred))\n",
        "\n",
        "if __name__ == \"__main__\":\n",
        "    main()"
      ],
      "metadata": {
        "colab": {
          "base_uri": "https://localhost:8080/"
        },
        "id": "wqtnqVdmG2w5",
        "outputId": "5d070356-1b72-48c3-8a46-f2d3f2a36eeb"
      },
      "execution_count": 29,
      "outputs": [
        {
          "output_type": "stream",
          "name": "stdout",
          "text": [
            "ĐÁNH GIÁ HIỆU NĂNG MÔ HÌNH\n",
            "\n",
            "\tAccuracy:  0.9333333333333333\n"
          ]
        }
      ]
    },
    {
      "cell_type": "code",
      "source": [],
      "metadata": {
        "id": "CM9OC7uLL7Fr"
      },
      "execution_count": null,
      "outputs": []
    },
    {
      "cell_type": "markdown",
      "source": [
        "# **Bài 3**\n",
        "Giải lại bài 2 với yêu cầu sau:\n",
        "- Thay thuật toán tối ưu Gradient Descent bằng 2 – 3 thuật toán tối ưu khác;\n",
        "- So sánh hiệu năng của mô hình **hồi quy Logistic** được huấn luyện bởi các thuật toán tối ưu khác nhau này."
      ],
      "metadata": {
        "id": "EiOOU8zKG3FY"
      }
    },
    {
      "cell_type": "code",
      "source": [
        "import os\n",
        "import numpy as np\n",
        "from scipy import optimize\n",
        "from sklearn.model_selection import train_test_split\n",
        "from sklearn.metrics import accuracy_score"
      ],
      "metadata": {
        "id": "TEVJtoo6LHXE"
      },
      "execution_count": 34,
      "outputs": []
    },
    {
      "cell_type": "code",
      "source": [
        "def readData(folder , filename):\n",
        "    data = np.loadtxt(os.path.join(folder, filename), delimiter = ',')\n",
        "    X = data[:, :-1]\n",
        "    y = data[:, -1]\n",
        "    one = np.ones((X.shape[0], 1))\n",
        "    X = np.concatenate((one, X), axis = 1)\n",
        "    return X, y"
      ],
      "metadata": {
        "id": "PPgooEWMLIvZ"
      },
      "execution_count": 35,
      "outputs": []
    },
    {
      "cell_type": "code",
      "source": [
        "def normScaling(X, y):\n",
        "    for col in range(1, X.shape[1]):\n",
        "        temp = X[:, col]\n",
        "        X[:, col] = (temp - np.min(temp)) / (np.max(temp) - np.min(temp))\n",
        "    return X,y"
      ],
      "metadata": {
        "id": "fHWh_9qtLJta"
      },
      "execution_count": 36,
      "outputs": []
    },
    {
      "cell_type": "code",
      "source": [
        "def standardScaling(X, y):\n",
        "    for col in range(1, X.shape[1]):\n",
        "        temp = X[:, col]\n",
        "        X[:, col] = (temp - np.mean(temp)) / (np.std(temp))\n",
        "    return X,y"
      ],
      "metadata": {
        "id": "lzMjVTEPLKsO"
      },
      "execution_count": 37,
      "outputs": []
    },
    {
      "cell_type": "code",
      "source": [
        "def predict(X, w):\n",
        "    h_w = 1 / (1 + np.exp(- np.dot(X, w)))\n",
        "    return (h_w >= 0.5).astype('int32')"
      ],
      "metadata": {
        "id": "_6qTTOaJLL17"
      },
      "execution_count": 38,
      "outputs": []
    },
    {
      "cell_type": "code",
      "source": [
        "def costFunction(w, X, y):\n",
        "    m = X.shape[0]\n",
        "    h_w = 1 / (1 + np.exp(- np.dot(X, w)))\n",
        "    J_w = (-1/m) * (np.dot(y, np.log(h_w)) + np.dot((1-y), np.log(1-h_w)))\n",
        "    return J_w"
      ],
      "metadata": {
        "id": "krp6iVI1LM3a"
      },
      "execution_count": 39,
      "outputs": []
    },
    {
      "cell_type": "code",
      "source": [
        "def logisticRegression(X, y, w_init, method, iterations):\n",
        "    result = optimize.minimize(fun=costFunction, x0=w_init, args=(X,y),\n",
        "                               method= method,\n",
        "                               options={\"maxiter\":iterations})\n",
        "    return result.x, result.fun"
      ],
      "metadata": {
        "id": "7NOLqPjeLOnM"
      },
      "execution_count": 40,
      "outputs": []
    },
    {
      "cell_type": "code",
      "source": [
        "def sosanh(X_train, y_train, X_test, y_test, algorithms):\n",
        "    w_init = np.zeros((X_train.shape[1], 1))\n",
        "    result = {}\n",
        "    for algorithm in algorithms:\n",
        "        w, loss = logisticRegression(X_train, y_train, w_init, method = algorithm, iterations=1500)\n",
        "        y_pred = predict(X_test, w)\n",
        "        result[algorithm] = accuracy_score(y_pred, y_test)\n",
        "    return result"
      ],
      "metadata": {
        "id": "TIjhCCXOLP0l"
      },
      "execution_count": 41,
      "outputs": []
    },
    {
      "cell_type": "code",
      "source": [
        "def main():\n",
        "    # Đọc dữ liệu\n",
        "    X, y = readData(\"/content/drive/MyDrive/Classroom/Học máy 1 Phần cơ sở\",\"ex2data1.txt\")\n",
        "\n",
        "    # Tách dữ liệu thành training set và test set\n",
        "    X_train, X_test, y_train, y_test = train_test_split(X, y, test_size=0.3,\n",
        "                                                        random_state = 5)\n",
        "\n",
        "    # Chuẩn hóa dữ liệu\n",
        "    X_train, y_train = standardScaling(X_train, y_train)\n",
        "    X_test, y_test = standardScaling(X_test, y_test)\n",
        "\n",
        "    # Huấn luyện mô hình và so sánh mô hình\n",
        "    '''Các thuật toán tối ưu:\n",
        "    TNC, BFGS, L-BFGS-B, Nelder-Mead, Powell, CG, Newton-CG, COBYLA, SLSQP, ...'''\n",
        "    print(sosanh(X_train, y_train, X_test, y_test, ['TNC']))\n",
        "    print(sosanh(X_train, y_train, X_test, y_test, ['BFGS']))\n",
        "    print(sosanh(X_train, y_train, X_test, y_test, ['L-BFGS-B']))\n",
        "    print(sosanh(X_train, y_train, X_test, y_test, ['Nelder-Mead']))\n",
        "    print(sosanh(X_train, y_train, X_test, y_test, ['Powell']))\n",
        "    print(sosanh(X_train, y_train, X_test, y_test, ['CG']))\n",
        "    print(sosanh(X_train, y_train, X_test, y_test, ['COBYLA']))\n",
        "    print(sosanh(X_train, y_train, X_test, y_test, ['SLSQP']))\n",
        "\n",
        "if __name__ == \"__main__\":\n",
        "    main()"
      ],
      "metadata": {
        "colab": {
          "base_uri": "https://localhost:8080/"
        },
        "id": "9rLPcGOaHBWd",
        "outputId": "a28a97ab-085f-4582-8af8-2a91ae0d4bd3"
      },
      "execution_count": 45,
      "outputs": [
        {
          "output_type": "stream",
          "name": "stdout",
          "text": [
            "{'TNC': 0.9333333333333333}\n",
            "{'BFGS': 0.9333333333333333}\n",
            "{'L-BFGS-B': 0.9333333333333333}\n",
            "{'Nelder-Mead': 0.9333333333333333}\n",
            "{'Powell': 0.9333333333333333}\n",
            "{'CG': 0.9333333333333333}\n",
            "{'COBYLA': 0.9333333333333333}\n",
            "{'SLSQP': 0.9333333333333333}\n"
          ]
        }
      ]
    },
    {
      "cell_type": "code",
      "source": [],
      "metadata": {
        "id": "FHqfwx6sL6W8"
      },
      "execution_count": null,
      "outputs": []
    },
    {
      "cell_type": "markdown",
      "source": [
        "# **Bài 4**\n",
        "Thư viện **scikit-learn** cung cấp mô hình [LogisticRegression](https://scikit-learn.org/stable/modules/generated/sklearn.linear_model.LogisticRegression.html) để phục vụ xây dựng các mô hình hồi quy logistic. Hãy sử dụng mô hình **LogisticRegression** để giải bài tập 2.\n",
        "Lưu ý:\n",
        "- Xét trường hợp có thêm vector cột giá trị 1 vào X\n",
        "- Xét trường hợp không thêm vector cột giá trị 1 vào X\n",
        "- Đánh giá hiệu năng của mô hình bằng ***Accuracy***"
      ],
      "metadata": {
        "id": "5GqOhBJ2HDnR"
      }
    },
    {
      "cell_type": "code",
      "source": [
        "import os\n",
        "import numpy as np\n",
        "from sklearn.model_selection import train_test_split\n",
        "from sklearn.metrics import accuracy_score\n",
        "from sklearn.linear_model import LogisticRegression"
      ],
      "metadata": {
        "id": "CayDxdOTMBzi"
      },
      "execution_count": 48,
      "outputs": []
    },
    {
      "cell_type": "code",
      "source": [
        "def readData(folder , filename):\n",
        "    data = np.loadtxt(os.path.join(folder, filename), delimiter = ',')\n",
        "    X = data[:, :-1]\n",
        "    y = data[:, -1]\n",
        "    one = np.ones((X.shape[0], 1))\n",
        "    X = np.concatenate((one, X), axis = 1)\n",
        "    return X, y"
      ],
      "metadata": {
        "id": "Hn0jCLB5MDAA"
      },
      "execution_count": 54,
      "outputs": []
    },
    {
      "cell_type": "code",
      "source": [
        "def normScaling(X):\n",
        "  for col in range(1, X.shape[1]):\n",
        "    temp = X[:, col]\n",
        "    X[:, col] = (temp - np.min(temp)) / (np.max(temp) - np.min(temp))"
      ],
      "metadata": {
        "id": "A-Pha5bEMEC_"
      },
      "execution_count": 50,
      "outputs": []
    },
    {
      "cell_type": "code",
      "source": [
        "def standardScaling(X):\n",
        "  for col in range(1, X.shape[1]):\n",
        "    temp = X[:, col]\n",
        "    X[:, col] = (temp - np.mean(temp)) / (np.std(temp))"
      ],
      "metadata": {
        "id": "RcSOyj8oMFLl"
      },
      "execution_count": 51,
      "outputs": []
    },
    {
      "cell_type": "code",
      "source": [
        "def main():\n",
        "\n",
        "    # Đọc dữ liệu\n",
        "    X, y = readData(\"/content/drive/MyDrive/Classroom/Học máy 1 Phần cơ sở\",\"ex2data1.txt\")\n",
        "\n",
        "    # Chia tập dữ liệu thành training set và test set\n",
        "    X_train, X_test, y_train, y_test = train_test_split(X, y, test_size=0.3,\n",
        "                                                        random_state = 5)\n",
        "\n",
        "    # Chuẩn hóa dữ liệu\n",
        "    standardScaling(X_train)\n",
        "    standardScaling(X_test)\n",
        "\n",
        "    # Huấn luyện mô hình bằng gradient descent\n",
        "    classifier = LogisticRegression()\n",
        "    classifier.fit(X_train, y_train)\n",
        "    # Dự đoán\n",
        "    y_pred = classifier.predict(X_test)\n",
        "\n",
        "    # Đánh giá hiệu năng của mô hình\n",
        "    print(\"ĐÁNH GIÁ HIỆU NĂNG MÔ HÌNH\\n\")\n",
        "    print(\"\\tAccuracy: \",accuracy_score(y_test, y_pred))\n",
        "\n",
        "if __name__ == \"__main__\":\n",
        "    main()"
      ],
      "metadata": {
        "colab": {
          "base_uri": "https://localhost:8080/"
        },
        "id": "Ik2Y4WajHexR",
        "outputId": "45b8fa04-e4ee-4c9d-c105-062630bcabd4"
      },
      "execution_count": 55,
      "outputs": [
        {
          "output_type": "stream",
          "name": "stdout",
          "text": [
            "ĐÁNH GIÁ HIỆU NĂNG MÔ HÌNH\n",
            "\n",
            "\tAccuracy:  0.9333333333333333\n"
          ]
        }
      ]
    },
    {
      "cell_type": "code",
      "source": [],
      "metadata": {
        "id": "d-L7uVYUMAPl"
      },
      "execution_count": null,
      "outputs": []
    },
    {
      "cell_type": "markdown",
      "source": [
        "# **Bài 5**\n",
        "Thư viện **scikit-learn** cung cấp rất nhiều phương thức [tiền xử lý dữ liệu (preprocessing data)](https://scikit-learn.org/stable/modules/preprocessing.html), hãy giải lại bài 4 với yêu cầu bổ sung là:\n",
        "- Thực hiện chuẩn hóa dữ liệu bằng [StandardScaler](https://scikit-learn.org/stable/modules/generated/sklearn.preprocessing.StandardScaler.html#sklearn.preprocessing.StandardScaler);\n",
        "- Thực hiện chuẩn hóa dữ liệu bằng [MinMaxScaler](https://scikit-learn.org/stable/modules/generated/sklearn.preprocessing.MinMaxScaler.html)."
      ],
      "metadata": {
        "id": "oD1qYeFvHfL6"
      }
    },
    {
      "cell_type": "code",
      "source": [
        "import os\n",
        "import numpy as np\n",
        "from sklearn.model_selection import train_test_split\n",
        "from sklearn.metrics import accuracy_score\n",
        "from sklearn.linear_model import LogisticRegression\n",
        "from sklearn.preprocessing import StandardScaler, MinMaxScaler"
      ],
      "metadata": {
        "id": "5_PK_u0kQLL4"
      },
      "execution_count": null,
      "outputs": []
    },
    {
      "cell_type": "code",
      "source": [
        "def readData(folder , filename):\n",
        "    data = np.loadtxt(os.path.join(folder, filename), delimiter = ',')\n",
        "    X = data[:, :-1]\n",
        "    y = data[:, -1]\n",
        "    return X, y"
      ],
      "metadata": {
        "id": "sLr-uEzpQMgz"
      },
      "execution_count": null,
      "outputs": []
    },
    {
      "cell_type": "code",
      "source": [
        "def featureScaling(X_train, X_test, y_train, y_test):\n",
        "    sc_X = StandardScaler()\n",
        "    X_train = sc_X.fit_transform(X_train)\n",
        "    X_test = sc_X.transform(X_test)\n",
        "    return X_train, X_test, y_train, y_test"
      ],
      "metadata": {
        "id": "maguRH6qOOR7"
      },
      "execution_count": 86,
      "outputs": []
    },
    {
      "cell_type": "code",
      "source": [
        "def main():\n",
        "\n",
        "    # Đọc dữ liệu\n",
        "    X, y = readData(\"/content/drive/MyDrive/Classroom/Học máy 1 Phần cơ sở\",\"ex2data1.txt\")\n",
        "\n",
        "    # Chia tập dữ liệu thành training set và test set\n",
        "    X_train, X_test, y_train, y_test = train_test_split(X, y, test_size=0.3,\n",
        "                                                        random_state = 5)\n",
        "\n",
        "    # Chuẩn hóa dữ liệu\n",
        "    X_train, X_test, y_train, y_test = featureScaling(X_train, X_test, y_train, y_test)\n",
        "\n",
        "    # Huấn luyện mô hình\n",
        "    classifier = LogisticRegression()\n",
        "    classifier.fit(X_train, y_train)\n",
        "    \n",
        "    # Dự đoán\n",
        "    y_pred = classifier.predict(X_test)\n",
        "\n",
        "    # Đánh giá hiệu năng của mô hình\n",
        "    print(\"ĐÁNH GIÁ HIỆU NĂNG MÔ HÌNH\\n\")\n",
        "    print(\"\\tAccuracy: \",accuracy_score(y_test, y_pred))\n",
        "\n",
        "if __name__ == \"__main__\":\n",
        "    main()"
      ],
      "metadata": {
        "colab": {
          "base_uri": "https://localhost:8080/"
        },
        "id": "4IJWq1dWNjHm",
        "outputId": "728b09b4-51d8-4474-a318-454d10d9eb6a"
      },
      "execution_count": 88,
      "outputs": [
        {
          "output_type": "stream",
          "name": "stdout",
          "text": [
            "ĐÁNH GIÁ HIỆU NĂNG MÔ HÌNH\n",
            "\n",
            "\tAccuracy:  0.9333333333333333\n"
          ]
        }
      ]
    },
    {
      "cell_type": "markdown",
      "source": [
        "# **Bài 6**\n",
        "Thư viện scikit-learn cung cấp cách thức thực hiện [cross-validation](https://scikit-learn.org/stable/modules/cross_validation.html). Hãy giải lại bài tập 5 với yêu cầu bổ sung là thực hiện 10-fold cross-validation cho quá trình huấn luyện mô hình.\n",
        "Gợi ý:\n",
        "- Sử dụng StandardScaler/MinMaxScaler và mô hình LinearRegression;\n",
        "- Tạo [10-fold cross validation](https://scikit-learn.org/stable/modules/generated/sklearn.model_selection.KFold.html);\n",
        "- Thực hiện huấn luyện mô hình với [cross_validate](https://scikit-learn.org/stable/modules/generated/sklearn.model_selection.cross_validate.html);\n",
        "- Hoặc thực hiện huấn luyenj mô hình với [cross_val_score](https://scikit-learn.org/stable/modules/generated/sklearn.model_selection.cross_val_score.html);\n",
        "- Sử dụng [cross_val_predict](https://scikit-learn.org/stable/modules/generated/sklearn.model_selection.cross_val_predict.html#sklearn.model_selection.cross_val_predict) để dự đoán."
      ],
      "metadata": {
        "id": "uQDCCjm_Hql2"
      }
    },
    {
      "cell_type": "code",
      "source": [
        "import os\n",
        "import numpy as np\n",
        "from sklearn.preprocessing import StandardScaler\n",
        "from sklearn.model_selection import train_test_split, KFold, cross_val_predict\n",
        "from sklearn.metrics import accuracy_score\n",
        "from sklearn.linear_model import LogisticRegression\n",
        "from sklearn import linear_model"
      ],
      "metadata": {
        "id": "sQrJLIp7Qvkv"
      },
      "execution_count": 97,
      "outputs": []
    },
    {
      "cell_type": "code",
      "source": [
        "def readData(folder , filename):\n",
        "    data = np.loadtxt(os.path.join(folder, filename), delimiter = ',')\n",
        "    X = data[:, :-1]\n",
        "    y = data[:, -1]\n",
        "    return X, y"
      ],
      "metadata": {
        "id": "vnnq6xY6Qw06"
      },
      "execution_count": 90,
      "outputs": []
    },
    {
      "cell_type": "code",
      "source": [
        "def featureScalingSplit(X, y):\n",
        "    X_train, X_test, y_train, y_test = train_test_split(X, y, test_size=0.3, random_state=15)\n",
        "    sc_X = StandardScaler()\n",
        "    X_train = sc_X.fit_transform(X_train)\n",
        "    X_test = sc_X.transform(X_test)\n",
        "    return X_train, X_test, y_train, y_test"
      ],
      "metadata": {
        "id": "n3sgQrF-QyHL"
      },
      "execution_count": 91,
      "outputs": []
    },
    {
      "cell_type": "code",
      "source": [
        "def kFoldCrossValiation(X_train, y_train):\n",
        "    kf = KFold(n_splits=10)\n",
        "    step = 0\n",
        "    valitdate_models = {}\n",
        "    for train2_index, val_index in kf.split(X = X_train,y = y_train):\n",
        "        step = step + 1\n",
        "        classifier = LogisticRegression()\n",
        "        X_train2, X_val = X_train[train2_index], X_train[val_index]\n",
        "        y_train2, y_val = y_train[train2_index], y_train[val_index]\n",
        "        classifier.fit(X_train2, y_train2)\n",
        "        y_pred = classifier.predict(X_val)\n",
        "        valitdate_models[accuracy_score(y_val, y_pred)] =  classifier\n",
        "    max_accuracy = max(list(valitdate_models.keys()))\n",
        "    return valitdate_models[max_accuracy]"
      ],
      "metadata": {
        "id": "7XkT6MdgQzWP"
      },
      "execution_count": 92,
      "outputs": []
    },
    {
      "cell_type": "code",
      "source": [
        "def validateTestSet(X_test, y_test, classifier):\n",
        "    print(\"\\nĐánh giá hiệu năng mô hình trên tập dữ liệu test:\")\n",
        "    y_pred = classifier.predict(X_test)\n",
        "    print(\"\\tAccuracy: \", accuracy_score(y_test, y_pred))\n",
        "    return accuracy_score(y_test, y_pred)"
      ],
      "metadata": {
        "id": "cqq1GSk0Q04W"
      },
      "execution_count": 99,
      "outputs": []
    },
    {
      "cell_type": "code",
      "source": [
        "def main():\n",
        "    # Đọc dữ liệu\n",
        "    X, y = readData(\"/content/drive/MyDrive/Classroom/Học máy 1 Phần cơ sở\",\"ex2data1.txt\")\n",
        "\n",
        "    # Chuẩn hóa dữ liệu\n",
        "    X_train, X_test, y_train, y_test = featureScalingSplit(X, y)\n",
        "\n",
        "    # Dự đoán bằng cross_val_predict\n",
        "    lasso = linear_model.Lasso()\n",
        "    y_pred = cross_val_predict(lasso, X, y, cv=3)\n",
        "    print(\"y predict:\\n\",y_pred) \n",
        "    \n",
        "    # Huấn luyện mô hình bằng k-Fold Cross Valiation\n",
        "    classifier = kFoldCrossValiation(X_train, y_train)\n",
        "\n",
        "    # Đánh giá hiệu năng\n",
        "    validateTestSet(X_test, y_test, classifier)\n",
        "    \n",
        "if __name__ == \"__main__\":\n",
        "    main()"
      ],
      "metadata": {
        "colab": {
          "base_uri": "https://localhost:8080/"
        },
        "id": "zgkiCTYzQ2uH",
        "outputId": "27dd4a03-ceb3-436d-d121-684df4b915d3"
      },
      "execution_count": 100,
      "outputs": [
        {
          "output_type": "stream",
          "name": "stdout",
          "text": [
            "y predict:\n",
            " [ 0.3416013  -0.06917999  0.30275196  0.73941074  0.85369697  0.241114\n",
            "  0.85768087  0.50292753  0.94468779  0.58568502  0.66902666  0.33546736\n",
            "  0.90546071  0.97079845  0.38053261  0.69425935  0.49538968  0.41813546\n",
            "  0.93631081  0.53741773  0.3708595   0.88304767  0.22916652 -0.01813075\n",
            "  0.77336768  0.59325874  0.54758935  0.6416448   0.38125848  0.25555563\n",
            "  0.61234422  0.73931688  0.39801659  0.46339809  0.46146346  0.3945393\n",
            "  0.70298666  0.80177799  0.47480312  0.44692487  0.72505158  0.30575566\n",
            "  0.92932078  0.53833597  0.2895612   0.46693274  0.81444878  1.19342091\n",
            "  0.95485655  1.15438155  0.88186574  0.92643797  0.64851308  0.28779454\n",
            "  0.3257164   0.42839608  0.99662239  0.65411863  0.77877131  0.84928887\n",
            "  0.96440002  0.14881348  0.26855987  0.12594545  0.45308002  0.38921229\n",
            "  0.75224268  0.16974459  1.04603932  0.51286024 -0.14934358  0.6667575\n",
            "  0.98385923  0.5626135   0.57150257  1.09157877  0.55487202  0.45659869\n",
            "  0.22004636  0.51942023  0.91395809  0.72472915  0.58336177  0.3666081\n",
            "  1.03428375  0.81187435  0.37622796  0.96158811  1.07435571  0.31394528\n",
            "  1.06700185  1.13317025  0.07450384  0.88566739  0.65290925  0.6000337\n",
            "  0.471261    1.0443354   0.40137747  0.94199397]\n",
            "\n",
            "Đánh giá hiệu năng mô hình trên tập dữ liệu test:\n",
            "\tAccuracy:  0.9\n"
          ]
        }
      ]
    },
    {
      "cell_type": "code",
      "source": [],
      "metadata": {
        "id": "_X3luwxTRHb_"
      },
      "execution_count": 94,
      "outputs": []
    }
  ]
}