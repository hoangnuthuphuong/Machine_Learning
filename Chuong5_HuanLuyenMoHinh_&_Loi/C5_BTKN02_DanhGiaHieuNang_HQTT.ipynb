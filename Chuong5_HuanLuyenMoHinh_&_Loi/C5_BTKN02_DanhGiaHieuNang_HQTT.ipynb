{
  "nbformat": 4,
  "nbformat_minor": 0,
  "metadata": {
    "colab": {
      "provenance": [],
      "collapsed_sections": [
        "7vOIYZnnhCnX",
        "bjeWK6REldCd",
        "Ysx0ul17m2SV",
        "BBpgQzdbnR9s",
        "Kj06hCHNnh1k",
        "LXlncU5SnyT8",
        "oNditiBbn5z0",
        "3AQAcVmXoFpc",
        "hhRo2-HEoZ00",
        "-H3ZjsFpOgcM"
      ],
      "mount_file_id": "1dJibqchmVtXVZ6KqF9qoR51Hn_MWdcj3",
      "authorship_tag": "ABX9TyNa/RqnblwlNTNIzLQrlT5d",
      "include_colab_link": true
    },
    "kernelspec": {
      "name": "python3",
      "display_name": "Python 3"
    },
    "language_info": {
      "name": "python"
    }
  },
  "cells": [
    {
      "cell_type": "markdown",
      "metadata": {
        "id": "view-in-github",
        "colab_type": "text"
      },
      "source": [
        "<a href=\"https://colab.research.google.com/github/hoangnuthuphuong/Machine_Learning/blob/main/Chuong5_HuanLuyenMoHinh_%26_Loi/C5_BTKN02_DanhGiaHieuNang_HQTT.ipynb\" target=\"_parent\"><img src=\"https://colab.research.google.com/assets/colab-badge.svg\" alt=\"Open In Colab\"/></a>"
      ]
    },
    {
      "cell_type": "code",
      "source": [
        "import numpy as np"
      ],
      "metadata": {
        "id": "Ry3PG3OjjE8u"
      },
      "execution_count": 4,
      "outputs": []
    },
    {
      "cell_type": "markdown",
      "source": [
        "$\\hat{y_i}$ là giá trị dự đoán của mẫu thứ $i$;\n",
        "\n",
        "$y_i$ là giá trị thực tương ứng\n"
      ],
      "metadata": {
        "id": "UKOLVKoHyiiw"
      }
    },
    {
      "cell_type": "markdown",
      "source": [
        "##**1. Giá trị trung bình tổng bình phương sai số (Mean Squared Error – $MSE$)**\n",
        "\n",
        "Cho $y ∈ R^m$ và $ŷ ∈ R^m$ lần lượt là vector “nhãn lớp” thực tế và vector chứa giá trị dự đoán của mô hình $h_w(X)$ với $w ∈ R^n$ và $X∈R^{m×n}$. Để đo độ khác biệt giữa giá trị thực tế $(y)$ và giá trị dự đoán $(ŷ)$, phương pháp tính giá trị trung bình tổng bình phương sai số - MSE – được sử dụng:\n",
        "\n",
        "$$MSE(y, ŷ) =\\frac{1}{m}∑^{m−1}_{i=0}(y_i − ŷ_i)^2$$\n",
        "\n",
        "Công thức trên được viết lại theo cú pháp vector/ma trận để phù hợp với lập trình Python/Numpy như sau:\n",
        "\n",
        "$$MSE(y, ŷ) =\\frac{1}{m}∑(y − ŷ)^2$$"
      ],
      "metadata": {
        "id": "7vOIYZnnhCnX"
      }
    },
    {
      "cell_type": "markdown",
      "source": [
        "**Lập trình Python**"
      ],
      "metadata": {
        "id": "2lUj6j1Fi24e"
      }
    },
    {
      "cell_type": "code",
      "execution_count": 23,
      "metadata": {
        "id": "2NhRyipJgFJc"
      },
      "outputs": [],
      "source": [
        "def mse(y, y_hat):\n",
        "  m = y.shape[0]\n",
        "  result = (1/m)*np.sum(np.square(y - y_hat))\n",
        "  return result"
      ]
    },
    {
      "cell_type": "markdown",
      "source": [
        "**Sử dụng thư viện sklearn.metrics**"
      ],
      "metadata": {
        "id": "1YZ6NE8xi5rF"
      }
    },
    {
      "cell_type": "code",
      "source": [
        "from sklearn.metrics import mean_squared_error\n",
        "y_test = np.array([1,2,3,4])\n",
        "y_hat = np.array([0,1,3,4])"
      ],
      "metadata": {
        "id": "MZanssRJjSuu"
      },
      "execution_count": 24,
      "outputs": []
    },
    {
      "cell_type": "markdown",
      "source": [
        "**KẾT QUẢ**"
      ],
      "metadata": {
        "id": "sVQXIfFEjfBd"
      }
    },
    {
      "cell_type": "code",
      "source": [
        "print('Sử dụng sklearn MSE:\\n',mean_squared_error(y_test, y_hat))\n",
        "print('Python\\n',mse(y_test, y_hat))"
      ],
      "metadata": {
        "colab": {
          "base_uri": "https://localhost:8080/"
        },
        "id": "O4NF-hCijb5J",
        "outputId": "0eb0a4e3-6c2f-410b-eb8b-6af626eb1936"
      },
      "execution_count": 25,
      "outputs": [
        {
          "output_type": "stream",
          "name": "stdout",
          "text": [
            "Sử dụng sklearn MSE:\n",
            " 0.5\n",
            "Python\n",
            " 0.5\n"
          ]
        }
      ]
    },
    {
      "cell_type": "markdown",
      "source": [
        "---"
      ],
      "metadata": {
        "id": "rXaliQGyCWmQ"
      }
    },
    {
      "cell_type": "markdown",
      "source": [
        "## **$R^2$**\n",
        "\n",
        "Hệ số xác định. Nó biểu thị tỷ lệ phương sai (của y) đã được giải thích bởi các biến độc lập trong mô hình. Nó cung cấp một dấu hiệu về mức độ phù hợp tốt và do đó là thước đo mức độ tốt của các mẫu không nhìn thấy có khả năng được dự đoán bởi mô hình, thông qua tỷ lệ phương sai được giải thích.\n",
        "\n",
        "$$R^2(y,\\hat{y})=1-\\frac{∑^{n}_{i=1}(y_i − ŷ_i)^2}{∑^{n}_{i=1}(y_i − \\bar{y_i})^2}$$\n",
        "\n",
        "với $$\\bar{y}=∑^{n}_{i=1}y_i$$\n",
        "\n",
        "và $$∑^{n}_{i=1}(y_i − ŷ_i)^2=∑^{n}_{i=1}\\in_i^2$$\n",
        "\n",
        "Công thức trên được viết lại theo cú pháp vector/ma trận để phù hợp với lập trình Python/Numpy như sau:\n",
        "$$R^2(y,\\hat{y})=1-\\frac{∑(y − ŷ)^2}{∑(y − \\bar{y})^2}$$"
      ],
      "metadata": {
        "id": "bjeWK6REldCd"
      }
    },
    {
      "cell_type": "markdown",
      "source": [
        "**Lập trình Python**"
      ],
      "metadata": {
        "id": "B3SdStDMlwTp"
      }
    },
    {
      "cell_type": "code",
      "source": [
        "def r2_sc(y_test, y_hat):\n",
        "    y_test = np.array(y_test)\n",
        "    y_hat = np.array(y_hat)\n",
        "    y_mean = np.mean(y_test)\n",
        "    result = 1 - np.sum(np.square(y_test-y_hat)) \\\n",
        "        / np.sum(np.square(y_test - y_mean))\n",
        "    return result"
      ],
      "metadata": {
        "id": "zN59GdC8jvZ3"
      },
      "execution_count": 9,
      "outputs": []
    },
    {
      "cell_type": "markdown",
      "source": [
        "**Sử dụng thư viện sklearn.metrics**"
      ],
      "metadata": {
        "id": "hxYXXfSUmC71"
      }
    },
    {
      "cell_type": "code",
      "source": [
        "from sklearn.metrics import r2_score\n",
        "y_test = [1,2,3,4]\n",
        "y_hat = [0,1,3,4]"
      ],
      "metadata": {
        "id": "X4QnN66SmCts"
      },
      "execution_count": 10,
      "outputs": []
    },
    {
      "cell_type": "markdown",
      "source": [
        "**KẾT QUẢ**"
      ],
      "metadata": {
        "id": "h2Jqfi-VmQpH"
      }
    },
    {
      "cell_type": "code",
      "source": [
        "print('Sử dụng sklearn:\\n',r2_score(y_test, y_hat))\n",
        "print('Python:\\n',r2_sc(y_test, y_hat))"
      ],
      "metadata": {
        "colab": {
          "base_uri": "https://localhost:8080/"
        },
        "id": "HO0ryjUJmSXG",
        "outputId": "7a97ed58-3a91-48cd-d2be-e2f46a9de0a2"
      },
      "execution_count": 11,
      "outputs": [
        {
          "output_type": "stream",
          "name": "stdout",
          "text": [
            "Sử dụng sklearn:\n",
            " 0.6\n",
            "Python:\n",
            " 0.6\n"
          ]
        }
      ]
    },
    {
      "cell_type": "markdown",
      "source": [
        "---"
      ],
      "metadata": {
        "id": "7bJwkmo42EUZ"
      }
    },
    {
      "cell_type": "markdown",
      "source": [
        "## **$MAE$**\n",
        "Tính toán sai số tuyệt đối trung bình , một thước đo rủi ro tương ứng với giá trị dự kiến ​​của sai số tuyệt đối.\n",
        "\n",
        "$\\hat{y_i}$ là giá trị dự đoán của mẫu thứ $i$,\n",
        "\n",
        "$y_i$ là giá trị thực tương ứng\n",
        "\n",
        "Sai số tuyệt đối trung bình (MAE- Mean absolute error)\n",
        "$$MAE(y,\\hat{y})= \\frac{1}{n_{samples}} \\sum^{n_{samples}-1}_{i=0}|y_i-\\hat{y_i}|$$\n",
        "\n",
        "Công thức trên được viết lại theo cú pháp vector/ma trận để phù hợp với lập trình Python/Numpy như sau:\n",
        "$$MAE(y,\\hat{y})= \\frac{1}{n_{samples}} \\sum|y-\\hat{y}|$$"
      ],
      "metadata": {
        "id": "Ysx0ul17m2SV"
      }
    },
    {
      "cell_type": "markdown",
      "source": [
        "**Lập trình Python**"
      ],
      "metadata": {
        "id": "Svf0P4FfpGqX"
      }
    },
    {
      "cell_type": "code",
      "source": [
        "def mae(y_test, y_hat):\n",
        "    y_test = np.array(y_test)\n",
        "    y_hat = np.array(y_hat)\n",
        "    n = y_test.shape[0]\n",
        "    result = (1/n) * np.sum(np.absolute(y_test - y_hat))\n",
        "    return result"
      ],
      "metadata": {
        "id": "EJosspOYmnFm"
      },
      "execution_count": 5,
      "outputs": []
    },
    {
      "cell_type": "markdown",
      "source": [
        "**Sử dụng thư viện sklearn.metrics**"
      ],
      "metadata": {
        "id": "NaPiQeV7pNka"
      }
    },
    {
      "cell_type": "code",
      "source": [
        "from sklearn.metrics import mean_absolute_error\n",
        "y_test = [1,2,3,4]\n",
        "y_hat = [0,1,3,4]"
      ],
      "metadata": {
        "id": "24MeHQRdm9cs"
      },
      "execution_count": 6,
      "outputs": []
    },
    {
      "cell_type": "markdown",
      "source": [
        "**KẾT QUẢ**"
      ],
      "metadata": {
        "id": "Q5mtLwkIpYx4"
      }
    },
    {
      "cell_type": "code",
      "source": [
        "print('Sử dụng sklearn:\\n',mean_absolute_error(y_test, y_hat))\n",
        "print('Python:\\n',mae(y_test, y_hat))"
      ],
      "metadata": {
        "colab": {
          "base_uri": "https://localhost:8080/"
        },
        "id": "EQiPBS66pkIz",
        "outputId": "d9caa08c-1a33-49f9-a1d1-299e05124599"
      },
      "execution_count": 7,
      "outputs": [
        {
          "output_type": "stream",
          "name": "stdout",
          "text": [
            "Sử dụng sklearn:\n",
            " 0.5\n",
            "Python\n",
            " 0.5\n"
          ]
        }
      ]
    },
    {
      "cell_type": "markdown",
      "source": [
        "---"
      ],
      "metadata": {
        "id": "SR_hyR6XiYGu"
      }
    },
    {
      "cell_type": "markdown",
      "source": [
        "## **$MSLE$**\n",
        "Hàm mean_squared_log_errortính toán chỉ số rủi ro tương ứng với giá trị dự kiến ​​của sai số hoặc mất mát logarit bình phương (bậc hai).\n",
        "\n",
        "CÔNG THỨC:\n",
        "$$MSLE(y,\\hat{y})= \\frac{1}{n_{samples}} \\sum^{n_{samples}-1}_{i=0}(log_e(1+y_i)-log_e(1+\\hat{y_i}))^2$$\n",
        "\n",
        "\n",
        "VIẾT LẠI CÔNG THỨC: \n",
        "$$MSLE(y,\\hat{y})= \\frac{1}{n_{samples}} \\sum(log_e(1+y)-log_e(1+\\hat{y}))^2$$"
      ],
      "metadata": {
        "id": "BBpgQzdbnR9s"
      }
    },
    {
      "cell_type": "markdown",
      "source": [
        "**Lập trình Python**"
      ],
      "metadata": {
        "id": "Ou0fCl5YpHf3"
      }
    },
    {
      "cell_type": "code",
      "source": [
        "def msle(y_test, y_hat):\n",
        "    y_test = np.array(y_test)\n",
        "    y_hat = np.array(y_hat)\n",
        "    n = y_test.shape[0]\n",
        "    result = (1/n) * np.sum(np.square(np.log(1 + y_test)\\\n",
        "         - np.log(1 + y_hat)))\n",
        "    return result"
      ],
      "metadata": {
        "id": "geRNqpcHnWI1"
      },
      "execution_count": 12,
      "outputs": []
    },
    {
      "cell_type": "markdown",
      "source": [
        "**Sử dụng thư viện sklearn.metrics**"
      ],
      "metadata": {
        "id": "_6TSSv-hpOCY"
      }
    },
    {
      "cell_type": "code",
      "source": [
        "from sklearn.metrics import mean_squared_log_error\n",
        "y_test = [1,2,3,4]\n",
        "y_hat = [0,1,3,4]"
      ],
      "metadata": {
        "id": "PpZ9Cyr2nZmt"
      },
      "execution_count": 13,
      "outputs": []
    },
    {
      "cell_type": "markdown",
      "source": [
        "**KẾT QUẢ**"
      ],
      "metadata": {
        "id": "MocigrtapZPL"
      }
    },
    {
      "cell_type": "code",
      "source": [
        "print('Sử dụng sklearn:\\n',mean_squared_log_error(y_test, y_hat))\n",
        "print('Python:\\n',msle(y_test, y_hat))"
      ],
      "metadata": {
        "colab": {
          "base_uri": "https://localhost:8080/"
        },
        "id": "ztMpNNAKpmaD",
        "outputId": "d3c53e79-d4c4-4261-cec4-315a23111fe0"
      },
      "execution_count": 15,
      "outputs": [
        {
          "output_type": "stream",
          "name": "stdout",
          "text": [
            "Sử dụng sklearn:\n",
            " 0.1612137419528417\n",
            "Python:\n",
            " 0.16121374195284172\n"
          ]
        }
      ]
    },
    {
      "cell_type": "markdown",
      "source": [
        "---"
      ],
      "metadata": {
        "id": "avGTmxupiZDT"
      }
    },
    {
      "cell_type": "markdown",
      "source": [
        "## **$MAPE$**\n",
        "( mean_absolute_percentage_error), còn được gọi là độ lệch phần trăm tuyệt đối trung bình (MAPD), là thước đo đánh giá cho các vấn đề hồi quy. Ý tưởng của số liệu này là nhạy cảm với các lỗi tương đối. Ví dụ, nó không bị thay đổi bởi tỷ lệ toàn cầu của biến mục tiêu.\n",
        "\n",
        "CÔNG THỨC:\n",
        "$$MAPE(y,\\hat{y})= \\frac{1}{n_{samples}} \\sum^{n_{samples}-1}_{i=0}\\frac{|y_i-\\hat{y_i}|}{max(e,|y_i|)}$$\n",
        "\n",
        "VIẾT LẠI CÔNG THỨC:\n",
        "$$MAPE(y,\\hat{y})= \\frac{1}{n_{samples}} \\sum\\frac{|y-\\hat{y}|}{max}$$"
      ],
      "metadata": {
        "id": "Kj06hCHNnh1k"
      }
    },
    {
      "cell_type": "markdown",
      "source": [
        "**Lập trình Python**"
      ],
      "metadata": {
        "id": "D7i6FcKGpH4H"
      }
    },
    {
      "cell_type": "code",
      "source": [
        "def mape(y_test, y_hat, e = 0.0001):\n",
        "    y_test = np.array(y_test)\n",
        "    y_hat = np.array(y_hat)\n",
        "    e = np.ones(y_test.shape) * e\n",
        "    n = y_test.shape[0]\n",
        "    result = (1/n) * np.sum(np.absolute(y_test - y_hat)\\\n",
        "        /np.max((e, np.absolute(y_test)), axis = 0))\n",
        "    return result"
      ],
      "metadata": {
        "id": "bc3OYlU2nZdb"
      },
      "execution_count": 16,
      "outputs": []
    },
    {
      "cell_type": "markdown",
      "source": [
        "**Sử dụng thư viện sklearn.metrics**"
      ],
      "metadata": {
        "id": "zWt9c6Y7pPGn"
      }
    },
    {
      "cell_type": "code",
      "source": [
        "from sklearn.metrics import mean_absolute_percentage_error\n",
        "y_test = [1,2,3,4]\n",
        "y_hat = [0,1,3,4]"
      ],
      "metadata": {
        "id": "sazzW4UqnxPj"
      },
      "execution_count": 17,
      "outputs": []
    },
    {
      "cell_type": "markdown",
      "source": [
        "**KẾT QUẢ**"
      ],
      "metadata": {
        "id": "Vw9VdY2npZmU"
      }
    },
    {
      "cell_type": "code",
      "source": [
        "print('Sử dụng sklearn:\\n',mean_absolute_percentage_error(y_test, y_hat))\n",
        "print('Python:\\n',mape(y_test, y_hat))"
      ],
      "metadata": {
        "colab": {
          "base_uri": "https://localhost:8080/"
        },
        "id": "zw9iZVz-pqTb",
        "outputId": "7bb20e1b-09e2-4b38-be32-61a3f11b78c0"
      },
      "execution_count": 18,
      "outputs": [
        {
          "output_type": "stream",
          "name": "stdout",
          "text": [
            "Sử dụng sklearn:\n",
            " 0.375\n",
            "Python:\n",
            " 0.375\n"
          ]
        }
      ]
    },
    {
      "cell_type": "markdown",
      "source": [
        "---"
      ],
      "metadata": {
        "id": "0RFwokVGiatt"
      }
    },
    {
      "cell_type": "markdown",
      "source": [
        "## **$MedAE$**\n",
        " median_absolute_errornày đặc biệt thú vị bởi vì nó mạnh mẽ đối với các ngoại lệ. Tổn thất được tính bằng cách lấy trung bình của tất cả các chênh lệch tuyệt đối giữa mục tiêu và dự đoán.\n",
        "\n",
        "CÔNG THỨC:\n",
        "$$medAE(y,\\hat{y}) = median(|y_1-\\hat{y_1}|,...|y_n-\\hat{y_n}|$$\n"
      ],
      "metadata": {
        "id": "LXlncU5SnyT8"
      }
    },
    {
      "cell_type": "markdown",
      "source": [
        "**Lập trình Python**"
      ],
      "metadata": {
        "id": "Yl2Nne4ppIQ0"
      }
    },
    {
      "cell_type": "code",
      "source": [
        "def medAE(y_test, y_hat):\n",
        "    y_test = np.array(y_test)\n",
        "    y_hat = np.array(y_hat)\n",
        "    result = np.median(np.absolute(y_test-y_hat))\n",
        "    return result"
      ],
      "metadata": {
        "id": "fP4aBxeBn1q1"
      },
      "execution_count": 19,
      "outputs": []
    },
    {
      "cell_type": "markdown",
      "source": [
        "**Sử dụng thư viện sklearn.metrics**"
      ],
      "metadata": {
        "id": "GVm09ECbpRhF"
      }
    },
    {
      "cell_type": "code",
      "source": [
        "from sklearn.metrics import median_absolute_error\n",
        "y_test = [1,2,3,4]\n",
        "y_hat = [0,1,3,4]"
      ],
      "metadata": {
        "id": "gwDj_0Cyn3UM"
      },
      "execution_count": 20,
      "outputs": []
    },
    {
      "cell_type": "markdown",
      "source": [
        "**KẾT QUẢ**"
      ],
      "metadata": {
        "id": "zEt5IPuApZ8l"
      }
    },
    {
      "cell_type": "code",
      "source": [
        "print('Sử dụng sklearn:\\n',median_absolute_error(y_test, y_hat))\n",
        "print('Python:\\n',medAE(y_test, y_hat))"
      ],
      "metadata": {
        "colab": {
          "base_uri": "https://localhost:8080/"
        },
        "id": "Yk5oXelNps2r",
        "outputId": "043b6fe0-bc26-4e3a-a331-fc0fbe0d5145"
      },
      "execution_count": 21,
      "outputs": [
        {
          "output_type": "stream",
          "name": "stdout",
          "text": [
            "Sử dụng sklearn:\n",
            " 0.5\n",
            "Python:\n",
            " 0.5\n"
          ]
        }
      ]
    },
    {
      "cell_type": "markdown",
      "source": [
        "---"
      ],
      "metadata": {
        "id": "iBs-VHjMibel"
      }
    },
    {
      "cell_type": "markdown",
      "source": [
        "## **$Max-Error$**\n",
        "Hàm tính toán lỗi tối đa. max_error\n",
        "\n",
        "CÔNG THỨC:\n",
        "$$Max Error(y,\\hat{y}) = max(|y_1-\\hat{y_1}|$$"
      ],
      "metadata": {
        "id": "oNditiBbn5z0"
      }
    },
    {
      "cell_type": "markdown",
      "source": [
        "**Lập trình Python**"
      ],
      "metadata": {
        "id": "T5xA39KcpIq4"
      }
    },
    {
      "cell_type": "code",
      "source": [
        "def max_error_python(y_test, y_hat):\n",
        "    y_test = np.array(y_test)\n",
        "    y_hat = np.array(y_hat)\n",
        "    result = np.max(np.absolute(y_test-y_hat))\n",
        "    return result"
      ],
      "metadata": {
        "id": "cP8Y11jToA3l"
      },
      "execution_count": 23,
      "outputs": []
    },
    {
      "cell_type": "markdown",
      "source": [
        "**Sử dụng thư viện sklearn.metrics**"
      ],
      "metadata": {
        "id": "0AvIGxhSpR5F"
      }
    },
    {
      "cell_type": "code",
      "source": [
        "from sklearn.metrics import max_error\n",
        "y_test = [1,2,3,4]\n",
        "y_hat = [0,1,3,4]"
      ],
      "metadata": {
        "id": "weBJ0mR0oC7M"
      },
      "execution_count": 24,
      "outputs": []
    },
    {
      "cell_type": "markdown",
      "source": [
        "**KẾT QUẢ**"
      ],
      "metadata": {
        "id": "xZNA6mJ5paQU"
      }
    },
    {
      "cell_type": "code",
      "source": [
        "print('Sử dụng sklearn:\\n',max_error(y_test, y_hat))\n",
        "print('Python:\\n',max_error_python(y_test, y_hat))"
      ],
      "metadata": {
        "colab": {
          "base_uri": "https://localhost:8080/"
        },
        "id": "-Ilj6Nn4pwLT",
        "outputId": "777e9e5f-51a9-470d-d4f5-415a16ac60db"
      },
      "execution_count": 26,
      "outputs": [
        {
          "output_type": "stream",
          "name": "stdout",
          "text": [
            "Sử dụng sklearn:\n",
            " 1\n",
            "Python:\n",
            " 1\n"
          ]
        }
      ]
    },
    {
      "cell_type": "markdown",
      "source": [
        "---"
      ],
      "metadata": {
        "id": "qnDVG9lsicaV"
      }
    },
    {
      "cell_type": "markdown",
      "source": [
        "## **$Explained-variance$**\n",
        "Tính toán điểm hồi quy phương sai được giải thích\n",
        "\n",
        "CÔNG THỨC:\n",
        "$$explained-variance(y,\\hat{y})=1- \\frac{Var(y-\\hat{y})}{Var(y)}$$"
      ],
      "metadata": {
        "id": "3AQAcVmXoFpc"
      }
    },
    {
      "cell_type": "markdown",
      "source": [
        "**Lập trình Python**"
      ],
      "metadata": {
        "id": "ePQzmUFJpJFX"
      }
    },
    {
      "cell_type": "code",
      "source": [
        "def explained_variance(y_test, y_hat):\n",
        "    y_test = np.array(y_test)\n",
        "    y_hat = np.array(y_hat)\n",
        "    result = 1 - np.var(y_test-y_hat) / np.var(y_test)\n",
        "    return result"
      ],
      "metadata": {
        "id": "Q45D4ufvoVdl"
      },
      "execution_count": 27,
      "outputs": []
    },
    {
      "cell_type": "markdown",
      "source": [
        "**Sử dụng thư viện sklearn.metrics**"
      ],
      "metadata": {
        "id": "Q0D25nBWpSXV"
      }
    },
    {
      "cell_type": "code",
      "source": [
        "from sklearn.metrics import explained_variance_score\n",
        "y_test = [1,2,3,4]\n",
        "y_hat = [0,1,3,4]"
      ],
      "metadata": {
        "id": "5EapZfQQoYVr"
      },
      "execution_count": 28,
      "outputs": []
    },
    {
      "cell_type": "markdown",
      "source": [
        "**KẾT QUẢ**"
      ],
      "metadata": {
        "id": "UtUB8G65pava"
      }
    },
    {
      "cell_type": "code",
      "source": [
        "print('Sử dụng sklearn:\\n',explained_variance_score(y_test, y_hat))\n",
        "print('Python:\\n',explained_variance(y_test, y_hat))"
      ],
      "metadata": {
        "colab": {
          "base_uri": "https://localhost:8080/"
        },
        "id": "SUWt0crGpyYT",
        "outputId": "9705b64f-10dc-43d5-8e59-872c68781094"
      },
      "execution_count": 29,
      "outputs": [
        {
          "output_type": "stream",
          "name": "stdout",
          "text": [
            "Sử dụng sklearn:\n",
            " 0.8\n",
            "Python:\n",
            " 0.8\n"
          ]
        }
      ]
    },
    {
      "cell_type": "markdown",
      "source": [
        "---"
      ],
      "metadata": {
        "id": "ecBDlGMMid8v"
      }
    },
    {
      "cell_type": "markdown",
      "source": [
        "## **$Tweedie$**\n",
        "Hàm **mean_tweedie_deviance** tính toán sai lệch Tweedie trung bình với một tham số power. Đây là số liệu gợi ra các giá trị kỳ vọng dự đoán của các mục tiêu hồi quy.\n",
        "\n",
        "Sau đây trường hợp đặc biệt tồn tại,\n",
        "\n",
        "- khi power=0 nó tương đương với mean_squared_error.\n",
        "\n",
        "- khi power=1 nó tương đương với mean_poisson_deviance.\n",
        "\n",
        "- khi power=2 nó tương đương với mean_gamma_deviance.\n",
        "\n",
        "CÔNG THỨC:\n",
        "![image.png](data:image/png;base64,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)"
      ],
      "metadata": {
        "id": "hhRo2-HEoZ00"
      }
    },
    {
      "cell_type": "markdown",
      "source": [
        "**Lập trình Python**"
      ],
      "metadata": {
        "id": "6JILTk4spJfH"
      }
    },
    {
      "cell_type": "code",
      "source": [
        "def tweedie(y_test, y_hat, p):\n",
        "    y_test = np.array(y_test)\n",
        "    y_hat = np.array(y_hat)\n",
        "    n = y_test.shape[0]\n",
        "    if p == 0:\n",
        "      result = (1/n) * np.sum(np.square(y_test-y_hat))\n",
        "    elif p == 1:\n",
        "      result = (1/n) * np.sum(2*(y_test*np.log(y_test/y_hat)\\\n",
        "                                 + y_hat - y_test))\n",
        "    elif p == 2:\n",
        "      result = (1/n) * np.sum(2*(np.log(y_hat/y_test)\\\n",
        "                                 + y_test/y_hat - 1))\n",
        "    else:\n",
        "      zeros = np.zeros(y_test.shape)\n",
        "      a = np.power(np.max((y_test, zeros), axis = 0), 2-p)\\\n",
        "          / ((1-p)*(2-p))\n",
        "      b = y_test * np.power(y_hat, 1-p) / (1-p)\n",
        "      c = np.power(y_hat, 2-p) / (2-p)\n",
        "      result = (1/n) * np.sum(2*(a-b+c))\n",
        "    return result"
      ],
      "metadata": {
        "id": "k5DiFlyIod4l"
      },
      "execution_count": 32,
      "outputs": []
    },
    {
      "cell_type": "markdown",
      "source": [
        "**Sử dụng thư viện sklearn.metrics**"
      ],
      "metadata": {
        "id": "J0T3BOllpTY0"
      }
    },
    {
      "cell_type": "code",
      "source": [
        "y_test = [3, 5, 2.5, 7]\n",
        "y_hat = [2.5, 5, 4, 8]"
      ],
      "metadata": {
        "id": "5EGz7OztKrPT"
      },
      "execution_count": 33,
      "outputs": []
    },
    {
      "cell_type": "markdown",
      "source": [
        "power = 0"
      ],
      "metadata": {
        "id": "UnqKPzOGLs-Y"
      }
    },
    {
      "cell_type": "code",
      "source": [
        "from sklearn.metrics import mean_tweedie_deviance, mean_squared_error\n",
        "\n",
        "print('Sử dụng sklearn:\\n',mean_tweedie_deviance(y_test, y_hat, power = 0))\n",
        "print(mean_squared_error(y_test, y_hat))\n",
        "print('Python:\\n',tweedie(y_test, y_hat, p = 0))"
      ],
      "metadata": {
        "colab": {
          "base_uri": "https://localhost:8080/"
        },
        "id": "u71yezeMouoj",
        "outputId": "b4c2653e-3ff5-4bd6-cc56-d68d34aba2c2"
      },
      "execution_count": 41,
      "outputs": [
        {
          "output_type": "stream",
          "name": "stdout",
          "text": [
            "Sử dụng sklearn:\n",
            " 0.875\n",
            "0.875\n",
            "Python:\n",
            " 0.875\n"
          ]
        }
      ]
    },
    {
      "cell_type": "markdown",
      "source": [
        "power = 1"
      ],
      "metadata": {
        "id": "4VEZtf_MLyfb"
      }
    },
    {
      "cell_type": "code",
      "source": [
        "from sklearn.metrics import mean_tweedie_deviance, mean_poisson_deviance\n",
        "\n",
        "print('Sử dụng sklearn:\\n',mean_tweedie_deviance(y_test, y_hat, power = 1))\n",
        "print(mean_poisson_deviance(y_test, y_hat))\n",
        "print('Python:\\n',tweedie(y_test, y_hat, p = 1))"
      ],
      "metadata": {
        "colab": {
          "base_uri": "https://localhost:8080/"
        },
        "id": "jNC6P7FTowMj",
        "outputId": "57206cbd-2fce-4740-88b5-27bfd47d9b72"
      },
      "execution_count": 42,
      "outputs": [
        {
          "output_type": "stream",
          "name": "stdout",
          "text": [
            "Sử dụng sklearn:\n",
            " 0.21861792444793338\n",
            "0.21861792444793338\n",
            "Python:\n",
            " 0.21861792444793338\n"
          ]
        }
      ]
    },
    {
      "cell_type": "markdown",
      "source": [
        "power = 2"
      ],
      "metadata": {
        "id": "659HCxmYL0zZ"
      }
    },
    {
      "cell_type": "code",
      "source": [
        "from sklearn.metrics import mean_tweedie_deviance, mean_gamma_deviance\n",
        "\n",
        "print('Sử dụng sklearn:\\n',mean_tweedie_deviance(y_test, y_hat, power = 2))\n",
        "print(mean_gamma_deviance(y_test, y_hat))\n",
        "print('Python:\\n',tweedie(y_test, y_hat, p = 2))"
      ],
      "metadata": {
        "colab": {
          "base_uri": "https://localhost:8080/"
        },
        "id": "pX3y3u4PoxhL",
        "outputId": "c5b76080-16cb-4c7c-80dd-757db132684b"
      },
      "execution_count": 43,
      "outputs": [
        {
          "output_type": "stream",
          "name": "stdout",
          "text": [
            "Sử dụng sklearn:\n",
            " 0.06060673253815174\n",
            "0.06060673253815174\n",
            "Python:\n",
            " 0.06060673253815174\n"
          ]
        }
      ]
    },
    {
      "cell_type": "markdown",
      "source": [
        "power = một số khác"
      ],
      "metadata": {
        "id": "orkuyI5GMf6p"
      }
    },
    {
      "cell_type": "code",
      "source": [
        "from sklearn.metrics import mean_tweedie_deviance\n",
        "\n",
        "print('Sử dụng sklearn:\\n',mean_tweedie_deviance(y_test, y_hat, power = 3))\n",
        "print('Python:\\n',tweedie(y_test, y_hat, p = 3))"
      ],
      "metadata": {
        "colab": {
          "base_uri": "https://localhost:8080/"
        },
        "id": "i2EjUyvDoy1T",
        "outputId": "b15413ce-1520-4748-f6e3-b74c23ed0436"
      },
      "execution_count": 44,
      "outputs": [
        {
          "output_type": "stream",
          "name": "stdout",
          "text": [
            "Sử dụng sklearn:\n",
            " 0.017953869047619017\n",
            "Python:\n",
            " 0.017953869047619017\n"
          ]
        }
      ]
    },
    {
      "cell_type": "markdown",
      "source": [
        "---"
      ],
      "metadata": {
        "id": "EXfEAf6Zieve"
      }
    },
    {
      "cell_type": "markdown",
      "source": [
        "# CHƯƠNG TRÌNH ĐÁNH GIÁ HIỆU NĂNG MÔ HÌNH HQTT THEO CÁC ĐỘ ĐO"
      ],
      "metadata": {
        "id": "-H3ZjsFpOgcM"
      }
    },
    {
      "cell_type": "code",
      "source": [
        "import os\n",
        "import numpy as np\n",
        "from sklearn.model_selection import train_test_split\n",
        "from sklearn.metrics import mean_squared_error"
      ],
      "metadata": {
        "id": "S_-Em4hvOq2H"
      },
      "execution_count": 45,
      "outputs": []
    },
    {
      "cell_type": "code",
      "source": [
        "def read_scale_data(folder, filename):\n",
        "    D = np.loadtxt(os.path.join(folder, filename), delimiter=',')\n",
        "    X, y = D[:,:-1], D[:,-1]\n",
        "    X, y = scaleData(X, y)\n",
        "    x0 = np.ones((X.shape[0], 1))\n",
        "    X = np.column_stack([x0, X])\n",
        "    X_train, X_test, y_train, y_test = train_test_split(X, y,\n",
        "                                                        test_size=0.30, random_state=15)\n",
        "    y_train = np.reshape(y_train, (y_train.shape[0], 1))\n",
        "    y_test = np.reshape(y_test, (y_test.shape[0], 1))\n",
        "    return X_train, X_test, y_train, y_test"
      ],
      "metadata": {
        "id": "DkIN-qO1O0iA"
      },
      "execution_count": 46,
      "outputs": []
    },
    {
      "cell_type": "code",
      "source": [
        "def featureVectorScaling(data):\n",
        "    avg = np.mean(data)\n",
        "    sln = data.max()\n",
        "    snn = data.min()\n",
        "    data_scl = (data - avg)/(sln - snn)\n",
        "    return data_scl"
      ],
      "metadata": {
        "id": "ySVrfSEeO2Mi"
      },
      "execution_count": 47,
      "outputs": []
    },
    {
      "cell_type": "code",
      "source": [
        "def scaleData(X, y):\n",
        "    X_scl = X[:, 0]\n",
        "    for i in range(1, X.shape[1]):\n",
        "        scl = featureVectorScaling(X[:, i])\n",
        "        X_scl = np.column_stack([X_scl, scl])\n",
        "    y_scl = featureVectorScaling(y)\n",
        "    return X_scl, y_scl"
      ],
      "metadata": {
        "id": "pMrWgzPiO3Wq"
      },
      "execution_count": 48,
      "outputs": []
    },
    {
      "cell_type": "code",
      "source": [
        "def computeLoss(X, y, w):\n",
        "    m = y.shape[0]\n",
        "    J = 0\n",
        "    h = np.dot(X, w)\n",
        "    J = (1/(2*m))*np.sum(np.square(h - y))\n",
        "    return J"
      ],
      "metadata": {
        "id": "BE_400HXO4rs"
      },
      "execution_count": 49,
      "outputs": []
    },
    {
      "cell_type": "code",
      "source": [
        "def gradientDescent(X, y, w, alpha, n):\n",
        "    m = y.shape[0]\n",
        "    J_history = []\n",
        "    w_optimal = w.copy()\n",
        "    for i in range(n):\n",
        "        h = np.dot(X, w_optimal)\n",
        "        error = h - y\n",
        "        w_optimal = w_optimal - (alpha/m)*np.dot(X.T, error)\n",
        "        J_history.append(computeLoss(X, y, w_optimal))\n",
        "    return w_optimal, J_history"
      ],
      "metadata": {
        "id": "mXoauCgUO6C8"
      },
      "execution_count": 50,
      "outputs": []
    },
    {
      "cell_type": "markdown",
      "source": [
        "HÀM CÁC ĐỘ ĐO"
      ],
      "metadata": {
        "id": "L6ANaVXDRM4y"
      }
    },
    {
      "cell_type": "code",
      "source": [
        "def mse(y, y_hat):\n",
        "    m = y.shape[0]\n",
        "    result = (1/m)*np.sum(np.square(y - y_hat))\n",
        "    return result"
      ],
      "metadata": {
        "id": "B2cNzXh0O7g4"
      },
      "execution_count": 51,
      "outputs": []
    },
    {
      "cell_type": "code",
      "source": [
        "def r2_sc(y, y_hat):\n",
        "    y_test = np.array(y)\n",
        "    y_hat = np.array(y_hat)\n",
        "    y_mean = np.mean(y)\n",
        "    result = 1 - np.sum(np.square(y-y_hat)) \\\n",
        "        / np.sum(np.square(y - y_mean))\n",
        "    return result"
      ],
      "metadata": {
        "id": "5LcaP7ozP08k"
      },
      "execution_count": 69,
      "outputs": []
    },
    {
      "cell_type": "code",
      "source": [
        "def mae(y_test, y_hat):\n",
        "    y_test = np.array(y_test)\n",
        "    y_hat = np.array(y_hat)\n",
        "    n = y_test.shape[0]\n",
        "    result = (1/n) * np.sum(np.absolute(y_test - y_hat))\n",
        "    return result"
      ],
      "metadata": {
        "id": "enYm2iSAQvwA"
      },
      "execution_count": 76,
      "outputs": []
    },
    {
      "cell_type": "code",
      "source": [
        "def msle(y_test, y_hat):\n",
        "    y_test = np.array(y_test)\n",
        "    y_hat = np.array(y_hat)\n",
        "    n = y_test.shape[0]\n",
        "    result = (1/n) * np.sum(np.square(np.log(1 + y_test)\\\n",
        "         - np.log(1 + y_hat)))\n",
        "    return result"
      ],
      "metadata": {
        "id": "6DgO8_pgRLQ8"
      },
      "execution_count": null,
      "outputs": []
    },
    {
      "cell_type": "code",
      "source": [
        "def mape(y_test, y_hat, e = 0.0001):\n",
        "    y_test = np.array(y_test)\n",
        "    y_hat = np.array(y_hat)\n",
        "    e = np.ones(y_test.shape) * e\n",
        "    n = y_test.shape[0]\n",
        "    result = (1/n) * np.sum(np.absolute(y_test - y_hat)\\\n",
        "        /np.max((e, np.absolute(y_test)), axis = 0))\n",
        "    return result"
      ],
      "metadata": {
        "id": "SKkMKs3LRjFo"
      },
      "execution_count": 83,
      "outputs": []
    },
    {
      "cell_type": "code",
      "source": [
        "def medAE(y_test, y_hat):\n",
        "    y_test = np.array(y_test)\n",
        "    y_hat = np.array(y_hat)\n",
        "    result = np.median(np.absolute(y_test-y_hat))\n",
        "    return result"
      ],
      "metadata": {
        "id": "FgwGUlpDRxym"
      },
      "execution_count": 85,
      "outputs": []
    },
    {
      "cell_type": "code",
      "source": [
        "def max_error_python(y_test, y_hat):\n",
        "    y_test = np.array(y_test)\n",
        "    y_hat = np.array(y_hat)\n",
        "    result = np.max(np.absolute(y_test-y_hat))\n",
        "    return result"
      ],
      "metadata": {
        "id": "9dCwEPprSCFK"
      },
      "execution_count": 87,
      "outputs": []
    },
    {
      "cell_type": "code",
      "source": [
        "def main():\n",
        "    n = 1500\n",
        "    alpha = 0.01\n",
        "    X_train, X_test, y_train, y_test = read_scale_data(\"/content/drive/MyDrive/Classroom/Học máy 1 Phần cơ sở\", \"ex1data2.txt\")\n",
        "    X_train, y_train = scaleData(X_train, y_train)\n",
        "    X_test, y_test = scaleData(X_test, y_test)\n",
        "    print('Huấn luyện mô hình trên tập dữ liệu train')\n",
        "    w = np.zeros((X_train.shape[1], 1))\n",
        "    w, J_history = gradientDescent(X_train, y_train, w, alpha, n)\n",
        "    print(\"\\nOptimal weights are:\\n\", w)\n",
        "    print(\"\\nLoss function:\\n\", J_history[-1])\n",
        "    print('\\nĐÁNH GIÁ MÔ HÌNH TRÊN TẬP DỮ LIỆU TEST')\n",
        "    y_hat = np.dot(X_test, w)\n",
        "    print(\"\\n\\tMSE: \", mse(y_test, y_hat))\n",
        "    print('\\tSử dụng sklearn MSE: ', mean_squared_error(y_test, y_hat))\n",
        "    print(\"\\n\\tR2 score: \", r2_sc(y_test, y_hat))\n",
        "    print(\"\\n\\tMean absolute error: \", mae(y_test, y_hat))\n",
        "    print(\"\\n\\tMean squared log error: \", msle(y_test, y_hat))\n",
        "    print(\"\\n\\tMean absolute percentage error: \", mape(y_test, y_hat))\n",
        "    print(\"\\n\\tMedian absolute error: \", mae(y_test, y_hat))\n",
        "    print(\"\\n\\tMax error: \", max_error_python(y_test, y_hat))\n",
        "\n",
        "if __name__ == '__main__':\n",
        "    main()"
      ],
      "metadata": {
        "colab": {
          "base_uri": "https://localhost:8080/"
        },
        "id": "uMXqGjGFOkgL",
        "outputId": "304c4971-583d-435a-989f-8d83c4b02ecd"
      },
      "execution_count": 90,
      "outputs": [
        {
          "output_type": "stream",
          "name": "stdout",
          "text": [
            "Huấn luyện mô hình trên tập dữ liệu train\n",
            "\n",
            "Optimal weights are:\n",
            " [[6.86083135e-18]\n",
            " [4.18940795e-01]\n",
            " [2.04975943e-01]]\n",
            "\n",
            "Loss function:\n",
            " 0.011882257412839537\n",
            "\n",
            "ĐÁNH GIÁ MÔ HÌNH TRÊN TẬP DỮ LIỆU TEST\n",
            "\n",
            "\tMSE:  0.06487534316456738\n",
            "\tSử dụng sklearn MSE:  0.06487534316456738\n",
            "\n",
            "\tR2 score:  0.4765921471157777\n",
            "\n",
            "\tMean absolute error:  0.22249791657357468\n",
            "\n",
            "\tMean squared log error:  0.05739730577447137\n",
            "\n",
            "\tMean absolute percentage error:  2.444328962308476\n",
            "\n",
            "\tMedian absolute error:  0.22249791657357468\n",
            "\n",
            "\tMax error:  0.5119093778281646\n"
          ]
        }
      ]
    },
    {
      "cell_type": "code",
      "source": [],
      "metadata": {
        "id": "esK42C8jO-0q"
      },
      "execution_count": null,
      "outputs": []
    }
  ]
}