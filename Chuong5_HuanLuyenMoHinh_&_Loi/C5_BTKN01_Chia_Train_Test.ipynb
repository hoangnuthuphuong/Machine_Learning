{
  "nbformat": 4,
  "nbformat_minor": 0,
  "metadata": {
    "colab": {
      "provenance": [],
      "authorship_tag": "ABX9TyPAvjePVvwohWaCalWBuHm9",
      "include_colab_link": true
    },
    "kernelspec": {
      "name": "python3",
      "display_name": "Python 3"
    },
    "language_info": {
      "name": "python"
    }
  },
  "cells": [
    {
      "cell_type": "markdown",
      "metadata": {
        "id": "view-in-github",
        "colab_type": "text"
      },
      "source": [
        "<a href=\"https://colab.research.google.com/github/hoangnuthuphuong/Machine_Learning/blob/main/Chuong5_HuanLuyenMoHinh_%26_Loi/C5_BTKN01_Chia_Train_Test.ipynb\" target=\"_parent\"><img src=\"https://colab.research.google.com/assets/colab-badge.svg\" alt=\"Open In Colab\"/></a>"
      ]
    },
    {
      "cell_type": "markdown",
      "source": [
        "Cho tập dữ liệu ban đầu $D = {(X, y)|X ∈ R^{m×n} và y ∈ R^m}$ được chia thành 2, gồm:\n",
        "\n",
        "- Tập dữ liệu huấn luyện $D_{train}$ thông thường bằng 70% D;\n",
        "- Tập dữ liệu kiểm thử $D_{test}$ thông thường bằng 30% D."
      ],
      "metadata": {
        "id": "bZ2K26pJ7AgD"
      }
    },
    {
      "cell_type": "code",
      "execution_count": 2,
      "metadata": {
        "id": "PC0uSzSv6ZXy"
      },
      "outputs": [],
      "source": [
        "import numpy as np\n",
        "import os\n",
        "from sklearn.model_selection import train_test_split"
      ]
    },
    {
      "cell_type": "code",
      "source": [
        "from google.colab import drive\n",
        "drive.mount('/content/drive')"
      ],
      "metadata": {
        "colab": {
          "base_uri": "https://localhost:8080/"
        },
        "id": "98-tpdA27TQp",
        "outputId": "bfbd422f-3f43-499d-ad79-5b9c94031fbe"
      },
      "execution_count": 1,
      "outputs": [
        {
          "output_type": "stream",
          "name": "stdout",
          "text": [
            "Mounted at /content/drive\n"
          ]
        }
      ]
    },
    {
      "cell_type": "code",
      "source": [
        "D = np.loadtxt(os.path.join(\"/content/drive/MyDrive/Classroom/Học máy 1 Phần cơ sở\", \"ex1data2.txt\"), delimiter=',')\n",
        "X, y = D[:,:-1], D[:,-1]\n",
        "X_train, X_test, y_train, y_test = train_test_split(X, y,test_size=0.30,random_state=15)\n",
        "print(\"X train:\\n \",X_train[:10])\n",
        "print(\"X test:\\n \",X_test[:10])\n",
        "print(\"y train:\\n \",y_train[:10])\n",
        "print(\"y test:\\n\", y_test[:10])\n"
      ],
      "metadata": {
        "colab": {
          "base_uri": "https://localhost:8080/"
        },
        "id": "hPhApUdy7NfM",
        "outputId": "76264fee-cdb0-4452-cf7a-8f1a058ecf46"
      },
      "execution_count": 12,
      "outputs": [
        {
          "output_type": "stream",
          "name": "stdout",
          "text": [
            "X train:\n",
            "  [[2.162e+03 4.000e+00]\n",
            " [2.400e+03 3.000e+00]\n",
            " [1.200e+03 3.000e+00]\n",
            " [1.600e+03 3.000e+00]\n",
            " [1.239e+03 3.000e+00]\n",
            " [2.609e+03 4.000e+00]\n",
            " [1.811e+03 4.000e+00]\n",
            " [1.534e+03 3.000e+00]\n",
            " [1.437e+03 3.000e+00]\n",
            " [4.478e+03 5.000e+00]]\n",
            "X test:\n",
            "  [[1.100e+03 3.000e+00]\n",
            " [3.890e+03 3.000e+00]\n",
            " [1.416e+03 2.000e+00]\n",
            " [1.839e+03 2.000e+00]\n",
            " [4.215e+03 4.000e+00]\n",
            " [2.567e+03 4.000e+00]\n",
            " [3.137e+03 3.000e+00]\n",
            " [1.458e+03 3.000e+00]\n",
            " [1.268e+03 3.000e+00]\n",
            " [2.132e+03 4.000e+00]]\n",
            "y train:\n",
            "  [287000. 369000. 299000. 329900. 229900. 499998. 285900. 314900. 249900.\n",
            " 699900.]\n",
            "y test:\n",
            " [249900. 573900. 232000. 349900. 549000. 314000. 579900. 464500. 259900.\n",
            " 345000.]\n"
          ]
        }
      ]
    },
    {
      "cell_type": "markdown",
      "source": [
        "# **Câu hỏi:**\n",
        "\n",
        "1. Hãy liệt kê tất cả tham số của hàm train_test_split() và ý nghĩa của chúng.\n",
        "\n",
        "2. Tại sao khi thực hiện chia train – test, nên lựa chọn tham số shuffle = True? (lưu ý đây là giá trị mặc định)"
      ],
      "metadata": {
        "id": "Cm52zdpN7goq"
      }
    },
    {
      "cell_type": "markdown",
      "source": [
        "\n",
        "---\n",
        "**`train_test_split(*arrays, test_size=None, train_size=None, random_state=None, shuffle=True, stratify=None)`**\n",
        "\n",
        "---\n",
        "\n",
        "* Các tham số của hàm train_test_split():\n",
        "\n",
        "> **arrays** : Chuỗi mảng đưa vào, có thể là danh sách, ma trận, khung dữ liệu,..\n",
        "\n",
        "> **test_size** : Nằm trong khoảng [0,1], biểu thị tỷ lệ của tập dữ liệu được đưa vào phân tách thử nghiệm hoặc đại diện cho số lượng mẫu test tuyệt đối. Nếu train_size là None thì đưa về 0,25.\n",
        "\n",
        ">  **train_size** : Nằm trong khoảng [0,1], biểu thị tỷ lệ của tập dữ liệu được đưa vào train hoặc đại diện cho số lượng mẫu train tuyệt đối.\n",
        "\n",
        "> **random_state** : Kiểm soát việc xáo trộn được áp dụng cho dữ liệu trước khi áp dụng phân tách. Truyền một int cho đầu ra có thể lặp lại qua nhiều lệnh gọi hàm.\n",
        "\n",
        "> **shuffle** : bool, xáo trộn dữ liệu trước khi tách, nếu shuffle=False thì stratify phải là None.\n",
        "\n",
        "> **stratify** : Nếu không phải là None thì dữ liệu được phân chia theo kiểu phân tầng, sử dụng dữ liệu này làm nhãn lớp.\n",
        "\n",
        "\n",
        "\n"
      ],
      "metadata": {
        "id": "CyANtCt891Xv"
      }
    }
  ]
}