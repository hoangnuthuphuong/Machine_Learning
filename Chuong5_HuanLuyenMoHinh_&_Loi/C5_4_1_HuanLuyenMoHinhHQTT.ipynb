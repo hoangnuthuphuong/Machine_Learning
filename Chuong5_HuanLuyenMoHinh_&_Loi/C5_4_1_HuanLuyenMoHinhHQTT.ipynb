{
  "nbformat": 4,
  "nbformat_minor": 0,
  "metadata": {
    "colab": {
      "provenance": [],
      "mount_file_id": "1saMHjsbotHnJIKa8TmbLdHfnp0GkzWyL",
      "authorship_tag": "ABX9TyMMlQDE5f3pX0s318MFz1Sm",
      "include_colab_link": true
    },
    "kernelspec": {
      "name": "python3",
      "display_name": "Python 3"
    },
    "language_info": {
      "name": "python"
    }
  },
  "cells": [
    {
      "cell_type": "markdown",
      "metadata": {
        "id": "view-in-github",
        "colab_type": "text"
      },
      "source": [
        "<a href=\"https://colab.research.google.com/github/hoangnuthuphuong/Machine_Learning/blob/main/Chuong5_HuanLuyenMoHinh_%26_Loi/C5_4_1_HuanLuyenMoHinhHQTT.ipynb\" target=\"_parent\"><img src=\"https://colab.research.google.com/assets/colab-badge.svg\" alt=\"Open In Colab\"/></a>"
      ]
    },
    {
      "cell_type": "markdown",
      "source": [
        "# **Bài 1**\n",
        "Thư viện [scikit-learn](https://scikit-learn.org/stable/) của Python là thư viện chuyên dụng dành\n",
        "cho Học máy (Machine learning). Trong bài tập này, bạn học cách sử dụng hàm train_test_split để thực hiện chia tập dữ liệu ban đầu thành các tập dữ liệu huấn luyện.\n",
        "Cho tập dữ liệu ban đầu $D = ((X, y)| X ∈ R^{m×n}, y ∈ R^m )$\n",
        "Hãy chia D thành tập dữ liệu huấn luyện (training test) và tập dữ liệu kiểm thử (test set) theo tỉ lệ lần lượt là 70% và 30%.\n",
        "$$D_{train} = [(X_{train}, y_{train})| X_{train} ∈ R^{m×n}, y_{train} ∈ R^m]$$\n",
        "$$D_{test} = [(X_{test}, y_{test})| X_{test} ∈ R^{m×n}, y_{test} ∈ R^m]$$\n",
        "Hãy sử dụng các tập dữ liệu:\n",
        "- ex1data1.txt và ex1data2.txt\n",
        "\n",
        "Tham khảo cú pháp hàm **train_test_split** tại đây: [link](https://scikit-learn.org/stable/modules/generated/sklearn.model_selection.train_test_split.html)"
      ],
      "metadata": {
        "id": "aYhbjYiG5Ejs"
      }
    },
    {
      "cell_type": "code",
      "source": [
        "import numpy as np\n",
        "import os"
      ],
      "metadata": {
        "id": "rznSlPdi6No9"
      },
      "execution_count": 3,
      "outputs": []
    },
    {
      "cell_type": "code",
      "execution_count": 51,
      "metadata": {
        "colab": {
          "base_uri": "https://localhost:8080/"
        },
        "id": "VNQa3FPbtlud",
        "outputId": "128ebd9b-40b1-4541-f2a0-d12c72b269ed"
      },
      "outputs": [
        {
          "output_type": "stream",
          "name": "stdout",
          "text": [
            "Size of training set\n",
            "X train: (32, 2)\n",
            "y train (32,)\n",
            "\n",
            "Size of test set\n",
            "X test: (15, 2)\n",
            "y test: (15,)\n"
          ]
        }
      ],
      "source": [
        "def readData(folder, filename, delimiter= \",\"):\n",
        "    D = np.loadtxt(os.path.join(folder, filename), delimiter=delimiter)\n",
        "    X = D[:, :-1]\n",
        "    y = D[:, -1]\n",
        "    return X, y\n",
        "\n",
        "def split_train_test(X, y, test_size, random_state = None):\n",
        "    from sklearn.model_selection import train_test_split\n",
        "    X_train, X_test, y_train, y_test = train_test_split(X, y, test_size=test_size, random_state = random_state)\n",
        "    return X_train, X_test, y_train, y_test\n",
        "\n",
        "def print_train_test(X_train, X_test, y_train, y_test):\n",
        "    print(\"Size of training set\\nX train:\",X_train.shape)\n",
        "    print(\"y train\", y_train.shape)\n",
        "    print(\"\\nSize of test set\\nX test:\",X_test.shape)\n",
        "    print(\"y test:\" ,y_test.shape)\n",
        "\n",
        "def main():\n",
        "    X, y = readData(\"/content/drive/MyDrive/Classroom/Học máy 1 Phần cơ sở\",\"ex1data2.txt\")\n",
        "    X_train, X_test, y_train, y_test =  split_train_test(X, y, test_size = 0.3, random_state=4)\n",
        "    print_train_test(X_train, X_test, y_train, y_test)\n",
        "\n",
        "if __name__ == \"__main__\":\n",
        "    main()"
      ]
    },
    {
      "cell_type": "code",
      "source": [],
      "metadata": {
        "id": "hx-2gqZd6L7l"
      },
      "execution_count": null,
      "outputs": []
    },
    {
      "cell_type": "markdown",
      "source": [
        "# **Bài 2**\n",
        "Sử dụng phương pháp chia train-test ở bài 1 để thực hiện huấn\n",
        "luyện và kiểm thử mô hình Hồi quy tuyến tính mà bạn đã lập trình ở Bài học trước.\n",
        "Lưu ý:\n",
        "- Sử dụng tập dữ liệu ex1data1.txt và ex1data2.txt;\n",
        "- Cần thêm vector cột có giá trị 1 vào tập X_train và X_test;\n",
        "- Cần chuyển y_train và y_test thành vector cột dạng ma trận\n",
        "$R^{m×1}$ cho phù hợp với mô tả toán học của bài học trước;\n",
        "- Thực hiện **chuẩn hóa dữ liệu** với X_train và X_test,\n",
        "y_train và y_test;\n",
        "- Đánh giá hiệu năng của mô hình hồi quy tuyến tính bằng\n",
        "các chỉ số:\n",
        "\n",
        "o $$MSE = \\frac{1}{m} ∑(y − y_{predict})^2$$\n",
        "\n",
        "o $$RMSE = √MSE$$"
      ],
      "metadata": {
        "id": "Ezko7EXp8ViE"
      }
    },
    {
      "cell_type": "code",
      "source": [
        "import os\n",
        "import numpy as np\n",
        "from sklearn.model_selection import train_test_split\n",
        "from sklearn.metrics import mean_squared_error"
      ],
      "metadata": {
        "id": "9TUp46AO9HNm"
      },
      "execution_count": 14,
      "outputs": []
    },
    {
      "cell_type": "code",
      "source": [
        "def readData(folder , filename):\n",
        "    data = np.loadtxt(os.path.join(folder, filename), delimiter = ',')\n",
        "    X = data[:, :-1]\n",
        "    y = data[:, -1].reshape(-1, 1)\n",
        "    one = np.ones((X.shape[0], 1))\n",
        "    X = np.concatenate((one, X), axis = 1)\n",
        "    return X, y"
      ],
      "metadata": {
        "id": "H-1Mu0Q_9IcU"
      },
      "execution_count": 15,
      "outputs": []
    },
    {
      "cell_type": "code",
      "source": [
        "def normScaling(X, y):\n",
        "  for col in range(1, X.shape[1]):\n",
        "    temp = X[:, col]\n",
        "    X[:, col] = (temp - np.min(temp)) / (np.max(temp) - np.min(temp))\n",
        "  temp = y[:, 0]\n",
        "  y[:, 0] = (temp - np.min(temp)) / (np.max(temp) - np.min(temp))"
      ],
      "metadata": {
        "id": "02w6gFUl9JrA"
      },
      "execution_count": 16,
      "outputs": []
    },
    {
      "cell_type": "code",
      "source": [
        "def standardScaling(X, y):\n",
        "  for col in range(1, X.shape[1]):\n",
        "    temp = X[:, col]\n",
        "    X[:, col] = (temp - np.mean(temp)) / (np.std(temp))\n",
        "  temp = y[:, 0]\n",
        "  y[:, 0] = (temp - np.mean(temp)) / (np.std(temp))"
      ],
      "metadata": {
        "id": "NIANfLeN9K42"
      },
      "execution_count": 17,
      "outputs": []
    },
    {
      "cell_type": "code",
      "source": [
        "def predict(X, w):\n",
        "    return np.dot(X, w)"
      ],
      "metadata": {
        "id": "xaQ2MbMq9Mly"
      },
      "execution_count": 18,
      "outputs": []
    },
    {
      "cell_type": "code",
      "source": [
        "def calculateLoss(X, y, w):\n",
        "    h = np.dot(X, w)\n",
        "    m = X.shape[0]\n",
        "    J = (1/ (2*m)) * np.sum(np.square(h-y))\n",
        "    return J"
      ],
      "metadata": {
        "id": "4vWdCMhA9OAY"
      },
      "execution_count": 19,
      "outputs": []
    },
    {
      "cell_type": "code",
      "source": [
        "def gradient(X, y, w):\n",
        "    m = X.shape[0]\n",
        "    h = np.dot(X, w)\n",
        "    return (1/m) * np.dot(X.T, h - y)"
      ],
      "metadata": {
        "id": "mSbUYXLe9Pdb"
      },
      "execution_count": 20,
      "outputs": []
    },
    {
      "cell_type": "code",
      "source": [
        "def gradientDescent(X, y, w_init, alpha, n = 1500):\n",
        "    w_optimal = w_init.reshape(-1, 1)\n",
        "    loss_values = []\n",
        "    for i in range(n):\n",
        "        w_optimal = w_optimal - alpha * gradient(X, y, w_optimal)\n",
        "        j = calculateLoss(X, y, w_optimal)\n",
        "        loss_values.append(j)\n",
        "    return w_optimal, loss_values"
      ],
      "metadata": {
        "id": "2iTB_wGa9Q3C"
      },
      "execution_count": 21,
      "outputs": []
    },
    {
      "cell_type": "code",
      "source": [
        "def main():\n",
        "\n",
        "    # Đọc dữ liệu\n",
        "    X, y = readData(\"/content/drive/MyDrive/Classroom/Học máy 1 Phần cơ sở\",\"ex1data2.txt\")\n",
        "\n",
        "    # Chia tập dữ liệu thành training set và test set\n",
        "    X_train, X_test, y_train, y_test = train_test_split(X, y, test_size=0.3,\n",
        "                                                        random_state = 5)\n",
        "    # Chuẩn hóa dữ liệu\n",
        "    standardScaling(X_train, y_train)\n",
        "    standardScaling(X_test, y_test)\n",
        "\n",
        "    # Huấn luyện mô hình bằng gradient descent\n",
        "    w_init = np.zeros((X_train.shape[1], 1))\n",
        "    w_opt, loss = gradientDescent(X=X_train,y=y_train, \n",
        "                                           w_init=w_init, alpha=0.01, n=1500)\n",
        "    \n",
        "    # Dự đoán\n",
        "    y_pred = predict(X_test, w_opt)\n",
        "\n",
        "    # Đánh giá hiệu năng của mô hình\n",
        "    print(\"ĐÁNH GIÁ HIỆU NĂNG MÔ HÌNH\\n\")\n",
        "    print(\"\\tMSE: \",mean_squared_error(y_test, y_pred))\n",
        "    print(\"\\tRMSE: \",mean_squared_error(y_test, y_pred) ** (1/2))\n",
        "if __name__ == \"__main__\":\n",
        "    main()"
      ],
      "metadata": {
        "colab": {
          "base_uri": "https://localhost:8080/"
        },
        "id": "F7uQKW418_ZO",
        "outputId": "173229f7-0dc4-4fb0-b2c9-676838653636"
      },
      "execution_count": 23,
      "outputs": [
        {
          "output_type": "stream",
          "name": "stdout",
          "text": [
            "ĐÁNH GIÁ HIỆU NĂNG MÔ HÌNH\n",
            "\n",
            "\tMSE:  0.6538354415916037\n",
            "\tRMSE:  0.8086009161456619\n"
          ]
        }
      ]
    },
    {
      "cell_type": "code",
      "source": [],
      "metadata": {
        "id": "CdSMpsxy9g9M"
      },
      "execution_count": null,
      "outputs": []
    },
    {
      "cell_type": "markdown",
      "source": [
        "# **Bài 3**\n",
        "Giải lại bài 2 với yêu cầu sau:\n",
        "- Thay thuật toán tối ưu Gradient Descent bằng 2 – 3 thuật toán tối ưu khác;\n",
        "- So sánh hiệu năng của mô hình **hồi quy tuyến tính** được huấn luyện bởi các thuật toán tối ưu khác nhau này."
      ],
      "metadata": {
        "id": "q12zlviT925G"
      }
    },
    {
      "cell_type": "code",
      "source": [
        "import os\n",
        "import numpy as np\n",
        "from scipy import optimize\n",
        "from sklearn.model_selection import train_test_split\n",
        "from sklearn.metrics import mean_squared_error"
      ],
      "metadata": {
        "id": "_dY5ltMk-DQq"
      },
      "execution_count": 54,
      "outputs": []
    },
    {
      "cell_type": "code",
      "source": [
        "def readData(folder , filename):\n",
        "    data = np.loadtxt(os.path.join(folder, filename), delimiter = ',')\n",
        "    X = data[:, :-1]\n",
        "    y = data[:, -1]\n",
        "    one = np.ones((X.shape[0], 1))\n",
        "    X = np.concatenate((one, X), axis = 1)\n",
        "    return X, y"
      ],
      "metadata": {
        "id": "47r7a8fQ-Ef6"
      },
      "execution_count": 55,
      "outputs": []
    },
    {
      "cell_type": "code",
      "source": [
        "def normScaling(X, y):\n",
        "    for col in range(1, X.shape[1]):\n",
        "        temp = X[:, col]\n",
        "        X[:, col] = (temp - np.min(temp)) / (np.max(temp) - np.min(temp))\n",
        "    temp = y\n",
        "    y = (temp - np.min(temp)) / (np.max(temp) - np.min(temp))\n",
        "    return X,y"
      ],
      "metadata": {
        "id": "a1F8rWD3-Fmp"
      },
      "execution_count": 56,
      "outputs": []
    },
    {
      "cell_type": "code",
      "source": [
        "def standardScaling(X, y):\n",
        "    for col in range(1, X.shape[1]):\n",
        "        temp = X[:, col]\n",
        "        X[:, col] = (temp - np.mean(temp)) / (np.std(temp))\n",
        "    temp = y\n",
        "    y = (temp - np.mean(temp)) / (np.std(temp))\n",
        "    return X,y"
      ],
      "metadata": {
        "id": "p2iP-Yve-Gry"
      },
      "execution_count": 57,
      "outputs": []
    },
    {
      "cell_type": "code",
      "source": [
        "def predict(X, w):\n",
        "    w = np.array(w)\n",
        "    return np.dot(X, w)"
      ],
      "metadata": {
        "id": "f5r2o-oc-HrY"
      },
      "execution_count": 58,
      "outputs": []
    },
    {
      "cell_type": "code",
      "source": [
        "def costFunction(w, X, y):\n",
        "    m = X.shape[0]\n",
        "    h_w = np.dot(X, w)\n",
        "    J_w = (1/ (2*m)) * (np.sum(np.square(h_w - y)))\n",
        "    return J_w"
      ],
      "metadata": {
        "id": "8CldSWs3-KoF"
      },
      "execution_count": 59,
      "outputs": []
    },
    {
      "cell_type": "code",
      "source": [
        "def linearRegression(X, y, w_init, method, iterations):\n",
        "    result = optimize.minimize(fun=costFunction, x0=w_init, args=(X,y),\n",
        "                               method= method,\n",
        "                               options={\"maxiter\":iterations})\n",
        "    return result.x, result.fun"
      ],
      "metadata": {
        "id": "EhCltc7j-LwW"
      },
      "execution_count": 60,
      "outputs": []
    },
    {
      "cell_type": "code",
      "source": [
        "def sosanh(X_train, y_train, X_test, y_test, algorithms):\n",
        "    w_init = np.zeros((X_train.shape[1], 1))\n",
        "    result = {}\n",
        "    for algorithm in algorithms:\n",
        "        w, loss = linearRegression(X_train, y_train, w_init, method = algorithm, iterations=1500)\n",
        "        y_pred = predict(X_test, w)\n",
        "        result[algorithm] = mean_squared_error(y_pred, y_test)\n",
        "    return result"
      ],
      "metadata": {
        "id": "AeI9NVd9-NTj"
      },
      "execution_count": 61,
      "outputs": []
    },
    {
      "cell_type": "code",
      "source": [
        "def main():\n",
        "    # Đọc dữ liệu\n",
        "    X, y = readData(\"/content/drive/MyDrive/Classroom/Học máy 1 Phần cơ sở\",\"ex1data2.txt\")\n",
        "\n",
        "    # Tách dữ liệu thành training set và test set\n",
        "    X_train, X_test, y_train, y_test = train_test_split(X, y, test_size=0.3,\n",
        "                                                        random_state = 5)\n",
        "\n",
        "    # Chuẩn hóa dữ liệu\n",
        "    X_train, y_train = standardScaling(X_train, y_train)\n",
        "    X_test, y_test = standardScaling(X_test, y_test)\n",
        "\n",
        "    # Huấn luyện mô hình và so sánh mô hình\n",
        "    '''Các thuật toán tối ưu:\n",
        "    TNC, BFGS, L-BFGS-B, Nelder-Mead, Powell, CG, Newton-CG, COBYLA, SLSQP, ...'''\n",
        "    print(sosanh(X_train, y_train, X_test, y_test, ['TNC']))\n",
        "    print(sosanh(X_train, y_train, X_test, y_test, ['BFGS']))\n",
        "    print(sosanh(X_train, y_train, X_test, y_test, ['L-BFGS-B']))\n",
        "    print(sosanh(X_train, y_train, X_test, y_test, ['Nelder-Mead']))\n",
        "    print(sosanh(X_train, y_train, X_test, y_test, ['Powell']))\n",
        "    print(sosanh(X_train, y_train, X_test, y_test, ['CG']))\n",
        "    print(sosanh(X_train, y_train, X_test, y_test, ['COBYLA']))\n",
        "    print(sosanh(X_train, y_train, X_test, y_test, ['SLSQP']))\n",
        "\n",
        "if __name__ == \"__main__\":\n",
        "    main()"
      ],
      "metadata": {
        "colab": {
          "base_uri": "https://localhost:8080/"
        },
        "id": "Hzyk-c4k9_7B",
        "outputId": "5bc98aad-3cb8-47dc-efd7-27f63c2d47bb"
      },
      "execution_count": 62,
      "outputs": [
        {
          "output_type": "stream",
          "name": "stdout",
          "text": [
            "{'TNC': 0.6544785053130724}\n",
            "{'BFGS': 0.6544768338984753}\n",
            "{'L-BFGS-B': 0.6544721718846284}\n",
            "{'Nelder-Mead': 0.6544830976277491}\n",
            "{'Powell': 0.6544763491532396}\n",
            "{'CG': 0.6544763773572926}\n",
            "{'COBYLA': 0.6544590980052232}\n",
            "{'SLSQP': 0.6543767674435049}\n"
          ]
        }
      ]
    },
    {
      "cell_type": "code",
      "source": [],
      "metadata": {
        "id": "jdJwYdpH-REm"
      },
      "execution_count": 62,
      "outputs": []
    },
    {
      "cell_type": "markdown",
      "source": [
        "# **Bài 4**\n",
        "Thư viện scikit-learn cung cấp mô hình [LinearRegression](https://scikit-learn.org/stable/modules/generated/sklearn.linear_model.LinearRegression.html) để phục vụ xây dựng các mô hình hồi quy tuyến tính. Hãy sử dụng mô hình **LinearRegression** để giải bài tập 2.\n",
        "\n",
        "Lưu ý:\n",
        "- Xét trường hợp có thêm vector cột giá trị 1 vào X\n",
        "- Xét trường hợp không thêm vector cột giá trị 1 vào X\n",
        "- Đánh giá hiệu năng của mô hình bằng $MSE$ và/hoặc $RMSE$"
      ],
      "metadata": {
        "id": "sibbj2Ir_wBm"
      }
    },
    {
      "cell_type": "code",
      "source": [
        "import os\n",
        "import numpy as np\n",
        "from sklearn.model_selection import train_test_split\n",
        "from sklearn.metrics import mean_squared_error\n",
        "from sklearn.linear_model import LinearRegression"
      ],
      "metadata": {
        "id": "vagsc9m-AEXz"
      },
      "execution_count": 63,
      "outputs": []
    },
    {
      "cell_type": "code",
      "source": [
        "def readData(folder , filename):\n",
        "    data = np.loadtxt(os.path.join(folder, filename), delimiter = ',')\n",
        "    X = data[:, :-1]\n",
        "    y = data[:, -1].reshape(-1, 1)\n",
        "    one = np.ones((X.shape[0], 1))\n",
        "    X = np.concatenate((one, X), axis = 1)\n",
        "    return X, y"
      ],
      "metadata": {
        "id": "m6EFXLpPAFjs"
      },
      "execution_count": 64,
      "outputs": []
    },
    {
      "cell_type": "code",
      "source": [
        "def normScaling(X, y):\n",
        "  for col in range(1, X.shape[1]):\n",
        "    temp = X[:, col]\n",
        "    X[:, col] = (temp - np.min(temp)) / (np.max(temp) - np.min(temp))\n",
        "  temp = y[:, 0]\n",
        "  y[:, 0] = (temp - np.min(temp)) / (np.max(temp) - np.min(temp))"
      ],
      "metadata": {
        "id": "snV5ZJ3hAG79"
      },
      "execution_count": 65,
      "outputs": []
    },
    {
      "cell_type": "code",
      "source": [
        "def standardScaling(X, y):\n",
        "  for col in range(1, X.shape[1]):\n",
        "    temp = X[:, col]\n",
        "    X[:, col] = (temp - np.mean(temp)) / (np.std(temp))\n",
        "  temp = y[:, 0]\n",
        "  y[:, 0] = (temp - np.mean(temp)) / (np.std(temp))"
      ],
      "metadata": {
        "id": "hAq58VwUAICq"
      },
      "execution_count": 66,
      "outputs": []
    },
    {
      "cell_type": "code",
      "source": [
        "def main():\n",
        "\n",
        "    # Đọc dữ liệu\n",
        "    X, y = readData(\"/content/drive/MyDrive/Classroom/Học máy 1 Phần cơ sở\",\"ex1data2.txt\")\n",
        "\n",
        "    # Chia tập dữ liệu thành training set và test set\n",
        "    X_train, X_test, y_train, y_test = train_test_split(X, y, test_size=0.3,\n",
        "                                                        random_state = 5)\n",
        "\n",
        "    # Chuẩn hóa dữ liệu\n",
        "    standardScaling(X_train, y_train)\n",
        "    standardScaling(X_test, y_test)\n",
        "\n",
        "    # Huấn luyện mô hình bằng gradient descent\n",
        "    regressor = LinearRegression()\n",
        "    regressor.fit(X_train, y_train)\n",
        "\n",
        "    # Dự đoán\n",
        "    y_pred = regressor.predict(X_test)\n",
        "\n",
        "    # Đánh giá hiệu năng của mô hình\n",
        "    print(\"ĐÁNH GIÁ HIỆU NĂNG MÔ HÌNH\\n\")\n",
        "    print(\"\\tMSE: \",mean_squared_error(y_test, y_pred))\n",
        "    print(\"\\tRMSE: \",mean_squared_error(y_test, y_pred) ** (1/2))\n",
        "if __name__ == \"__main__\":\n",
        "    main()"
      ],
      "metadata": {
        "colab": {
          "base_uri": "https://localhost:8080/"
        },
        "id": "wlAqi1d1_-kY",
        "outputId": "f14594d8-7392-4abf-c877-aee7b9e6a518"
      },
      "execution_count": 67,
      "outputs": [
        {
          "output_type": "stream",
          "name": "stdout",
          "text": [
            "ĐÁNH GIÁ HIỆU NĂNG MÔ HÌNH\n",
            "\n",
            "\tMSE:  0.6544763489045278\n",
            "\tRMSE:  0.8089971253994218\n"
          ]
        }
      ]
    },
    {
      "cell_type": "code",
      "source": [],
      "metadata": {
        "id": "O9ubxxahARKo"
      },
      "execution_count": 67,
      "outputs": []
    },
    {
      "cell_type": "markdown",
      "source": [
        "# **Bài 5**\n",
        "Thư viện **scikit-learn** cung cấp rất nhiều phương thức [tiền xử lý dữ liệu (preprocessing data)](https://scikit-learn.org/stable/modules/preprocessing.html), hãy giải lại bài 4 với yêu cầu bổ sung là:\n",
        "- Thực hiện chuẩn hóa dữ liệu bằng [StandardScaler](https://scikit-learn.org/stable/modules/generated/sklearn.preprocessing.StandardScaler.html#sklearn.preprocessing.StandardScaler);\n",
        "- Thực hiện chuẩn hóa dữ liệu bằng [MinMaxScaler](https://scikit-learn.org/stable/modules/generated/sklearn.preprocessing.MinMaxScaler.html)."
      ],
      "metadata": {
        "id": "H95BkBhiA49W"
      }
    },
    {
      "cell_type": "code",
      "source": [
        "import os\n",
        "import numpy as np\n",
        "from sklearn.model_selection import train_test_split\n",
        "from sklearn.metrics import mean_squared_error\n",
        "from sklearn.preprocessing import StandardScaler, MinMaxScaler\n",
        "from sklearn.linear_model import LinearRegression"
      ],
      "metadata": {
        "id": "ATzhBsAFBZPU"
      },
      "execution_count": 68,
      "outputs": []
    },
    {
      "cell_type": "code",
      "source": [
        "def readData(folder , filename):\n",
        "    data = np.loadtxt(os.path.join(folder, filename), delimiter = ',')\n",
        "    X = data[:, :-1]\n",
        "    y = data[:, -1].reshape(-1, 1)\n",
        "    one = np.ones((X.shape[0], 1))\n",
        "    X = np.concatenate((one, X), axis = 1)\n",
        "    return X, y"
      ],
      "metadata": {
        "id": "sNKIXC4SBawi"
      },
      "execution_count": 69,
      "outputs": []
    },
    {
      "cell_type": "code",
      "source": [
        "def featureScaling(X_train, X_test, y_train, y_test):\n",
        "    sc_X = StandardScaler()\n",
        "    sc_y = StandardScaler()\n",
        "    X_train[:, 1:] = sc_X.fit_transform(X_train[:, 1:])\n",
        "    X_test[:, 1:] = sc_X.transform(X_test[:, 1:])\n",
        "    y_train = sc_y.fit_transform(y_train)\n",
        "    y_test = sc_y.transform(y_test)\n",
        "    return X_train, X_test, y_train, y_test"
      ],
      "metadata": {
        "id": "1k2Uq8pjBbtD"
      },
      "execution_count": 70,
      "outputs": []
    },
    {
      "cell_type": "code",
      "source": [
        "def main():\n",
        "\n",
        "    # Đọc dữ liệu\n",
        "    X, y = readData(\"/content/drive/MyDrive/Classroom/Học máy 1 Phần cơ sở\",\"ex1data2.txt\")\n",
        "\n",
        "    # Chia tập dữ liệu thành training set và test set\n",
        "    X_train, X_test, y_train, y_test = train_test_split(X, y, test_size=0.3,\n",
        "                                                        random_state = 5)\n",
        "\n",
        "    # Chuẩn hóa dữ liệu\n",
        "    X_train, X_test, y_train, y_test = featureScaling(X_train, X_test, y_train, y_test)\n",
        "\n",
        "    # Huấn luyện mô hình bằng gradient descent\n",
        "    regressor = LinearRegression()\n",
        "    regressor.fit(X_train, y_train)\n",
        "\n",
        "    # Dự đoán\n",
        "    y_pred = regressor.predict(X_test)\n",
        "\n",
        "    # Đánh giá hiệu năng của mô hình\n",
        "    print(\"ĐÁNH GIÁ HIỆU NĂNG MÔ HÌNH\\n\")\n",
        "    print(\"\\tMSE: \",mean_squared_error(y_test, y_pred))\n",
        "    print(\"\\tRMSE: \",mean_squared_error(y_test, y_pred) ** (1/2))\n",
        "if __name__ == \"__main__\":\n",
        "    main()"
      ],
      "metadata": {
        "colab": {
          "base_uri": "https://localhost:8080/"
        },
        "id": "1-OatBLsBSX5",
        "outputId": "e4c0aeb4-af6b-4a98-e942-bef2bc98d303"
      },
      "execution_count": 73,
      "outputs": [
        {
          "output_type": "stream",
          "name": "stdout",
          "text": [
            "ĐÁNH GIÁ HIỆU NĂNG MÔ HÌNH\n",
            "\n",
            "\tMSE:  0.4624503534238562\n",
            "\tRMSE:  0.6800370235684644\n"
          ]
        }
      ]
    },
    {
      "cell_type": "code",
      "source": [],
      "metadata": {
        "id": "JVysvqXYBhO4"
      },
      "execution_count": 71,
      "outputs": []
    },
    {
      "cell_type": "markdown",
      "source": [
        "# **Bài 6**\n",
        "Thư viện scikit-learn cung cấp cách thức thực hiện [cross-validation](https://scikit-learn.org/stable/modules/cross_validation.html). Hãy giải lại bài tập 5 với yêu cầu bổ sung là thực hiện 10-fold cross-validation cho quá trình huấn luyện mô hình.\n",
        "Gợi ý:\n",
        "- Sử dụng StandardScaler/MinMaxScaler và mô hình LinearRegression;\n",
        "- Tạo [10-fold cross validation](https://scikit-learn.org/stable/modules/generated/sklearn.model_selection.KFold.html);\n",
        "- Thực hiện huấn luyện mô hình với [cross_validate](https://scikit-learn.org/stable/modules/generated/sklearn.model_selection.cross_validate.html);\n",
        "- Hoặc thực hiện huấn luyenj mô hình với [cross_val_score](https://scikit-learn.org/stable/modules/generated/sklearn.model_selection.cross_val_score.html);\n",
        "- Sử dụng [cross_val_predict](https://scikit-learn.org/stable/modules/generated/sklearn.model_selection.cross_val_predict.html#sklearn.model_selection.cross_val_predict) để dự đoán."
      ],
      "metadata": {
        "id": "3_PV4kxEBvHO"
      }
    },
    {
      "cell_type": "code",
      "source": [
        "import os\n",
        "import numpy as np\n",
        "from sklearn.preprocessing import StandardScaler\n",
        "from sklearn.model_selection import train_test_split, KFold, cross_val_predict\n",
        "from sklearn.metrics import mean_squared_error\n",
        "from sklearn.linear_model import LinearRegression\n",
        "from sklearn import datasets, linear_model"
      ],
      "metadata": {
        "id": "3hl9gOwjCeHa"
      },
      "execution_count": 82,
      "outputs": []
    },
    {
      "cell_type": "code",
      "source": [
        "def readData(folder , filename):\n",
        "    data = np.loadtxt(os.path.join(folder, filename), delimiter = ',')\n",
        "    X = data[:, :-1]\n",
        "    y = data[:, -1].reshape(-1, 1)\n",
        "    one = np.ones((X.shape[0], 1))\n",
        "    X = np.concatenate((one, X), axis = 1)\n",
        "    return X, y"
      ],
      "metadata": {
        "id": "wfNZXKinCeB2"
      },
      "execution_count": 75,
      "outputs": []
    },
    {
      "cell_type": "code",
      "source": [
        "def featureScalingSplit(X, y):\n",
        "    X_train, X_test, y_train, y_test = train_test_split(X, y, test_size=0.3, random_state=15)\n",
        "    sc_X = StandardScaler()\n",
        "    sc_y = StandardScaler()\n",
        "    X_train[:, 1:] = sc_X.fit_transform(X_train[:, 1:])\n",
        "    X_test[:, 1:] = sc_X.transform(X_test[:, 1:])\n",
        "    y_train = sc_y.fit_transform(y_train)\n",
        "    y_test = sc_y.transform(y_test)\n",
        "    return X_train, X_test, y_train, y_test"
      ],
      "metadata": {
        "id": "pS34cnkkChkn"
      },
      "execution_count": 76,
      "outputs": []
    },
    {
      "cell_type": "code",
      "source": [
        "def kFoldCrossValiation(X_train, y_train):\n",
        "    kf = KFold(n_splits=10)\n",
        "    step = 0\n",
        "    valitdate_models = {}\n",
        "    for train2_index, val_index in kf.split(X = X_train,y = y_train):\n",
        "        step = step + 1\n",
        "        regressor = LinearRegression()\n",
        "        X_train2, X_val = X_train[train2_index], X_train[val_index]\n",
        "        y_train2, y_val = y_train[train2_index], y_train[val_index]\n",
        "        regressor.fit(X_train2, y_train2)\n",
        "        y_pred = regressor.predict(X_val)\n",
        "        valitdate_models[mean_squared_error(y_val, y_pred)] =  regressor\n",
        "    min_error = min(list(valitdate_models.keys()))\n",
        "    return valitdate_models[min_error]"
      ],
      "metadata": {
        "id": "QHxiMcz9Ci6b"
      },
      "execution_count": 77,
      "outputs": []
    },
    {
      "cell_type": "code",
      "source": [
        "def validateTestSet(X_test, y_test, regressor):\n",
        "    print(\"\\nĐánh giá hiệu năng mô hình trên tập dữ liệu test:\")\n",
        "    y_pred = regressor.predict(X_test)\n",
        "    print(\"\\tMSE: \", mean_squared_error(y_test, y_pred))\n",
        "    return mean_squared_error(y_test, y_pred)"
      ],
      "metadata": {
        "id": "hacuCN8uCkDp"
      },
      "execution_count": 88,
      "outputs": []
    },
    {
      "cell_type": "code",
      "source": [
        "def main():\n",
        "    # Đọc dữ liệu\n",
        "    X, y = readData(\"/content/drive/MyDrive/Classroom/Học máy 1 Phần cơ sở\",\"ex1data2.txt\")\n",
        "\n",
        "    # Chuẩn hóa dữ liệu\n",
        "    X_train, X_test, y_train, y_test = featureScalingSplit(X, y)\n",
        "\n",
        "    # Huấn luyện mô hình bằng k-Fold Cross Valiation\n",
        "    regressor = kFoldCrossValiation(X_train, y_train)\n",
        "\n",
        "    # Dự đoán bằng cross_val_predict\n",
        "    lasso = linear_model.Lasso()\n",
        "    y_pred = cross_val_predict(lasso, X, y, cv=3)\n",
        "    print(\"y predict:\\n\",y_pred)    \n",
        "    \n",
        "    # Đánh giá hiệu năng\n",
        "    print(\"\\tRMSE: \",validateTestSet(X_test, y_test, regressor) ** (1/2))\n",
        "    \n",
        "if __name__ == \"__main__\":\n",
        "    main()"
      ],
      "metadata": {
        "colab": {
          "base_uri": "https://localhost:8080/"
        },
        "id": "0t01oXyoCV-5",
        "outputId": "d939429f-a4e1-4842-942b-687c5141d40e"
      },
      "execution_count": 89,
      "outputs": [
        {
          "output_type": "stream",
          "name": "stdout",
          "text": [
            "y predict:\n",
            " [355003.82159671 289976.59074315 393194.41749484 276807.33310223\n",
            " 460036.94504663 329079.32735543 281461.12003613 267655.7357081\n",
            " 261591.68838643 276300.22869855 323273.32460064 341585.50411899\n",
            " 327393.05294064 640161.03745841 247141.1926412  369721.3466389\n",
            " 271277.42416899 229268.34071173 404459.84241702 467369.00297886\n",
            " 308426.5498547  355951.36539914 284127.51390309 308009.06781154\n",
            " 624910.31258642 208994.29844535 262362.73323478 421573.5945619\n",
            " 372975.52265867 438120.79082342 348646.74722964 253060.67618791\n",
            " 360384.60317874 506519.80321264 327978.18499773 265948.13986016\n",
            " 237928.61671676 373403.77554841 668174.81952676 377649.15784286\n",
            " 288967.25335485 379299.84712212 434961.81881801 232409.61973397\n",
            " 174058.90591826 333780.20746682 232834.15796341]\n",
            "\n",
            "Đánh giá hiệu năng mô hình trên tập dữ liệu test:\n",
            "\tMSE:  0.450781591633674\n",
            "\tRMSE:  0.671402704517694\n"
          ]
        }
      ]
    },
    {
      "cell_type": "code",
      "source": [],
      "metadata": {
        "id": "smDBuC98DApz"
      },
      "execution_count": null,
      "outputs": []
    }
  ]
}