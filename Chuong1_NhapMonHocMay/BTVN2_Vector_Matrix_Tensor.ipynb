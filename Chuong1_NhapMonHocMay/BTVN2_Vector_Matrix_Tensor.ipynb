{
  "nbformat": 4,
  "nbformat_minor": 0,
  "metadata": {
    "colab": {
      "provenance": [],
      "collapsed_sections": [],
      "authorship_tag": "ABX9TyNQ1xPxYEweT4QWIchveEj4",
      "include_colab_link": true
    },
    "kernelspec": {
      "name": "python3",
      "display_name": "Python 3"
    },
    "language_info": {
      "name": "python"
    }
  },
  "cells": [
    {
      "cell_type": "markdown",
      "metadata": {
        "id": "view-in-github",
        "colab_type": "text"
      },
      "source": [
        "<a href=\"https://colab.research.google.com/github/hoangnuthuphuong/Machine_Learning/blob/main/Chuong1_NhapMonHocMay/BTVN2_Vector_Matrix_Tensor.ipynb\" target=\"_parent\"><img src=\"https://colab.research.google.com/assets/colab-badge.svg\" alt=\"Open In Colab\"/></a>"
      ]
    },
    {
      "cell_type": "code",
      "source": [
        "import numpy as np"
      ],
      "metadata": {
        "id": "oGb32RkfTsf9"
      },
      "execution_count": null,
      "outputs": []
    },
    {
      "cell_type": "markdown",
      "source": [
        "# **CÁC PHÉP TOÁN VỚI VECTOR**|"
      ],
      "metadata": {
        "id": "HP7Jxl1HZMEQ"
      }
    },
    {
      "cell_type": "markdown",
      "source": [
        "Phép cộng 2 vector $x,y ∈ R^n$\n",
        "\n",
        "> $f(x, y): R^n + R^n → R^n$\n",
        "\n",
        "> $ f(x,y) = x + y, ∀x,y ∈ R^n$\n",
        "\n",
        "$\n",
        "\\begin{bmatrix}\n",
        "x_0 \\\\\n",
        "x_1 \\\\ \n",
        "\\ldots \\\\\n",
        "x_{n-1}\\\\\n",
        "\\end{bmatrix}$ + \n",
        "$\\begin{bmatrix}\n",
        "y_0 \\\\\n",
        "y_1 \\\\ \n",
        "\\ldots \\\\\n",
        "y_{n-1}\\\\\n",
        "\\end{bmatrix}$ =\n",
        "$\\begin{bmatrix}\n",
        "x_0+y_0 \\\\\n",
        "x_1+y_1 \\\\ \n",
        "\\ldots \\\\\n",
        "x_{n-1}+y_{n-1}\\\\\n",
        "\\end{bmatrix}$\n",
        "\n",
        "Ví dụ:\n",
        "$\\begin{bmatrix}\n",
        "1\\\\\n",
        "2\\\\\n",
        "3\n",
        "\\end{bmatrix}$ +\n",
        "$\\begin{bmatrix}\n",
        "1\\\\\n",
        "2\\\\\n",
        "3\n",
        "\\end{bmatrix}$ =\n",
        "$\\begin{bmatrix}\n",
        "2\\\\\n",
        "4\\\\\n",
        "6\n",
        "\\end{bmatrix}$\n",
        "\n",
        "\n"
      ],
      "metadata": {
        "id": "IImQ3AR-jB99"
      }
    },
    {
      "cell_type": "code",
      "execution_count": null,
      "metadata": {
        "colab": {
          "base_uri": "https://localhost:8080/"
        },
        "id": "U-s7s3sRS8kN",
        "outputId": "f6ed6fcb-fd06-4eee-fd3b-229c2a00b9a6"
      },
      "outputs": [
        {
          "output_type": "stream",
          "name": "stdout",
          "text": [
            "[6 5 5 5]\n",
            "1\n",
            "(4,)\n"
          ]
        }
      ],
      "source": [
        "# Cộng 2 vector (ndarray 1 chiều) trong Python \n",
        "x = np.array([1,2,3,4]) \n",
        "y = np.array([5,3,2,1]) \n",
        "z = x + y \n",
        "print(z) \n",
        "print(z.ndim) \n",
        "print(z.shape)"
      ]
    },
    {
      "cell_type": "markdown",
      "source": [
        "Phép nhân 1 đại lượng vô hướng với 1 vector: $λ ∈ R, x ∈ R:$\n",
        "> $f(λ,x): R^n → R^n$\n",
        "\n",
        "$λ.\\begin{bmatrix}\n",
        "x_0 \\\\\n",
        "x_1 \\\\ \n",
        "\\ldots \\\\\n",
        "x_{n-1}\\\\\n",
        "\\end{bmatrix}$ =\n",
        "$\\begin{bmatrix}\n",
        "λ.x_0 \\\\\n",
        "λ.x_1 \\\\ \n",
        "\\ldots \\\\\n",
        "λ.x_{n-1}\\\\\n",
        "\\end{bmatrix}$\n"
      ],
      "metadata": {
        "id": "drJdefSgluJI"
      }
    },
    {
      "cell_type": "code",
      "source": [
        "# Phép nhân đại lượng vô hướng với vector trong Python x = np.array([1,2,3,4]) \n",
        "a = 15 \n",
        "z = a*x \n",
        "print(z) \n",
        "print(z.ndim) \n",
        "print(z.shape)"
      ],
      "metadata": {
        "colab": {
          "base_uri": "https://localhost:8080/"
        },
        "id": "o1mgaFtRTpkl",
        "outputId": "4aee5ad0-da42-44f3-9494-d8c0640800fc"
      },
      "execution_count": null,
      "outputs": [
        {
          "output_type": "stream",
          "name": "stdout",
          "text": [
            "[15 30 45 60]\n",
            "1\n",
            "(4,)\n"
          ]
        }
      ]
    },
    {
      "cell_type": "markdown",
      "source": [
        "Phép tích vô hướng 2 vector (thường gọi là **dot product**), $y ∈ R^n$\n",
        "\n",
        "> $f(x, y): R^n . R^n → R$\n",
        "\n",
        "> $f(x, y) = ∑_{i=1}^n x_i × y_i$\n",
        "\n",
        "Ví dụ:\n",
        "$\\begin{bmatrix}\n",
        "1\\\\\n",
        "2\\\\\n",
        "3\n",
        "\\end{bmatrix}$ +\n",
        "$\\begin{bmatrix}\n",
        "1\\\\\n",
        "2\\\\\n",
        "3\n",
        "\\end{bmatrix}$ = $1.1 + 2.2 + 3.3 = 14$"
      ],
      "metadata": {
        "id": "OZ1JsKAYnIL1"
      }
    },
    {
      "cell_type": "code",
      "source": [
        "# Tích vô hướng 2 vector (ndarray 1 chiều) trong Python x = np.array([1,2,3,4]) \n",
        "y = np.array([5,3,2,1]) \n",
        "x = np.array([1,2,3,4])\n",
        "z = np.dot(x,y) #hoặc z = x.dot(y) \n",
        "print(z) "
      ],
      "metadata": {
        "colab": {
          "base_uri": "https://localhost:8080/"
        },
        "id": "Qeu3haGOUg_g",
        "outputId": "e5378cfe-983a-4c2d-fe42-5efd1f55f46b"
      },
      "execution_count": null,
      "outputs": [
        {
          "output_type": "stream",
          "name": "stdout",
          "text": [
            "21\n"
          ]
        }
      ]
    },
    {
      "cell_type": "markdown",
      "source": [
        "Phép tích hữu hướng **(cross product)** 2 vector (lưu ý số chiều vector trong trường hợp này ≤ 3).\n",
        "\n",
        "$\\begin{bmatrix}\n",
        "x_1\\\\\n",
        "x_2\\\\\n",
        "x_3\n",
        "\\end{bmatrix}$ ⊗ $\\begin{bmatrix}\n",
        "y_1\\\\\n",
        "y_2\\\\\n",
        "y_3\n",
        "\\end{bmatrix}$ =\n",
        "$\\begin{bmatrix}{\n",
        "\\begin{vmatrix}\n",
        "x_1 & y_1\\\\\n",
        "x_2 & y_2\\\\\n",
        "\\end{vmatrix} \\\\\n",
        "\\begin{vmatrix}\n",
        "x_0 & y_0\\\\\n",
        "x_2 & y_2\\\\\n",
        "\\end{vmatrix} \\\\ \n",
        "\\begin{vmatrix}\n",
        "x_0 & y_0\\\\\n",
        "x_1 & y_1\\\\\n",
        "\\end{vmatrix}}\n",
        "\\end{bmatrix}$"
      ],
      "metadata": {
        "id": "crHARQ1hoJc-"
      }
    },
    {
      "cell_type": "code",
      "source": [
        "# Tích hữu hướng (cross product) 2 vector trong Python\n",
        "x = np.array([1,2,3])\n",
        "y = np.array([3,2,1])\n",
        "z = np.cross(x, y)\n",
        "print(z)\n",
        "print(z.ndim)\n",
        "print(z.shape)"
      ],
      "metadata": {
        "colab": {
          "base_uri": "https://localhost:8080/"
        },
        "id": "VUK4qvyqU3Gm",
        "outputId": "e8035ac7-0218-4e6a-f821-69ea86a9daf9"
      },
      "execution_count": null,
      "outputs": [
        {
          "output_type": "stream",
          "name": "stdout",
          "text": [
            "[-4  8 -4]\n",
            "1\n",
            "(3,)\n"
          ]
        }
      ]
    },
    {
      "cell_type": "markdown",
      "source": [
        "Phép nhân các phần tử có vị trí tương ứng (elementwise multiplication) 2 vector:\n",
        "> $f(x, y): R^n ∘ R^n → R^n$\n",
        "> $x°y = [x_0. y_0; x_1. y_1; ⋯ ; x_{n−1}. y_{n−1}]$\n",
        "\n",
        "Lưu ý: phép nhân này được sử dụng rất nhiều trong lĩnh vực Học\n",
        "máy và Học sâu."
      ],
      "metadata": {
        "id": "pzdwfn7MptIk"
      }
    },
    {
      "cell_type": "code",
      "source": [
        "# Phép nhân các phần tử có vị trí tương ứng - elementwise multiplication\n",
        "x = np.array([1,2,3,4])\n",
        "y = np.array([5,3,2,1])\n",
        "z = x*y #hoặc z = np.multiply(x, y)\n",
        "print(z)\n",
        "print(z.ndim)\n",
        "print(z.shape)"
      ],
      "metadata": {
        "colab": {
          "base_uri": "https://localhost:8080/"
        },
        "id": "OH2QYwhKXPmk",
        "outputId": "45dd8a19-21f9-4234-d5ca-da888cf2d671"
      },
      "execution_count": null,
      "outputs": [
        {
          "output_type": "stream",
          "name": "stdout",
          "text": [
            "[5 6 6 4]\n",
            "1\n",
            "(4,)\n"
          ]
        }
      ]
    },
    {
      "cell_type": "markdown",
      "source": [
        "# **CÁC PHÉP TOÁN VỚI MA TRẬN**"
      ],
      "metadata": {
        "id": "_wxqxUsDZSc4"
      }
    },
    {
      "cell_type": "markdown",
      "source": [
        "Phép cộng 2 ma trận $X,Y ∈ R^{m×n}:$\n",
        "> $f(X, Y): R^{m×n} → R^{m×n}$\n",
        "\n",
        "$\\begin{bmatrix}\n",
        "x_{11} & \\ldots & x_{1n}\\\\\n",
        "\\vdots & \\ddots & \\vdots \\\\ \n",
        "x_{m1} & \\ldots & x_{mn}\n",
        "\\end{bmatrix}$ + \n",
        "$\\begin{bmatrix}\n",
        "y_{11} & \\ldots & y_{1n}\\\\\n",
        "\\vdots & \\ddots & \\vdots \\\\ \n",
        "y_{m1} & \\ldots & y_{mn}\n",
        "\\end{bmatrix}$ = \n",
        "$\\begin{bmatrix}\n",
        "x_{11}+y_{11} & \\ldots & y_{1n}+x_{1n}\\\\\n",
        "\\vdots & \\ddots & \\vdots \\\\ \n",
        "x_{m1}+y_{m1} & \\ldots & x_{mn}+y_{mn}\n",
        "\\end{bmatrix}$ + "
      ],
      "metadata": {
        "id": "58iBMBz_qMBS"
      }
    },
    {
      "cell_type": "code",
      "source": [
        "# Cộng 2 ma trậntrận\n",
        "X = np.array([1,2,3,4,5,6]).reshape((2,3))\n",
        "Y = np.array([6,5,4,3,2,1]).reshape((2,3))\n",
        "Z = X + Y\n",
        "print(Z)\n",
        "print(Z.ndim, '; ', Z.shape)"
      ],
      "metadata": {
        "colab": {
          "base_uri": "https://localhost:8080/"
        },
        "id": "0d1BY4YjZEP0",
        "outputId": "250a36dc-9255-494c-b7f5-6f0fa3faf702"
      },
      "execution_count": null,
      "outputs": [
        {
          "output_type": "stream",
          "name": "stdout",
          "text": [
            "[[7 7 7]\n",
            " [7 7 7]]\n",
            "2 ;  (2, 3)\n"
          ]
        }
      ]
    },
    {
      "cell_type": "markdown",
      "source": [
        "Phép nhân ma trận với 1 đại lượng vô hướng $λ ∈ R, X ∈ R^{m*n}$\n",
        "> $f(λ,x): R^{n*m} → R^{n*m}$\n",
        "\n",
        "$λ.\\begin{bmatrix}\n",
        "x_{11} & \\ldots & x_{1n}\\\\\n",
        "\\vdots & \\ddots & \\vdots \\\\ \n",
        "x_{m1} & \\ldots & x_{mn}\n",
        "\\end{bmatrix}$ = \n",
        "$\\begin{bmatrix}\n",
        "λ.x_{11} & \\ldots & λ.x_{1n}\\\\\n",
        "\\vdots & \\ddots & \\vdots \\\\ \n",
        "λ.x_{m1} & \\ldots & λ.x_{mn}\n",
        "\\end{bmatrix}$"
      ],
      "metadata": {
        "id": "KYgQX72Gr1Ne"
      }
    },
    {
      "cell_type": "code",
      "source": [
        "X = np.array([1,2,3,4,5,6]).reshape((2,3))\n",
        "a = 2\n",
        "Z = a*X\n",
        "print(Z)\n",
        "print(Z.ndim, '; ', Z.shape)"
      ],
      "metadata": {
        "colab": {
          "base_uri": "https://localhost:8080/"
        },
        "id": "KjyCxzJLZkiE",
        "outputId": "b9e543d1-e6e2-475f-8a1f-c447af5f7ef8"
      },
      "execution_count": null,
      "outputs": [
        {
          "output_type": "stream",
          "name": "stdout",
          "text": [
            "[[ 2  4  6]\n",
            " [ 8 10 12]]\n",
            "2 ;  (2, 3)\n"
          ]
        }
      ]
    },
    {
      "cell_type": "markdown",
      "source": [
        "Phép chuyển vị ma trận **(transpose)**:$X ∈ R^{m*n}$\n",
        "> $f(X): R^{m×n} → R^{n×m}$\n",
        "\n",
        "> $X → X^T$"
      ],
      "metadata": {
        "id": "oBw9NQfutFxC"
      }
    },
    {
      "cell_type": "code",
      "source": [
        "# Phép chuyển vị\n",
        "X = np.array([1,2,3,4,5,6]).reshape((2,3))\n",
        "Z = X.T\n",
        "print(Z)\n",
        "print(Z.ndim, '; ', Z.shape)"
      ],
      "metadata": {
        "colab": {
          "base_uri": "https://localhost:8080/"
        },
        "id": "U-oMgF5OZwlQ",
        "outputId": "3a2389c3-7094-405a-c7cb-50c142753d1b"
      },
      "execution_count": null,
      "outputs": [
        {
          "output_type": "stream",
          "name": "stdout",
          "text": [
            "[[1 4]\n",
            " [2 5]\n",
            " [3 6]]\n",
            "2 ;  (3, 2)\n"
          ]
        }
      ]
    },
    {
      "cell_type": "markdown",
      "source": [
        "Phép nhân 2 ma trận:$X ∈ R^{m*n}, Y∈ R^{n*k} $\n",
        "> $f(X,Y): R^{m×n} * R^{n×k}→ R^{n×k}$\n",
        "\n",
        "$\\begin{bmatrix}\n",
        "x_{11} & \\ldots & x_{1n}\\\\\n",
        "\\vdots & \\ddots & \\vdots \\\\ \n",
        "x_{m1} & \\ldots & x_{mn}\n",
        "\\end{bmatrix}$\n",
        "$\\begin{bmatrix}\n",
        "y_{11} & \\ldots & y_{1k}\\\\\n",
        "\\vdots & \\ddots & \\vdots \\\\ \n",
        "y_{n1} & \\ldots & y_{nk}\n",
        "\\end{bmatrix}$ "
      ],
      "metadata": {
        "id": "QDoODh2PtwF3"
      }
    },
    {
      "cell_type": "code",
      "source": [
        "X = np.array([1,2,3,4,5,6]).reshape((2,3))\n",
        "Y = np.array([6,5,4,3,2,1]).reshape((3,2))\n",
        "Z = np.dot(X,Y)\n",
        "print(Z)\n",
        "print(Z.ndim, '; ', Z.shape)"
      ],
      "metadata": {
        "colab": {
          "base_uri": "https://localhost:8080/"
        },
        "id": "vcQ8ghJybDfP",
        "outputId": "4b77b560-1b02-49d7-c800-2e9159cb8374"
      },
      "execution_count": null,
      "outputs": [
        {
          "output_type": "stream",
          "name": "stdout",
          "text": [
            "[[20 14]\n",
            " [56 41]]\n",
            "2 ;  (2, 2)\n"
          ]
        }
      ]
    },
    {
      "cell_type": "markdown",
      "source": [
        "Phép nhân các phần tử có vị trí tương ứng (elementwise multiplication hay còn gội là **Hadamard product**) của 2 ma trận:\n",
        "> $f(X, Y): R^{m×n}∘R^{m×n} → R^{m×n}$\n",
        "\n",
        "$\\begin{bmatrix}\n",
        "x_{11} & \\ldots & x_{1n}\\\\\n",
        "\\vdots & \\ddots & \\vdots \\\\ \n",
        "x_{m1} & \\ldots & x_{mn}\n",
        "\\end{bmatrix}$∘\n",
        "$\\begin{bmatrix}\n",
        "y_{11} & \\ldots & y_{1n}\\\\\n",
        "\\vdots & \\ddots & \\vdots \\\\ \n",
        "y_{m1} & \\ldots & y_{mn}\n",
        "\\end{bmatrix}$ =\n",
        "$\\begin{bmatrix}\n",
        "x_{11}y_{11} & \\ldots & y_{1k}\\\\\n",
        "\\vdots & \\ddots & \\vdots \\\\ \n",
        "y_{n1} & \\ldots & y_{nk}\n",
        "\\end{bmatrix}$\n",
        "\n",
        "**Lưu ý**: phép nhân này được sử dụng rất nhiều trong lĩnh vực Học\n",
        "máy và Học sâu."
      ],
      "metadata": {
        "id": "X-QhKLXIvLzL"
      }
    },
    {
      "cell_type": "code",
      "source": [
        "X = np.array([1,2,3,4,5,6]).reshape((2,3))\n",
        "Y = np.array([6,5,4,3,2,1]).reshape((2,3))\n",
        "Z = np.multiply(X,Y) #hoặc Z = X*Y\n",
        "print(Z)\n",
        "print(Z.ndim, '; ', Z.shape)"
      ],
      "metadata": {
        "colab": {
          "base_uri": "https://localhost:8080/"
        },
        "id": "dXrPhCjubRvT",
        "outputId": "3ba895a2-f9d2-4809-9a93-d3e9db04c67d"
      },
      "execution_count": null,
      "outputs": [
        {
          "output_type": "stream",
          "name": "stdout",
          "text": [
            "[[ 6 10 12]\n",
            " [12 10  6]]\n",
            "2 ;  (2, 3)\n"
          ]
        }
      ]
    },
    {
      "cell_type": "markdown",
      "source": [
        "**Tạo vector cột dạng ma trận đặc biệt $R^{m*1}$**"
      ],
      "metadata": {
        "id": "ygmsLUEMbfvQ"
      }
    },
    {
      "cell_type": "code",
      "source": [
        "x = np.array([1,2,3,4,5]).reshape((5,1))\n",
        "print(x)\n",
        "print(x.ndim, '; ', x.shape)"
      ],
      "metadata": {
        "colab": {
          "base_uri": "https://localhost:8080/"
        },
        "id": "A0uH-7obbbgd",
        "outputId": "12c6fda0-a165-486a-e67d-9239f6e23159"
      },
      "execution_count": null,
      "outputs": [
        {
          "output_type": "stream",
          "name": "stdout",
          "text": [
            "[[1]\n",
            " [2]\n",
            " [3]\n",
            " [4]\n",
            " [5]]\n",
            "2 ;  (5, 1)\n"
          ]
        }
      ]
    },
    {
      "cell_type": "markdown",
      "source": [
        "**Lấy ra 1 vector hàng từ ma trận X và chuyển thành ma trận đặc\n",
        "biệt dạng $R^{1*n}$**"
      ],
      "metadata": {
        "id": "ODKIu8shbyRr"
      }
    },
    {
      "cell_type": "code",
      "source": [
        "X = np.array([1,2,3,4,5,6]).reshape((2,3))\n",
        "m = X.shape[0]\n",
        "n = X.shape[1]\n",
        "print('m = ', m, '; n = ', n)\n",
        "x = X[0, :]\n",
        "print(x)\n",
        "print(x.ndim, '; ', x.shape)\n",
        "x = x.reshape((1,n))\n",
        "print(x)\n",
        "print(x.ndim, '; ', x.shape)"
      ],
      "metadata": {
        "colab": {
          "base_uri": "https://localhost:8080/"
        },
        "id": "x6bKXeU1btS4",
        "outputId": "64e2fa27-ed6e-42ca-d644-e7cf9365f166"
      },
      "execution_count": null,
      "outputs": [
        {
          "output_type": "stream",
          "name": "stdout",
          "text": [
            "m =  2 ; n =  3\n",
            "[1 2 3]\n",
            "1 ;  (3,)\n",
            "[[1 2 3]]\n",
            "2 ;  (1, 3)\n"
          ]
        }
      ]
    },
    {
      "cell_type": "markdown",
      "source": [
        "**Lấy ra 1 vector cột từ ma trận X và chuyển thành ma trận đặc\n",
        "biệt dạng $R^{m*1}$**"
      ],
      "metadata": {
        "id": "WpWDhsBfcEus"
      }
    },
    {
      "cell_type": "code",
      "source": [
        "X = np.array([1,2,3,4,5,6]).reshape((2,3))\n",
        "m = X.shape[0]\n",
        "n = X.shape[1]\n",
        "print('m = ', m, '; n = ', n)\n",
        "x = X[:,1]\n",
        "print(x)\n",
        "print(x.ndim, '; ', x.shape)\n",
        "x = x.reshape((m,1))\n",
        "print(x)\n",
        "print(x.ndim, '; ', x.shape)"
      ],
      "metadata": {
        "colab": {
          "base_uri": "https://localhost:8080/"
        },
        "id": "k1VrC9Ozb7OF",
        "outputId": "2fc371a4-7c4d-40d8-f9d5-00312a811b2b"
      },
      "execution_count": null,
      "outputs": [
        {
          "output_type": "stream",
          "name": "stdout",
          "text": [
            "m =  2 ; n =  3\n",
            "[2 5]\n",
            "1 ;  (2,)\n",
            "[[2]\n",
            " [5]]\n",
            "2 ;  (2, 1)\n"
          ]
        }
      ]
    },
    {
      "cell_type": "markdown",
      "source": [
        "**Xếp thêm 1 vector cột vào đầu ma trận: $x ∈ R^m$ hay $x ∈R^{m×1}, X ∈ R^{m×n},\n",
        "X = [x, X]$**"
      ],
      "metadata": {
        "id": "wGlUODNbcPtd"
      }
    },
    {
      "cell_type": "code",
      "source": [
        "X =np.array([1,2,3,4,5,6,7,8,9,10,11,12]).reshape((4,3))\n",
        "x = np.array([1,1,1,1]).reshape((4,1))\n",
        "X = np.column_stack([x,X])\n",
        "print(X)\n",
        "print(X.ndim, '; ', X.shape)"
      ],
      "metadata": {
        "colab": {
          "base_uri": "https://localhost:8080/"
        },
        "id": "_C7OBHyKcLxv",
        "outputId": "192b2817-48db-4af6-e3b5-f8c40d6fe92d"
      },
      "execution_count": null,
      "outputs": [
        {
          "output_type": "stream",
          "name": "stdout",
          "text": [
            "[[ 1  1  2  3]\n",
            " [ 1  4  5  6]\n",
            " [ 1  7  8  9]\n",
            " [ 1 10 11 12]]\n",
            "2 ;  (4, 4)\n"
          ]
        }
      ]
    },
    {
      "cell_type": "markdown",
      "source": [
        "**Tách 1 ma trận data ban đầu gồm $n$ cột thành 1 ma trận con $X$\n",
        "chứa các $n-1$ cột đầu tiên và 1 vector cột $y$ lấy ra từ cột cuối cùng\n",
        "của data.**"
      ],
      "metadata": {
        "id": "qOJwaIIKc6ib"
      }
    },
    {
      "cell_type": "code",
      "source": [
        "data = np.array([[10,22,13,1],\n",
        "[9,6,5,0],\n",
        "[8,12,4,1],\n",
        "[6,5,7,0]])\n",
        "X = data[:,:-1]\n",
        "y = data[:,-1].reshape((data.shape[0], 1))\n",
        "print(X)\n",
        "print(X.ndim, '; ', X.shape)\n",
        "print(y)\n",
        "print(y.ndim, '; ', y.shape)"
      ],
      "metadata": {
        "colab": {
          "base_uri": "https://localhost:8080/"
        },
        "id": "nb7FV0kBc2Dn",
        "outputId": "20a280f5-a85e-4aee-8dea-c8acd8c50bed"
      },
      "execution_count": null,
      "outputs": [
        {
          "output_type": "stream",
          "name": "stdout",
          "text": [
            "[[10 22 13]\n",
            " [ 9  6  5]\n",
            " [ 8 12  4]\n",
            " [ 6  5  7]]\n",
            "2 ;  (4, 3)\n",
            "[[1]\n",
            " [0]\n",
            " [1]\n",
            " [0]]\n",
            "2 ;  (4, 1)\n"
          ]
        }
      ]
    },
    {
      "cell_type": "markdown",
      "source": [
        "# **CÁC PHÉP TOÁN VỚI TENSOR HẠNG CAO ($N>=3$)**\n",
        "\n",
        "\n",
        "> Do cấu trúc Tensor được dùng chủ yếu trong các bài toán Học sâu (deep learning), nên ở đây chỉ trình bày một số thao tác cơ bản như khởi tạo Tensor hạng cao (n ≥ 3), và các thao tác thêm vào/lấy ra các phần tử của Tensor để phục vụ mục đích cho bài tập đọc kho ảnh, lấy dữ liệu ảnh để nhận dạng ở mức độ cơ bản.\n",
        "\n",
        "> Các phép toán với Tensor sẽ được giới thiệu đầy đủ ở học phần Học sâu.\n"
      ],
      "metadata": {
        "id": "HmDsyVg6dNeN"
      }
    },
    {
      "cell_type": "markdown",
      "source": [
        "**Tạo 1 tensor $T ∈ R^{m×n×k}$ với $m = 2, n = 2$ và $k = 3$, các giá trị \n",
        "được sinh ngẫu nhiên.**"
      ],
      "metadata": {
        "id": "Y9ozMJK-dwiR"
      }
    },
    {
      "cell_type": "code",
      "source": [
        "import numpy as np\n",
        "m=2\n",
        "n=2\n",
        "k=3\n",
        "T = np.random.randint(low=-5,\n",
        "high=5,size=m*n*k).reshape(k,m,n)\n",
        "print(T)"
      ],
      "metadata": {
        "colab": {
          "base_uri": "https://localhost:8080/"
        },
        "id": "f4PSj5FtdIfI",
        "outputId": "170e3347-0033-4e81-b9ab-126084d0912f"
      },
      "execution_count": null,
      "outputs": [
        {
          "output_type": "stream",
          "name": "stdout",
          "text": [
            "[[[-2 -2]\n",
            "  [-3 -2]]\n",
            "\n",
            " [[-1  0]\n",
            "  [-4 -1]]\n",
            "\n",
            " [[-2 -1]\n",
            "  [-3 -1]]]\n"
          ]
        }
      ]
    },
    {
      "cell_type": "markdown",
      "source": [
        "**Tạo 1 tensor $T2 ∈ R^{m×n×k×q}$ chứa 2 tensor $t1,t2 ∈ R^{m×n×k}$, biết $t1$ và $t2$ được sinh ngẫu nhiên**"
      ],
      "metadata": {
        "id": "Q6J0EPI3eH0R"
      }
    },
    {
      "cell_type": "code",
      "source": [
        "import numpy as np\n",
        "m=2\n",
        "n=2\n",
        "k=3\n",
        "\n",
        "t1 = np.random.randint(low=-5, high=5,size=m*n*k).reshape(k,m,n)\n",
        "t2 = np.random.randint(low=-5, high=5,size=m*n*k).reshape(k,m,n)\n",
        "t3 = np.random.randint(low=-5, high=5,size=m*n*k).reshape(k,m,n)\n",
        "t4 = np.random.randint(low=-5, high=5,size=m*n*k).reshape(k,m,n)\n",
        "\n",
        "T = np.stack((t1, t2, t3, t4), axis=-1)\n",
        "print(T.shape)\n",
        "x = T[:,:,:,0]\n",
        "print(x.shape)\n",
        "m1 = x[0,:,:]\n",
        "print(m1)\n",
        "print(m1.shape)"
      ],
      "metadata": {
        "colab": {
          "base_uri": "https://localhost:8080/"
        },
        "id": "oDc3V9BreCxY",
        "outputId": "e63bab14-ad0d-49d1-a810-fc5ff5f3f18a"
      },
      "execution_count": null,
      "outputs": [
        {
          "output_type": "stream",
          "name": "stdout",
          "text": [
            "(3, 2, 2, 4)\n",
            "(3, 2, 2)\n",
            "[[-3  4]\n",
            " [-2  3]]\n",
            "(2, 2)\n"
          ]
        }
      ]
    }
  ]
}